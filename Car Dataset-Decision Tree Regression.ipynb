{
 "cells": [
  {
   "cell_type": "markdown",
   "id": "developing-assignment",
   "metadata": {
    "id": "developing-assignment"
   },
   "source": [
    "## Decision Tree- Regression"
   ]
  },
  {
   "cell_type": "code",
   "execution_count": 1,
   "id": "threaded-frank",
   "metadata": {
    "executionInfo": {
     "elapsed": 1158,
     "status": "ok",
     "timestamp": 1697247322123,
     "user": {
      "displayName": "Orion Cloud",
      "userId": "13399699001942214669"
     },
     "user_tz": -180
    },
    "id": "threaded-frank"
   },
   "outputs": [],
   "source": [
    "import pandas as pd\n",
    "import numpy as np\n",
    "import matplotlib.pyplot as plt\n",
    "import seaborn as sns\n",
    "\n",
    "plt.rcParams[\"figure.figsize\"] = (8,4)\n",
    "import warnings\n",
    "warnings.filterwarnings('ignore')\n",
    "pd.set_option('display.max_rows', 1000)\n",
    "#pd.set_option('display.max_columns', 1000)\n",
    "#pd.set_option('display.width', 1000)"
   ]
  },
  {
   "cell_type": "code",
   "execution_count": 2,
   "id": "resident-berkeley",
   "metadata": {
    "colab": {
     "base_uri": "https://localhost:8080/",
     "height": 206
    },
    "executionInfo": {
     "elapsed": 8,
     "status": "ok",
     "timestamp": 1697247322123,
     "user": {
      "displayName": "Orion Cloud",
      "userId": "13399699001942214669"
     },
     "user_tz": -180
    },
    "id": "resident-berkeley",
    "outputId": "26649065-6d0f-4c9f-b5d3-6832471a7560"
   },
   "outputs": [
    {
     "data": {
      "text/html": [
       "<div>\n",
       "<style scoped>\n",
       "    .dataframe tbody tr th:only-of-type {\n",
       "        vertical-align: middle;\n",
       "    }\n",
       "\n",
       "    .dataframe tbody tr th {\n",
       "        vertical-align: top;\n",
       "    }\n",
       "\n",
       "    .dataframe thead th {\n",
       "        text-align: right;\n",
       "    }\n",
       "</style>\n",
       "<table border=\"1\" class=\"dataframe\">\n",
       "  <thead>\n",
       "    <tr style=\"text-align: right;\">\n",
       "      <th></th>\n",
       "      <th>Car_Name</th>\n",
       "      <th>Year</th>\n",
       "      <th>Selling_Price</th>\n",
       "      <th>Present_Price</th>\n",
       "      <th>Kms_Driven</th>\n",
       "      <th>Fuel_Type</th>\n",
       "      <th>Seller_Type</th>\n",
       "      <th>Transmission</th>\n",
       "      <th>Owner</th>\n",
       "    </tr>\n",
       "  </thead>\n",
       "  <tbody>\n",
       "    <tr>\n",
       "      <th>0</th>\n",
       "      <td>ritz</td>\n",
       "      <td>2014</td>\n",
       "      <td>3.35</td>\n",
       "      <td>5.59</td>\n",
       "      <td>27000</td>\n",
       "      <td>Petrol</td>\n",
       "      <td>Dealer</td>\n",
       "      <td>Manual</td>\n",
       "      <td>0</td>\n",
       "    </tr>\n",
       "    <tr>\n",
       "      <th>1</th>\n",
       "      <td>sx4</td>\n",
       "      <td>2013</td>\n",
       "      <td>4.75</td>\n",
       "      <td>9.54</td>\n",
       "      <td>43000</td>\n",
       "      <td>Diesel</td>\n",
       "      <td>Dealer</td>\n",
       "      <td>Manual</td>\n",
       "      <td>0</td>\n",
       "    </tr>\n",
       "    <tr>\n",
       "      <th>2</th>\n",
       "      <td>ciaz</td>\n",
       "      <td>2017</td>\n",
       "      <td>7.25</td>\n",
       "      <td>9.85</td>\n",
       "      <td>6900</td>\n",
       "      <td>Petrol</td>\n",
       "      <td>Dealer</td>\n",
       "      <td>Manual</td>\n",
       "      <td>0</td>\n",
       "    </tr>\n",
       "    <tr>\n",
       "      <th>3</th>\n",
       "      <td>wagon r</td>\n",
       "      <td>2011</td>\n",
       "      <td>2.85</td>\n",
       "      <td>4.15</td>\n",
       "      <td>5200</td>\n",
       "      <td>Petrol</td>\n",
       "      <td>Dealer</td>\n",
       "      <td>Manual</td>\n",
       "      <td>0</td>\n",
       "    </tr>\n",
       "    <tr>\n",
       "      <th>4</th>\n",
       "      <td>swift</td>\n",
       "      <td>2014</td>\n",
       "      <td>4.60</td>\n",
       "      <td>6.87</td>\n",
       "      <td>42450</td>\n",
       "      <td>Diesel</td>\n",
       "      <td>Dealer</td>\n",
       "      <td>Manual</td>\n",
       "      <td>0</td>\n",
       "    </tr>\n",
       "  </tbody>\n",
       "</table>\n",
       "</div>"
      ],
      "text/plain": [
       "  Car_Name  Year  Selling_Price  Present_Price  Kms_Driven Fuel_Type  \\\n",
       "0     ritz  2014           3.35           5.59       27000    Petrol   \n",
       "1      sx4  2013           4.75           9.54       43000    Diesel   \n",
       "2     ciaz  2017           7.25           9.85        6900    Petrol   \n",
       "3  wagon r  2011           2.85           4.15        5200    Petrol   \n",
       "4    swift  2014           4.60           6.87       42450    Diesel   \n",
       "\n",
       "  Seller_Type Transmission  Owner  \n",
       "0      Dealer       Manual      0  \n",
       "1      Dealer       Manual      0  \n",
       "2      Dealer       Manual      0  \n",
       "3      Dealer       Manual      0  \n",
       "4      Dealer       Manual      0  "
      ]
     },
     "execution_count": 2,
     "metadata": {},
     "output_type": "execute_result"
    }
   ],
   "source": [
    "df=pd.read_csv(\"car_dataset.csv\")\n",
    "df.head()"
   ]
  },
  {
   "cell_type": "code",
   "execution_count": 3,
   "id": "improved-destruction",
   "metadata": {
    "colab": {
     "base_uri": "https://localhost:8080/"
    },
    "executionInfo": {
     "elapsed": 7,
     "status": "ok",
     "timestamp": 1697247322123,
     "user": {
      "displayName": "Orion Cloud",
      "userId": "13399699001942214669"
     },
     "user_tz": -180
    },
    "id": "improved-destruction",
    "outputId": "107bbffe-577e-46eb-89fa-81776baf63ad"
   },
   "outputs": [
    {
     "data": {
      "text/plain": [
       "(301, 9)"
      ]
     },
     "execution_count": 3,
     "metadata": {},
     "output_type": "execute_result"
    }
   ],
   "source": [
    "df.shape"
   ]
  },
  {
   "cell_type": "code",
   "execution_count": 4,
   "id": "available-berkeley",
   "metadata": {
    "colab": {
     "base_uri": "https://localhost:8080/"
    },
    "executionInfo": {
     "elapsed": 5,
     "status": "ok",
     "timestamp": 1697247322123,
     "user": {
      "displayName": "Orion Cloud",
      "userId": "13399699001942214669"
     },
     "user_tz": -180
    },
    "id": "available-berkeley",
    "outputId": "bfb9740b-fe05-4d8f-9e05-f1cc6dbfbcda"
   },
   "outputs": [
    {
     "name": "stdout",
     "output_type": "stream",
     "text": [
      "<class 'pandas.core.frame.DataFrame'>\n",
      "RangeIndex: 301 entries, 0 to 300\n",
      "Data columns (total 9 columns):\n",
      " #   Column         Non-Null Count  Dtype  \n",
      "---  ------         --------------  -----  \n",
      " 0   Car_Name       301 non-null    object \n",
      " 1   Year           301 non-null    int64  \n",
      " 2   Selling_Price  301 non-null    float64\n",
      " 3   Present_Price  301 non-null    float64\n",
      " 4   Kms_Driven     301 non-null    int64  \n",
      " 5   Fuel_Type      301 non-null    object \n",
      " 6   Seller_Type    301 non-null    object \n",
      " 7   Transmission   301 non-null    object \n",
      " 8   Owner          301 non-null    int64  \n",
      "dtypes: float64(2), int64(3), object(4)\n",
      "memory usage: 21.3+ KB\n"
     ]
    }
   ],
   "source": [
    "df.info()"
   ]
  },
  {
   "cell_type": "code",
   "execution_count": 5,
   "id": "extended-maximum",
   "metadata": {
    "colab": {
     "base_uri": "https://localhost:8080/"
    },
    "executionInfo": {
     "elapsed": 5,
     "status": "ok",
     "timestamp": 1697247322123,
     "user": {
      "displayName": "Orion Cloud",
      "userId": "13399699001942214669"
     },
     "user_tz": -180
    },
    "id": "extended-maximum",
    "outputId": "ffdf3716-d522-4b96-cb42-06661f1c3241"
   },
   "outputs": [
    {
     "data": {
      "text/plain": [
       "Car_Name         False\n",
       "Year             False\n",
       "Selling_Price    False\n",
       "Present_Price    False\n",
       "Kms_Driven       False\n",
       "Fuel_Type        False\n",
       "Seller_Type      False\n",
       "Transmission     False\n",
       "Owner            False\n",
       "dtype: bool"
      ]
     },
     "execution_count": 5,
     "metadata": {},
     "output_type": "execute_result"
    }
   ],
   "source": [
    "df.isnull().any()"
   ]
  },
  {
   "cell_type": "code",
   "execution_count": 6,
   "id": "iraqi-invitation",
   "metadata": {
    "colab": {
     "base_uri": "https://localhost:8080/",
     "height": 206
    },
    "executionInfo": {
     "elapsed": 4,
     "status": "ok",
     "timestamp": 1697247322123,
     "user": {
      "displayName": "Orion Cloud",
      "userId": "13399699001942214669"
     },
     "user_tz": -180
    },
    "id": "iraqi-invitation",
    "outputId": "dd6bc9d8-cf05-4717-eb50-388e04788096"
   },
   "outputs": [
    {
     "data": {
      "text/html": [
       "<div>\n",
       "<style scoped>\n",
       "    .dataframe tbody tr th:only-of-type {\n",
       "        vertical-align: middle;\n",
       "    }\n",
       "\n",
       "    .dataframe tbody tr th {\n",
       "        vertical-align: top;\n",
       "    }\n",
       "\n",
       "    .dataframe thead th {\n",
       "        text-align: right;\n",
       "    }\n",
       "</style>\n",
       "<table border=\"1\" class=\"dataframe\">\n",
       "  <thead>\n",
       "    <tr style=\"text-align: right;\">\n",
       "      <th></th>\n",
       "      <th>count</th>\n",
       "      <th>mean</th>\n",
       "      <th>std</th>\n",
       "      <th>min</th>\n",
       "      <th>25%</th>\n",
       "      <th>50%</th>\n",
       "      <th>75%</th>\n",
       "      <th>max</th>\n",
       "    </tr>\n",
       "  </thead>\n",
       "  <tbody>\n",
       "    <tr>\n",
       "      <th>Year</th>\n",
       "      <td>301.0</td>\n",
       "      <td>2013.627907</td>\n",
       "      <td>2.891554</td>\n",
       "      <td>2003.00</td>\n",
       "      <td>2012.0</td>\n",
       "      <td>2014.0</td>\n",
       "      <td>2016.0</td>\n",
       "      <td>2018.0</td>\n",
       "    </tr>\n",
       "    <tr>\n",
       "      <th>Selling_Price</th>\n",
       "      <td>301.0</td>\n",
       "      <td>4.661296</td>\n",
       "      <td>5.082812</td>\n",
       "      <td>0.10</td>\n",
       "      <td>0.9</td>\n",
       "      <td>3.6</td>\n",
       "      <td>6.0</td>\n",
       "      <td>35.0</td>\n",
       "    </tr>\n",
       "    <tr>\n",
       "      <th>Present_Price</th>\n",
       "      <td>301.0</td>\n",
       "      <td>7.628472</td>\n",
       "      <td>8.644115</td>\n",
       "      <td>0.32</td>\n",
       "      <td>1.2</td>\n",
       "      <td>6.4</td>\n",
       "      <td>9.9</td>\n",
       "      <td>92.6</td>\n",
       "    </tr>\n",
       "    <tr>\n",
       "      <th>Kms_Driven</th>\n",
       "      <td>301.0</td>\n",
       "      <td>36947.205980</td>\n",
       "      <td>38886.883882</td>\n",
       "      <td>500.00</td>\n",
       "      <td>15000.0</td>\n",
       "      <td>32000.0</td>\n",
       "      <td>48767.0</td>\n",
       "      <td>500000.0</td>\n",
       "    </tr>\n",
       "    <tr>\n",
       "      <th>Owner</th>\n",
       "      <td>301.0</td>\n",
       "      <td>0.043189</td>\n",
       "      <td>0.247915</td>\n",
       "      <td>0.00</td>\n",
       "      <td>0.0</td>\n",
       "      <td>0.0</td>\n",
       "      <td>0.0</td>\n",
       "      <td>3.0</td>\n",
       "    </tr>\n",
       "  </tbody>\n",
       "</table>\n",
       "</div>"
      ],
      "text/plain": [
       "               count          mean           std      min      25%      50%  \\\n",
       "Year           301.0   2013.627907      2.891554  2003.00   2012.0   2014.0   \n",
       "Selling_Price  301.0      4.661296      5.082812     0.10      0.9      3.6   \n",
       "Present_Price  301.0      7.628472      8.644115     0.32      1.2      6.4   \n",
       "Kms_Driven     301.0  36947.205980  38886.883882   500.00  15000.0  32000.0   \n",
       "Owner          301.0      0.043189      0.247915     0.00      0.0      0.0   \n",
       "\n",
       "                   75%       max  \n",
       "Year            2016.0    2018.0  \n",
       "Selling_Price      6.0      35.0  \n",
       "Present_Price      9.9      92.6  \n",
       "Kms_Driven     48767.0  500000.0  \n",
       "Owner              0.0       3.0  "
      ]
     },
     "execution_count": 6,
     "metadata": {},
     "output_type": "execute_result"
    }
   ],
   "source": [
    "df.describe().T"
   ]
  },
  {
   "cell_type": "code",
   "execution_count": 7,
   "id": "similar-metabolism",
   "metadata": {
    "colab": {
     "base_uri": "https://localhost:8080/",
     "height": 374
    },
    "executionInfo": {
     "elapsed": 882,
     "status": "ok",
     "timestamp": 1697247323002,
     "user": {
      "displayName": "Orion Cloud",
      "userId": "13399699001942214669"
     },
     "user_tz": -180
    },
    "id": "similar-metabolism",
    "outputId": "4f3803b9-6a03-478e-d844-1b68ff0e8f0c"
   },
   "outputs": [
    {
     "data": {
      "image/png": "[encoded data removed]",
      "text/plain": [
       "<Figure size 800x400 with 2 Axes>"
      ]
     },
     "metadata": {},
     "output_type": "display_data"
    }
   ],
   "source": [
    "sns.heatmap(df.corr(), annot=True, vmin=-1, vmax=1, cmap=\"coolwarm\")\n",
    "plt.show()"
   ]
  },
  {
   "cell_type": "code",
   "execution_count": 8,
   "id": "civil-footwear",
   "metadata": {
    "colab": {
     "base_uri": "https://localhost:8080/",
     "height": 206
    },
    "executionInfo": {
     "elapsed": 6,
     "status": "ok",
     "timestamp": 1697247323002,
     "user": {
      "displayName": "Orion Cloud",
      "userId": "13399699001942214669"
     },
     "user_tz": -180
    },
    "id": "civil-footwear",
    "outputId": "0e75b329-1114-44a5-c8cf-009d169f4114"
   },
   "outputs": [
    {
     "data": {
      "text/html": [
       "<div>\n",
       "<style scoped>\n",
       "    .dataframe tbody tr th:only-of-type {\n",
       "        vertical-align: middle;\n",
       "    }\n",
       "\n",
       "    .dataframe tbody tr th {\n",
       "        vertical-align: top;\n",
       "    }\n",
       "\n",
       "    .dataframe thead th {\n",
       "        text-align: right;\n",
       "    }\n",
       "</style>\n",
       "<table border=\"1\" class=\"dataframe\">\n",
       "  <thead>\n",
       "    <tr style=\"text-align: right;\">\n",
       "      <th></th>\n",
       "      <th>Car_Name</th>\n",
       "      <th>Year</th>\n",
       "      <th>Selling_Price</th>\n",
       "      <th>Present_Price</th>\n",
       "      <th>Kms_Driven</th>\n",
       "      <th>Fuel_Type</th>\n",
       "      <th>Seller_Type</th>\n",
       "      <th>Transmission</th>\n",
       "      <th>Owner</th>\n",
       "    </tr>\n",
       "  </thead>\n",
       "  <tbody>\n",
       "    <tr>\n",
       "      <th>0</th>\n",
       "      <td>ritz</td>\n",
       "      <td>2014</td>\n",
       "      <td>3.35</td>\n",
       "      <td>5.59</td>\n",
       "      <td>27000</td>\n",
       "      <td>Petrol</td>\n",
       "      <td>Dealer</td>\n",
       "      <td>Manual</td>\n",
       "      <td>0</td>\n",
       "    </tr>\n",
       "    <tr>\n",
       "      <th>1</th>\n",
       "      <td>sx4</td>\n",
       "      <td>2013</td>\n",
       "      <td>4.75</td>\n",
       "      <td>9.54</td>\n",
       "      <td>43000</td>\n",
       "      <td>Diesel</td>\n",
       "      <td>Dealer</td>\n",
       "      <td>Manual</td>\n",
       "      <td>0</td>\n",
       "    </tr>\n",
       "    <tr>\n",
       "      <th>2</th>\n",
       "      <td>ciaz</td>\n",
       "      <td>2017</td>\n",
       "      <td>7.25</td>\n",
       "      <td>9.85</td>\n",
       "      <td>6900</td>\n",
       "      <td>Petrol</td>\n",
       "      <td>Dealer</td>\n",
       "      <td>Manual</td>\n",
       "      <td>0</td>\n",
       "    </tr>\n",
       "    <tr>\n",
       "      <th>3</th>\n",
       "      <td>wagon r</td>\n",
       "      <td>2011</td>\n",
       "      <td>2.85</td>\n",
       "      <td>4.15</td>\n",
       "      <td>5200</td>\n",
       "      <td>Petrol</td>\n",
       "      <td>Dealer</td>\n",
       "      <td>Manual</td>\n",
       "      <td>0</td>\n",
       "    </tr>\n",
       "    <tr>\n",
       "      <th>4</th>\n",
       "      <td>swift</td>\n",
       "      <td>2014</td>\n",
       "      <td>4.60</td>\n",
       "      <td>6.87</td>\n",
       "      <td>42450</td>\n",
       "      <td>Diesel</td>\n",
       "      <td>Dealer</td>\n",
       "      <td>Manual</td>\n",
       "      <td>0</td>\n",
       "    </tr>\n",
       "  </tbody>\n",
       "</table>\n",
       "</div>"
      ],
      "text/plain": [
       "  Car_Name  Year  Selling_Price  Present_Price  Kms_Driven Fuel_Type  \\\n",
       "0     ritz  2014           3.35           5.59       27000    Petrol   \n",
       "1      sx4  2013           4.75           9.54       43000    Diesel   \n",
       "2     ciaz  2017           7.25           9.85        6900    Petrol   \n",
       "3  wagon r  2011           2.85           4.15        5200    Petrol   \n",
       "4    swift  2014           4.60           6.87       42450    Diesel   \n",
       "\n",
       "  Seller_Type Transmission  Owner  \n",
       "0      Dealer       Manual      0  \n",
       "1      Dealer       Manual      0  \n",
       "2      Dealer       Manual      0  \n",
       "3      Dealer       Manual      0  \n",
       "4      Dealer       Manual      0  "
      ]
     },
     "execution_count": 8,
     "metadata": {},
     "output_type": "execute_result"
    }
   ],
   "source": [
    "df.head()"
   ]
  },
  {
   "cell_type": "code",
   "execution_count": 9,
   "id": "attached-university",
   "metadata": {
    "executionInfo": {
     "elapsed": 5,
     "status": "ok",
     "timestamp": 1697247323002,
     "user": {
      "displayName": "Orion Cloud",
      "userId": "13399699001942214669"
     },
     "user_tz": -180
    },
    "id": "attached-university"
   },
   "outputs": [],
   "source": [
    "df[\"vehicle_age\"]=2022-df.Year"
   ]
  },
  {
   "cell_type": "code",
   "execution_count": 10,
   "id": "f03d7ed8",
   "metadata": {
    "colab": {
     "base_uri": "https://localhost:8080/",
     "height": 206
    },
    "executionInfo": {
     "elapsed": 4,
     "status": "ok",
     "timestamp": 1697247323002,
     "user": {
      "displayName": "Orion Cloud",
      "userId": "13399699001942214669"
     },
     "user_tz": -180
    },
    "id": "f03d7ed8",
    "outputId": "b5d65cd8-b704-454a-d57c-0d9934715e2e"
   },
   "outputs": [
    {
     "data": {
      "text/html": [
       "<div>\n",
       "<style scoped>\n",
       "    .dataframe tbody tr th:only-of-type {\n",
       "        vertical-align: middle;\n",
       "    }\n",
       "\n",
       "    .dataframe tbody tr th {\n",
       "        vertical-align: top;\n",
       "    }\n",
       "\n",
       "    .dataframe thead th {\n",
       "        text-align: right;\n",
       "    }\n",
       "</style>\n",
       "<table border=\"1\" class=\"dataframe\">\n",
       "  <thead>\n",
       "    <tr style=\"text-align: right;\">\n",
       "      <th></th>\n",
       "      <th>Car_Name</th>\n",
       "      <th>Year</th>\n",
       "      <th>Selling_Price</th>\n",
       "      <th>Present_Price</th>\n",
       "      <th>Kms_Driven</th>\n",
       "      <th>Fuel_Type</th>\n",
       "      <th>Seller_Type</th>\n",
       "      <th>Transmission</th>\n",
       "      <th>Owner</th>\n",
       "      <th>vehicle_age</th>\n",
       "    </tr>\n",
       "  </thead>\n",
       "  <tbody>\n",
       "    <tr>\n",
       "      <th>0</th>\n",
       "      <td>ritz</td>\n",
       "      <td>2014</td>\n",
       "      <td>3.35</td>\n",
       "      <td>5.59</td>\n",
       "      <td>27000</td>\n",
       "      <td>Petrol</td>\n",
       "      <td>Dealer</td>\n",
       "      <td>Manual</td>\n",
       "      <td>0</td>\n",
       "      <td>8</td>\n",
       "    </tr>\n",
       "    <tr>\n",
       "      <th>1</th>\n",
       "      <td>sx4</td>\n",
       "      <td>2013</td>\n",
       "      <td>4.75</td>\n",
       "      <td>9.54</td>\n",
       "      <td>43000</td>\n",
       "      <td>Diesel</td>\n",
       "      <td>Dealer</td>\n",
       "      <td>Manual</td>\n",
       "      <td>0</td>\n",
       "      <td>9</td>\n",
       "    </tr>\n",
       "    <tr>\n",
       "      <th>2</th>\n",
       "      <td>ciaz</td>\n",
       "      <td>2017</td>\n",
       "      <td>7.25</td>\n",
       "      <td>9.85</td>\n",
       "      <td>6900</td>\n",
       "      <td>Petrol</td>\n",
       "      <td>Dealer</td>\n",
       "      <td>Manual</td>\n",
       "      <td>0</td>\n",
       "      <td>5</td>\n",
       "    </tr>\n",
       "    <tr>\n",
       "      <th>3</th>\n",
       "      <td>wagon r</td>\n",
       "      <td>2011</td>\n",
       "      <td>2.85</td>\n",
       "      <td>4.15</td>\n",
       "      <td>5200</td>\n",
       "      <td>Petrol</td>\n",
       "      <td>Dealer</td>\n",
       "      <td>Manual</td>\n",
       "      <td>0</td>\n",
       "      <td>11</td>\n",
       "    </tr>\n",
       "    <tr>\n",
       "      <th>4</th>\n",
       "      <td>swift</td>\n",
       "      <td>2014</td>\n",
       "      <td>4.60</td>\n",
       "      <td>6.87</td>\n",
       "      <td>42450</td>\n",
       "      <td>Diesel</td>\n",
       "      <td>Dealer</td>\n",
       "      <td>Manual</td>\n",
       "      <td>0</td>\n",
       "      <td>8</td>\n",
       "    </tr>\n",
       "  </tbody>\n",
       "</table>\n",
       "</div>"
      ],
      "text/plain": [
       "  Car_Name  Year  Selling_Price  Present_Price  Kms_Driven Fuel_Type  \\\n",
       "0     ritz  2014           3.35           5.59       27000    Petrol   \n",
       "1      sx4  2013           4.75           9.54       43000    Diesel   \n",
       "2     ciaz  2017           7.25           9.85        6900    Petrol   \n",
       "3  wagon r  2011           2.85           4.15        5200    Petrol   \n",
       "4    swift  2014           4.60           6.87       42450    Diesel   \n",
       "\n",
       "  Seller_Type Transmission  Owner  vehicle_age  \n",
       "0      Dealer       Manual      0            8  \n",
       "1      Dealer       Manual      0            9  \n",
       "2      Dealer       Manual      0            5  \n",
       "3      Dealer       Manual      0           11  \n",
       "4      Dealer       Manual      0            8  "
      ]
     },
     "execution_count": 10,
     "metadata": {},
     "output_type": "execute_result"
    }
   ],
   "source": [
    "df.head()"
   ]
  },
  {
   "cell_type": "code",
   "execution_count": 11,
   "id": "bebc6dde",
   "metadata": {
    "colab": {
     "base_uri": "https://localhost:8080/",
     "height": 206
    },
    "executionInfo": {
     "elapsed": 9,
     "status": "ok",
     "timestamp": 1697247323394,
     "user": {
      "displayName": "Orion Cloud",
      "userId": "13399699001942214669"
     },
     "user_tz": -180
    },
    "id": "bebc6dde",
    "outputId": "4d9e6259-1d44-4e5f-adce-25596bf3f5fd"
   },
   "outputs": [
    {
     "data": {
      "text/html": [
       "<div>\n",
       "<style scoped>\n",
       "    .dataframe tbody tr th:only-of-type {\n",
       "        vertical-align: middle;\n",
       "    }\n",
       "\n",
       "    .dataframe tbody tr th {\n",
       "        vertical-align: top;\n",
       "    }\n",
       "\n",
       "    .dataframe thead th {\n",
       "        text-align: right;\n",
       "    }\n",
       "</style>\n",
       "<table border=\"1\" class=\"dataframe\">\n",
       "  <thead>\n",
       "    <tr style=\"text-align: right;\">\n",
       "      <th></th>\n",
       "      <th>Car_Name</th>\n",
       "      <th>Fuel_Type</th>\n",
       "      <th>Seller_Type</th>\n",
       "      <th>Transmission</th>\n",
       "    </tr>\n",
       "  </thead>\n",
       "  <tbody>\n",
       "    <tr>\n",
       "      <th>0</th>\n",
       "      <td>ritz</td>\n",
       "      <td>Petrol</td>\n",
       "      <td>Dealer</td>\n",
       "      <td>Manual</td>\n",
       "    </tr>\n",
       "    <tr>\n",
       "      <th>1</th>\n",
       "      <td>sx4</td>\n",
       "      <td>Diesel</td>\n",
       "      <td>Dealer</td>\n",
       "      <td>Manual</td>\n",
       "    </tr>\n",
       "    <tr>\n",
       "      <th>2</th>\n",
       "      <td>ciaz</td>\n",
       "      <td>Petrol</td>\n",
       "      <td>Dealer</td>\n",
       "      <td>Manual</td>\n",
       "    </tr>\n",
       "    <tr>\n",
       "      <th>3</th>\n",
       "      <td>wagon r</td>\n",
       "      <td>Petrol</td>\n",
       "      <td>Dealer</td>\n",
       "      <td>Manual</td>\n",
       "    </tr>\n",
       "    <tr>\n",
       "      <th>4</th>\n",
       "      <td>swift</td>\n",
       "      <td>Diesel</td>\n",
       "      <td>Dealer</td>\n",
       "      <td>Manual</td>\n",
       "    </tr>\n",
       "  </tbody>\n",
       "</table>\n",
       "</div>"
      ],
      "text/plain": [
       "  Car_Name Fuel_Type Seller_Type Transmission\n",
       "0     ritz    Petrol      Dealer       Manual\n",
       "1      sx4    Diesel      Dealer       Manual\n",
       "2     ciaz    Petrol      Dealer       Manual\n",
       "3  wagon r    Petrol      Dealer       Manual\n",
       "4    swift    Diesel      Dealer       Manual"
      ]
     },
     "execution_count": 11,
     "metadata": {},
     "output_type": "execute_result"
    }
   ],
   "source": [
    "df.select_dtypes(\"object\").head()"
   ]
  },
  {
   "cell_type": "code",
   "execution_count": 12,
   "id": "8241ef6e",
   "metadata": {
    "colab": {
     "base_uri": "https://localhost:8080/"
    },
    "executionInfo": {
     "elapsed": 8,
     "status": "ok",
     "timestamp": 1697247323394,
     "user": {
      "displayName": "Orion Cloud",
      "userId": "13399699001942214669"
     },
     "user_tz": -180
    },
    "id": "8241ef6e",
    "lang": "en",
    "outputId": "a9a2ee2e-e852-4cf0-98c5-bfad5b41b37c"
   },
   "outputs": [
    {
     "name": "stdout",
     "output_type": "stream",
     "text": [
      "Car_Name 98\n",
      "Fuel_Type 3\n",
      "Seller_Type 2\n",
      "Transmission 2\n"
     ]
    }
   ],
   "source": [
    "for i in df.select_dtypes(\"object\"):\n",
    "\n",
    "    print(i, len(df[i].value_counts()))\n",
    "\n",
    "# we see how many unique observations the categorical features consist of.\n",
    "# The number of unique categorical observations of car_name is very high compared to\n",
    "# the total number of observations in our data."
   ]
  },
  {
   "cell_type": "code",
   "execution_count": 13,
   "id": "39379b91",
   "metadata": {
    "colab": {
     "base_uri": "https://localhost:8080/"
    },
    "executionInfo": {
     "elapsed": 5,
     "status": "ok",
     "timestamp": 1697247323394,
     "user": {
      "displayName": "Orion Cloud",
      "userId": "13399699001942214669"
     },
     "user_tz": -180
    },
    "id": "39379b91",
    "outputId": "40594268-cba8-4713-f119-fb73acef69c2"
   },
   "outputs": [
    {
     "data": {
      "text/plain": [
       "city                         26\n",
       "corolla altis                16\n",
       "verna                        14\n",
       "fortuner                     11\n",
       "brio                         10\n",
       "ciaz                          9\n",
       "innova                        9\n",
       "i20                           9\n",
       "grand i10                     8\n",
       "jazz                          7\n",
       "amaze                         7\n",
       "Royal Enfield Classic 350     7\n",
       "ertiga                        6\n",
       "eon                           6\n",
       "sx4                           6\n",
       "alto k10                      5\n",
       "i10                           5\n",
       "swift                         5\n",
       "Bajaj Pulsar 150              4\n",
       "Royal Enfield Thunder 350     4\n",
       "ritz                          4\n",
       "wagon r                       4\n",
       "etios liva                    4\n",
       "dzire                         4\n",
       "xcent                         3\n",
       "etios cross                   3\n",
       "Royal Enfield Thunder 500     3\n",
       "TVS Apache RTR 160            3\n",
       "Yamaha FZ S V 2.0             3\n",
       "creta                         3\n",
       "Honda CB Hornet 160R          3\n",
       "etios g                       3\n",
       "Bajaj Avenger 220             3\n",
       "Bajaj Pulsar NS 200           3\n",
       "Bajaj Discover 125            2\n",
       "Bajaj Pulsar 220 F            2\n",
       "TVS Apache RTR 180            2\n",
       "Yamaha FZ  v 2.0              2\n",
       "Honda Activa 4G               2\n",
       "Hero Extreme                  2\n",
       "Honda CB twister              2\n",
       "Hero Splender iSmart          2\n",
       "Activa 3g                     2\n",
       "Hero Passion Pro              2\n",
       "Honda CB Shine                2\n",
       "Bajaj Avenger 220 dtsi        2\n",
       "Honda CBR 150                 2\n",
       "elantra                       2\n",
       "Royal Enfield Classic 500     2\n",
       "KTM RC200                     2\n",
       "Honda Karizma                 2\n",
       "Bajaj  ct 100                 1\n",
       "Hero  Ignitor Disc            1\n",
       "TVS Jupyter                   1\n",
       "Hero Honda Passion Pro        1\n",
       "Hero Splender Plus            1\n",
       "vitara brezza                 1\n",
       "Bajaj Discover 100            1\n",
       "Suzuki Access 125             1\n",
       "s cross                       1\n",
       "alto 800                      1\n",
       "baleno                        1\n",
       "TVS Wego                      1\n",
       "Hero  CBZ Xtreme              1\n",
       "Hero Glamour                  1\n",
       "ignis                         1\n",
       "Hero Super Splendor           1\n",
       "800                           1\n",
       "Hero Hunk                     1\n",
       "Honda Activa 125              1\n",
       "corolla                       1\n",
       "Hero Honda CBZ extreme        1\n",
       "Yamaha FZ 16                  1\n",
       "camry                         1\n",
       "land cruiser                  1\n",
       "UM Renegade Mojave            1\n",
       "Bajaj Dominar 400             1\n",
       "KTM RC390                     1\n",
       "Hyosung GT250R                1\n",
       "KTM 390 Duke                  1\n",
       "Mahindra Mojo XT300           1\n",
       "Bajaj Pulsar RS200            1\n",
       "Royal Enfield Bullet 350      1\n",
       "Bajaj Avenger 150             1\n",
       "Bajaj Avenger 150 street      1\n",
       "Honda CB Unicorn              1\n",
       "omni                          1\n",
       "Bajaj Pulsar  NS 200          1\n",
       "Hero Passion X pro            1\n",
       "Yamaha Fazer                  1\n",
       "TVS Sport                     1\n",
       "Honda Dream Yuga              1\n",
       "etios gd                      1\n",
       "Honda CB Trigger              1\n",
       "Yamaha FZ S                   1\n",
       "Bajaj Pulsar 135 LS           1\n",
       "Activa 4g                     1\n",
       "Bajaj Avenger Street 220      1\n",
       "Name: Car_Name, dtype: int64"
      ]
     },
     "execution_count": 13,
     "metadata": {},
     "output_type": "execute_result"
    }
   ],
   "source": [
    "df.Car_Name.value_counts()"
   ]
  },
  {
   "cell_type": "code",
   "execution_count": 14,
   "id": "935e1043",
   "metadata": {
    "executionInfo": {
     "elapsed": 4,
     "status": "ok",
     "timestamp": 1697247323394,
     "user": {
      "displayName": "Orion Cloud",
      "userId": "13399699001942214669"
     },
     "user_tz": -180
    },
    "id": "935e1043",
    "lang": "en"
   },
   "outputs": [],
   "source": [
    "df.drop(columns=[\"Car_Name\", \"Year\"], inplace=True)\n",
    "\n",
    "# Although I have 301 observations, there are 98 unique car/engine brands in car_name.\n",
    "# Converting to numeric data by applying ordinal encoder to this feature will not be a meaningful course of action.\n",
    "# Because the DT model tends to place more emphasis on high cardinality categorical features\n",
    "# (features that contain too many unique categorical observations).\n",
    "# This causes these featurs to come to the fore in feature importance.\n",
    "\n",
    "# There are also 1-2 of most brands and models. Naturally, we are removing this feature as\n",
    "# it will not contribute to education.\n",
    "\n",
    "# Since we have converted the Year feature, which is the year of vehicle production,\n",
    "# to the Age feature, we are removing the Year feature along with the car_name."
   ]
  },
  {
   "cell_type": "code",
   "execution_count": 15,
   "id": "endless-attendance",
   "metadata": {
    "colab": {
     "base_uri": "https://localhost:8080/",
     "height": 206
    },
    "executionInfo": {
     "elapsed": 4,
     "status": "ok",
     "timestamp": 1697247323394,
     "user": {
      "displayName": "Orion Cloud",
      "userId": "13399699001942214669"
     },
     "user_tz": -180
    },
    "id": "endless-attendance",
    "outputId": "b996d252-ae5e-4e75-82e7-177d6bddd57c"
   },
   "outputs": [
    {
     "data": {
      "text/html": [
       "<div>\n",
       "<style scoped>\n",
       "    .dataframe tbody tr th:only-of-type {\n",
       "        vertical-align: middle;\n",
       "    }\n",
       "\n",
       "    .dataframe tbody tr th {\n",
       "        vertical-align: top;\n",
       "    }\n",
       "\n",
       "    .dataframe thead th {\n",
       "        text-align: right;\n",
       "    }\n",
       "</style>\n",
       "<table border=\"1\" class=\"dataframe\">\n",
       "  <thead>\n",
       "    <tr style=\"text-align: right;\">\n",
       "      <th></th>\n",
       "      <th>Selling_Price</th>\n",
       "      <th>Present_Price</th>\n",
       "      <th>Kms_Driven</th>\n",
       "      <th>Fuel_Type</th>\n",
       "      <th>Seller_Type</th>\n",
       "      <th>Transmission</th>\n",
       "      <th>Owner</th>\n",
       "      <th>vehicle_age</th>\n",
       "    </tr>\n",
       "  </thead>\n",
       "  <tbody>\n",
       "    <tr>\n",
       "      <th>0</th>\n",
       "      <td>3.35</td>\n",
       "      <td>5.59</td>\n",
       "      <td>27000</td>\n",
       "      <td>Petrol</td>\n",
       "      <td>Dealer</td>\n",
       "      <td>Manual</td>\n",
       "      <td>0</td>\n",
       "      <td>8</td>\n",
       "    </tr>\n",
       "    <tr>\n",
       "      <th>1</th>\n",
       "      <td>4.75</td>\n",
       "      <td>9.54</td>\n",
       "      <td>43000</td>\n",
       "      <td>Diesel</td>\n",
       "      <td>Dealer</td>\n",
       "      <td>Manual</td>\n",
       "      <td>0</td>\n",
       "      <td>9</td>\n",
       "    </tr>\n",
       "    <tr>\n",
       "      <th>2</th>\n",
       "      <td>7.25</td>\n",
       "      <td>9.85</td>\n",
       "      <td>6900</td>\n",
       "      <td>Petrol</td>\n",
       "      <td>Dealer</td>\n",
       "      <td>Manual</td>\n",
       "      <td>0</td>\n",
       "      <td>5</td>\n",
       "    </tr>\n",
       "    <tr>\n",
       "      <th>3</th>\n",
       "      <td>2.85</td>\n",
       "      <td>4.15</td>\n",
       "      <td>5200</td>\n",
       "      <td>Petrol</td>\n",
       "      <td>Dealer</td>\n",
       "      <td>Manual</td>\n",
       "      <td>0</td>\n",
       "      <td>11</td>\n",
       "    </tr>\n",
       "    <tr>\n",
       "      <th>4</th>\n",
       "      <td>4.60</td>\n",
       "      <td>6.87</td>\n",
       "      <td>42450</td>\n",
       "      <td>Diesel</td>\n",
       "      <td>Dealer</td>\n",
       "      <td>Manual</td>\n",
       "      <td>0</td>\n",
       "      <td>8</td>\n",
       "    </tr>\n",
       "  </tbody>\n",
       "</table>\n",
       "</div>"
      ],
      "text/plain": [
       "   Selling_Price  Present_Price  Kms_Driven Fuel_Type Seller_Type  \\\n",
       "0           3.35           5.59       27000    Petrol      Dealer   \n",
       "1           4.75           9.54       43000    Diesel      Dealer   \n",
       "2           7.25           9.85        6900    Petrol      Dealer   \n",
       "3           2.85           4.15        5200    Petrol      Dealer   \n",
       "4           4.60           6.87       42450    Diesel      Dealer   \n",
       "\n",
       "  Transmission  Owner  vehicle_age  \n",
       "0       Manual      0            8  \n",
       "1       Manual      0            9  \n",
       "2       Manual      0            5  \n",
       "3       Manual      0           11  \n",
       "4       Manual      0            8  "
      ]
     },
     "execution_count": 15,
     "metadata": {},
     "output_type": "execute_result"
    }
   ],
   "source": [
    "df.head()"
   ]
  },
  {
   "cell_type": "code",
   "execution_count": 16,
   "id": "634c2605",
   "metadata": {
    "colab": {
     "base_uri": "https://localhost:8080/",
     "height": 388
    },
    "executionInfo": {
     "elapsed": 406,
     "status": "ok",
     "timestamp": 1697247323796,
     "user": {
      "displayName": "Orion Cloud",
      "userId": "13399699001942214669"
     },
     "user_tz": -180
    },
    "id": "634c2605",
    "lang": "en",
    "outputId": "e372bcf1-1e81-49f7-92ee-835d57f314da"
   },
   "outputs": [
    {
     "data": {
      "image/png": "[encoded data removed]",
      "text/plain": [
       "<Figure size 800x400 with 1 Axes>"
      ]
     },
     "metadata": {},
     "output_type": "display_data"
    }
   ],
   "source": [
    "sns.histplot(df.Selling_Price, bins=50, kde=True);\n",
    "\n",
    "# tree based models are very robust against outliers. However, this is not the case for small regression data.\n",
    "# Since outlier values in small regression data can seriously increase or decrease the average prices on fallen leaves,\n",
    "# it is important to reduce these outlier observations, which are insufficient for training, in tree-based models.\n",
    "\n",
    "# However, as always, we should compare the scores both with the outliers and\n",
    "# by reducing the outliers and see the differences."
   ]
  },
  {
   "cell_type": "code",
   "execution_count": 17,
   "id": "e707750e",
   "metadata": {
    "colab": {
     "base_uri": "https://localhost:8080/",
     "height": 368
    },
    "executionInfo": {
     "elapsed": 492,
     "status": "ok",
     "timestamp": 1697247324286,
     "user": {
      "displayName": "Orion Cloud",
      "userId": "13399699001942214669"
     },
     "user_tz": -180
    },
    "id": "e707750e",
    "outputId": "ef7c21b0-d9b6-4948-e399-fabc2fc16c62"
   },
   "outputs": [
    {
     "data": {
      "image/png": "[encoded data removed]",
      "text/plain": [
       "<Figure size 800x400 with 1 Axes>"
      ]
     },
     "metadata": {},
     "output_type": "display_data"
    }
   ],
   "source": [
    "sns.boxplot(df.Selling_Price);"
   ]
  },
  {
   "cell_type": "code",
   "execution_count": 18,
   "id": "appropriate-field",
   "metadata": {
    "executionInfo": {
     "elapsed": 6,
     "status": "ok",
     "timestamp": 1697247324286,
     "user": {
      "displayName": "Orion Cloud",
      "userId": "13399699001942214669"
     },
     "user_tz": -180
    },
    "id": "appropriate-field"
   },
   "outputs": [],
   "source": [
    "df2 = df.copy()"
   ]
  },
  {
   "cell_type": "markdown",
   "id": "swiss-respondent",
   "metadata": {
    "id": "swiss-respondent"
   },
   "source": [
    "## Train test split"
   ]
  },
  {
   "cell_type": "code",
   "execution_count": 19,
   "id": "every-turtle",
   "metadata": {
    "executionInfo": {
     "elapsed": 6,
     "status": "ok",
     "timestamp": 1697247324286,
     "user": {
      "displayName": "Orion Cloud",
      "userId": "13399699001942214669"
     },
     "user_tz": -180
    },
    "id": "every-turtle"
   },
   "outputs": [],
   "source": [
    "X=df.drop(\"Selling_Price\", axis=1)\n",
    "y=df.Selling_Price"
   ]
  },
  {
   "cell_type": "code",
   "execution_count": 20,
   "id": "ed6e525a",
   "metadata": {
    "colab": {
     "base_uri": "https://localhost:8080/"
    },
    "executionInfo": {
     "elapsed": 6,
     "status": "ok",
     "timestamp": 1697247324286,
     "user": {
      "displayName": "Orion Cloud",
      "userId": "13399699001942214669"
     },
     "user_tz": -180
    },
    "id": "ed6e525a",
    "outputId": "36b1d6fa-c4b0-4144-d999-c7a483bc6362"
   },
   "outputs": [
    {
     "name": "stdout",
     "output_type": "stream",
     "text": [
      "Train features shape :  (240, 7)\n",
      "Train target shape   :  (240,)\n",
      "Test features shape  :  (61, 7)\n",
      "Test target shape    :  (61,)\n"
     ]
    }
   ],
   "source": [
    "from sklearn.model_selection import train_test_split\n",
    "\n",
    "X_train, X_test, y_train, y_test = train_test_split(X, y, test_size=0.2, random_state=5)\n",
    "\n",
    "print(\"Train features shape : \", X_train.shape)\n",
    "print(\"Train target shape   : \", y_train.shape)\n",
    "print(\"Test features shape  : \", X_test.shape)\n",
    "print(\"Test target shape    : \", y_test.shape)"
   ]
  },
  {
   "cell_type": "markdown",
   "id": "optional-filing",
   "metadata": {
    "id": "optional-filing"
   },
   "source": [
    "## Modeling with Pipeline"
   ]
  },
  {
   "cell_type": "code",
   "execution_count": 21,
   "id": "UTBg0AcMWbZJ",
   "metadata": {
    "colab": {
     "base_uri": "https://localhost:8080/"
    },
    "executionInfo": {
     "elapsed": 4,
     "status": "ok",
     "timestamp": 1697247324286,
     "user": {
      "displayName": "Orion Cloud",
      "userId": "13399699001942214669"
     },
     "user_tz": -180
    },
    "id": "UTBg0AcMWbZJ",
    "outputId": "46fbbac6-fb8a-4d17-a41a-0d74ace28e37"
   },
   "outputs": [
    {
     "data": {
      "text/plain": [
       "Index(['Fuel_Type', 'Seller_Type', 'Transmission'], dtype='object')"
      ]
     },
     "execution_count": 21,
     "metadata": {},
     "output_type": "execute_result"
    }
   ],
   "source": [
    "cat = X_train.select_dtypes(\"object\").columns\n",
    "cat"
   ]
  },
  {
   "cell_type": "code",
   "execution_count": 22,
   "id": "e2e70e0e",
   "metadata": {
    "executionInfo": {
     "elapsed": 3,
     "status": "ok",
     "timestamp": 1697247324286,
     "user": {
      "displayName": "Orion Cloud",
      "userId": "13399699001942214669"
     },
     "user_tz": -180
    },
    "id": "e2e70e0e"
   },
   "outputs": [],
   "source": [
    "from sklearn.compose import make_column_transformer\n",
    "from sklearn.preprocessing import OrdinalEncoder\n",
    "\n",
    "\n",
    "ord_enc = OrdinalEncoder(handle_unknown='use_encoded_value', unknown_value=-1)\n",
    "\n",
    "column_trans = make_column_transformer((ord_enc, cat),\n",
    "                                       remainder='passthrough',\n",
    "                                       verbose_feature_names_out=False).set_output(transform=\"pandas\")"
   ]
  },
  {
   "cell_type": "code",
   "execution_count": 23,
   "id": "34c962d3",
   "metadata": {
    "colab": {
     "base_uri": "https://localhost:8080/",
     "height": 192
    },
    "executionInfo": {
     "elapsed": 404,
     "status": "ok",
     "timestamp": 1697247324687,
     "user": {
      "displayName": "Orion Cloud",
      "userId": "13399699001942214669"
     },
     "user_tz": -180
    },
    "id": "34c962d3",
    "outputId": "30dbcea5-bb2c-42a9-f6c6-d53b1c71f309"
   },
   "outputs": [
    {
     "data": {
      "text/html": [
       "<style>#sk-container-id-1 {color: black;background-color: white;}#sk-container-id-1 pre{padding: 0;}#sk-container-id-1 div.sk-toggleable {background-color: white;}#sk-container-id-1 label.sk-toggleable__label {cursor: pointer;display: block;width: 100%;margin-bottom: 0;padding: 0.3em;box-sizing: border-box;text-align: center;}#sk-container-id-1 label.sk-toggleable__label-arrow:before {content: \"▸\";float: left;margin-right: 0.25em;color: #696969;}#sk-container-id-1 label.sk-toggleable__label-arrow:hover:before {color: black;}#sk-container-id-1 div.sk-estimator:hover label.sk-toggleable__label-arrow:before {color: black;}#sk-container-id-1 div.sk-toggleable__content {max-height: 0;max-width: 0;overflow: hidden;text-align: left;background-color: #f0f8ff;}#sk-container-id-1 div.sk-toggleable__content pre {margin: 0.2em;color: black;border-radius: 0.25em;background-color: #f0f8ff;}#sk-container-id-1 input.sk-toggleable__control:checked~div.sk-toggleable__content {max-height: 200px;max-width: 100%;overflow: auto;}#sk-container-id-1 input.sk-toggleable__control:checked~label.sk-toggleable__label-arrow:before {content: \"▾\";}#sk-container-id-1 div.sk-estimator input.sk-toggleable__control:checked~label.sk-toggleable__label {background-color: #d4ebff;}#sk-container-id-1 div.sk-label input.sk-toggleable__control:checked~label.sk-toggleable__label {background-color: #d4ebff;}#sk-container-id-1 input.sk-hidden--visually {border: 0;clip: rect(1px 1px 1px 1px);clip: rect(1px, 1px, 1px, 1px);height: 1px;margin: -1px;overflow: hidden;padding: 0;position: absolute;width: 1px;}#sk-container-id-1 div.sk-estimator {font-family: monospace;background-color: #f0f8ff;border: 1px dotted black;border-radius: 0.25em;box-sizing: border-box;margin-bottom: 0.5em;}#sk-container-id-1 div.sk-estimator:hover {background-color: #d4ebff;}#sk-container-id-1 div.sk-parallel-item::after {content: \"\";width: 100%;border-bottom: 1px solid gray;flex-grow: 1;}#sk-container-id-1 div.sk-label:hover label.sk-toggleable__label {background-color: #d4ebff;}#sk-container-id-1 div.sk-serial::before {content: \"\";position: absolute;border-left: 1px solid gray;box-sizing: border-box;top: 0;bottom: 0;left: 50%;z-index: 0;}#sk-container-id-1 div.sk-serial {display: flex;flex-direction: column;align-items: center;background-color: white;padding-right: 0.2em;padding-left: 0.2em;position: relative;}#sk-container-id-1 div.sk-item {position: relative;z-index: 1;}#sk-container-id-1 div.sk-parallel {display: flex;align-items: stretch;justify-content: center;background-color: white;position: relative;}#sk-container-id-1 div.sk-item::before, #sk-container-id-1 div.sk-parallel-item::before {content: \"\";position: absolute;border-left: 1px solid gray;box-sizing: border-box;top: 0;bottom: 0;left: 50%;z-index: -1;}#sk-container-id-1 div.sk-parallel-item {display: flex;flex-direction: column;z-index: 1;position: relative;background-color: white;}#sk-container-id-1 div.sk-parallel-item:first-child::after {align-self: flex-end;width: 50%;}#sk-container-id-1 div.sk-parallel-item:last-child::after {align-self: flex-start;width: 50%;}#sk-container-id-1 div.sk-parallel-item:only-child::after {width: 0;}#sk-container-id-1 div.sk-dashed-wrapped {border: 1px dashed gray;margin: 0 0.4em 0.5em 0.4em;box-sizing: border-box;padding-bottom: 0.4em;background-color: white;}#sk-container-id-1 div.sk-label label {font-family: monospace;font-weight: bold;display: inline-block;line-height: 1.2em;}#sk-container-id-1 div.sk-label-container {text-align: center;}#sk-container-id-1 div.sk-container {/* jupyter's `normalize.less` sets `[hidden] { display: none; }` but bootstrap.min.css set `[hidden] { display: none !important; }` so we also need the `!important` here to be able to override the default hidden behavior on the sphinx rendered scikit-learn.org. See: https://github.com/scikit-learn/scikit-learn/issues/21755 */display: inline-block !important;position: relative;}#sk-container-id-1 div.sk-text-repr-fallback {display: none;}</style><div id=\"sk-container-id-1\" class=\"sk-top-container\"><div class=\"sk-text-repr-fallback\"><pre>Pipeline(steps=[(&#x27;OrdinalEncoder&#x27;,\n",
       "                 ColumnTransformer(remainder=&#x27;passthrough&#x27;,\n",
       "                                   transformers=[(&#x27;ordinalencoder&#x27;,\n",
       "                                                  OrdinalEncoder(handle_unknown=&#x27;use_encoded_value&#x27;,\n",
       "                                                                 unknown_value=-1),\n",
       "                                                  Index([&#x27;Fuel_Type&#x27;, &#x27;Seller_Type&#x27;, &#x27;Transmission&#x27;], dtype=&#x27;object&#x27;))],\n",
       "                                   verbose_feature_names_out=False)),\n",
       "                (&#x27;DT_model&#x27;, DecisionTreeRegressor(random_state=101))])</pre><b>In a Jupyter environment, please rerun this cell to show the HTML representation or trust the notebook. <br />On GitHub, the HTML representation is unable to render, please try loading this page with nbviewer.org.</b></div><div class=\"sk-container\" hidden><div class=\"sk-item sk-dashed-wrapped\"><div class=\"sk-label-container\"><div class=\"sk-label sk-toggleable\"><input class=\"sk-toggleable__control sk-hidden--visually\" id=\"sk-estimator-id-1\" type=\"checkbox\" ><label for=\"sk-estimator-id-1\" class=\"sk-toggleable__label sk-toggleable__label-arrow\">Pipeline</label><div class=\"sk-toggleable__content\"><pre>Pipeline(steps=[(&#x27;OrdinalEncoder&#x27;,\n",
       "                 ColumnTransformer(remainder=&#x27;passthrough&#x27;,\n",
       "                                   transformers=[(&#x27;ordinalencoder&#x27;,\n",
       "                                                  OrdinalEncoder(handle_unknown=&#x27;use_encoded_value&#x27;,\n",
       "                                                                 unknown_value=-1),\n",
       "                                                  Index([&#x27;Fuel_Type&#x27;, &#x27;Seller_Type&#x27;, &#x27;Transmission&#x27;], dtype=&#x27;object&#x27;))],\n",
       "                                   verbose_feature_names_out=False)),\n",
       "                (&#x27;DT_model&#x27;, DecisionTreeRegressor(random_state=101))])</pre></div></div></div><div class=\"sk-serial\"><div class=\"sk-item sk-dashed-wrapped\"><div class=\"sk-label-container\"><div class=\"sk-label sk-toggleable\"><input class=\"sk-toggleable__control sk-hidden--visually\" id=\"sk-estimator-id-2\" type=\"checkbox\" ><label for=\"sk-estimator-id-2\" class=\"sk-toggleable__label sk-toggleable__label-arrow\">OrdinalEncoder: ColumnTransformer</label><div class=\"sk-toggleable__content\"><pre>ColumnTransformer(remainder=&#x27;passthrough&#x27;,\n",
       "                  transformers=[(&#x27;ordinalencoder&#x27;,\n",
       "                                 OrdinalEncoder(handle_unknown=&#x27;use_encoded_value&#x27;,\n",
       "                                                unknown_value=-1),\n",
       "                                 Index([&#x27;Fuel_Type&#x27;, &#x27;Seller_Type&#x27;, &#x27;Transmission&#x27;], dtype=&#x27;object&#x27;))],\n",
       "                  verbose_feature_names_out=False)</pre></div></div></div><div class=\"sk-parallel\"><div class=\"sk-parallel-item\"><div class=\"sk-item\"><div class=\"sk-label-container\"><div class=\"sk-label sk-toggleable\"><input class=\"sk-toggleable__control sk-hidden--visually\" id=\"sk-estimator-id-3\" type=\"checkbox\" ><label for=\"sk-estimator-id-3\" class=\"sk-toggleable__label sk-toggleable__label-arrow\">ordinalencoder</label><div class=\"sk-toggleable__content\"><pre>Index([&#x27;Fuel_Type&#x27;, &#x27;Seller_Type&#x27;, &#x27;Transmission&#x27;], dtype=&#x27;object&#x27;)</pre></div></div></div><div class=\"sk-serial\"><div class=\"sk-item\"><div class=\"sk-estimator sk-toggleable\"><input class=\"sk-toggleable__control sk-hidden--visually\" id=\"sk-estimator-id-4\" type=\"checkbox\" ><label for=\"sk-estimator-id-4\" class=\"sk-toggleable__label sk-toggleable__label-arrow\">OrdinalEncoder</label><div class=\"sk-toggleable__content\"><pre>OrdinalEncoder(handle_unknown=&#x27;use_encoded_value&#x27;, unknown_value=-1)</pre></div></div></div></div></div></div><div class=\"sk-parallel-item\"><div class=\"sk-item\"><div class=\"sk-label-container\"><div class=\"sk-label sk-toggleable\"><input class=\"sk-toggleable__control sk-hidden--visually\" id=\"sk-estimator-id-5\" type=\"checkbox\" ><label for=\"sk-estimator-id-5\" class=\"sk-toggleable__label sk-toggleable__label-arrow\">remainder</label><div class=\"sk-toggleable__content\"><pre>[&#x27;Present_Price&#x27;, &#x27;Kms_Driven&#x27;, &#x27;Owner&#x27;, &#x27;vehicle_age&#x27;]</pre></div></div></div><div class=\"sk-serial\"><div class=\"sk-item\"><div class=\"sk-estimator sk-toggleable\"><input class=\"sk-toggleable__control sk-hidden--visually\" id=\"sk-estimator-id-6\" type=\"checkbox\" ><label for=\"sk-estimator-id-6\" class=\"sk-toggleable__label sk-toggleable__label-arrow\">passthrough</label><div class=\"sk-toggleable__content\"><pre>passthrough</pre></div></div></div></div></div></div></div></div><div class=\"sk-item\"><div class=\"sk-estimator sk-toggleable\"><input class=\"sk-toggleable__control sk-hidden--visually\" id=\"sk-estimator-id-7\" type=\"checkbox\" ><label for=\"sk-estimator-id-7\" class=\"sk-toggleable__label sk-toggleable__label-arrow\">DecisionTreeRegressor</label><div class=\"sk-toggleable__content\"><pre>DecisionTreeRegressor(random_state=101)</pre></div></div></div></div></div></div></div>"
      ],
      "text/plain": [
       "Pipeline(steps=[('OrdinalEncoder',\n",
       "                 ColumnTransformer(remainder='passthrough',\n",
       "                                   transformers=[('ordinalencoder',\n",
       "                                                  OrdinalEncoder(handle_unknown='use_encoded_value',\n",
       "                                                                 unknown_value=-1),\n",
       "                                                  Index(['Fuel_Type', 'Seller_Type', 'Transmission'], dtype='object'))],\n",
       "                                   verbose_feature_names_out=False)),\n",
       "                ('DT_model', DecisionTreeRegressor(random_state=101))])"
      ]
     },
     "execution_count": 23,
     "metadata": {},
     "output_type": "execute_result"
    }
   ],
   "source": [
    "from sklearn.pipeline import Pipeline\n",
    "from sklearn.tree import DecisionTreeClassifier, DecisionTreeRegressor\n",
    "\n",
    "\n",
    "operations = [(\"OrdinalEncoder\", column_trans),\n",
    "              (\"DT_model\", DecisionTreeRegressor(random_state=101))]\n",
    "\n",
    "pipe_model = Pipeline(steps=operations)\n",
    "\n",
    "pipe_model.fit(X_train, y_train)"
   ]
  },
  {
   "cell_type": "code",
   "execution_count": 24,
   "id": "legislative-office",
   "metadata": {
    "executionInfo": {
     "elapsed": 9,
     "status": "ok",
     "timestamp": 1697247324687,
     "user": {
      "displayName": "Orion Cloud",
      "userId": "13399699001942214669"
     },
     "user_tz": -180
    },
    "id": "legislative-office"
   },
   "outputs": [],
   "source": [
    "from sklearn.metrics import r2_score, mean_absolute_error, mean_squared_error, mean_absolute_percentage_error"
   ]
  },
  {
   "cell_type": "code",
   "execution_count": 25,
   "id": "5783b5a8",
   "metadata": {
    "executionInfo": {
     "elapsed": 8,
     "status": "ok",
     "timestamp": 1697247324687,
     "user": {
      "displayName": "Orion Cloud",
      "userId": "13399699001942214669"
     },
     "user_tz": -180
    },
    "id": "5783b5a8"
   },
   "outputs": [],
   "source": [
    "def train_val(model, X_train, y_train, X_test, y_test):\n",
    "\n",
    "    y_pred = model.predict(X_test)\n",
    "    y_train_pred = model.predict(X_train)\n",
    "\n",
    "    scores = {\"train\": {\"R2\" : r2_score(y_train, y_train_pred),\n",
    "    \"mae\" : mean_absolute_error(y_train, y_train_pred),\n",
    "    \"mse\" : mean_squared_error(y_train, y_train_pred),\n",
    "    \"rmse\" : mean_squared_error(y_train, y_train_pred, squared=False),\n",
    "    \"mape\" :mean_absolute_percentage_error(y_train, y_train_pred)},\n",
    "\n",
    "    \"test\": {\"R2\" : r2_score(y_test, y_pred),\n",
    "    \"mae\" : mean_absolute_error(y_test, y_pred),\n",
    "    \"mse\" : mean_squared_error(y_test, y_pred),\n",
    "    \"rmse\" : mean_squared_error(y_test, y_pred, squared=False),\n",
    "    \"mape\" :mean_absolute_percentage_error(y_test, y_pred)}}\n",
    "\n",
    "    return pd.DataFrame(scores)"
   ]
  },
  {
   "cell_type": "code",
   "execution_count": 26,
   "id": "29e584d7",
   "metadata": {
    "colab": {
     "base_uri": "https://localhost:8080/",
     "height": 206
    },
    "executionInfo": {
     "elapsed": 8,
     "status": "ok",
     "timestamp": 1697247324687,
     "user": {
      "displayName": "Orion Cloud",
      "userId": "13399699001942214669"
     },
     "user_tz": -180
    },
    "id": "29e584d7",
    "lang": "en",
    "outputId": "84cbcdc1-d86e-459c-c1cc-6d783ca43ff9"
   },
   "outputs": [
    {
     "data": {
      "text/html": [
       "<div>\n",
       "<style scoped>\n",
       "    .dataframe tbody tr th:only-of-type {\n",
       "        vertical-align: middle;\n",
       "    }\n",
       "\n",
       "    .dataframe tbody tr th {\n",
       "        vertical-align: top;\n",
       "    }\n",
       "\n",
       "    .dataframe thead th {\n",
       "        text-align: right;\n",
       "    }\n",
       "</style>\n",
       "<table border=\"1\" class=\"dataframe\">\n",
       "  <thead>\n",
       "    <tr style=\"text-align: right;\">\n",
       "      <th></th>\n",
       "      <th>train</th>\n",
       "      <th>test</th>\n",
       "    </tr>\n",
       "  </thead>\n",
       "  <tbody>\n",
       "    <tr>\n",
       "      <th>R2</th>\n",
       "      <td>1.0</td>\n",
       "      <td>0.940647</td>\n",
       "    </tr>\n",
       "    <tr>\n",
       "      <th>mae</th>\n",
       "      <td>0.0</td>\n",
       "      <td>0.676393</td>\n",
       "    </tr>\n",
       "    <tr>\n",
       "      <th>mse</th>\n",
       "      <td>0.0</td>\n",
       "      <td>1.593069</td>\n",
       "    </tr>\n",
       "    <tr>\n",
       "      <th>rmse</th>\n",
       "      <td>0.0</td>\n",
       "      <td>1.262168</td>\n",
       "    </tr>\n",
       "    <tr>\n",
       "      <th>mape</th>\n",
       "      <td>0.0</td>\n",
       "      <td>0.229744</td>\n",
       "    </tr>\n",
       "  </tbody>\n",
       "</table>\n",
       "</div>"
      ],
      "text/plain": [
       "      train      test\n",
       "R2      1.0  0.940647\n",
       "mae     0.0  0.676393\n",
       "mse     0.0  1.593069\n",
       "rmse    0.0  1.262168\n",
       "mape    0.0  0.229744"
      ]
     },
     "execution_count": 26,
     "metadata": {},
     "output_type": "execute_result"
    }
   ],
   "source": [
    "train_val(pipe_model, X_train, y_train, X_test, y_test)\n",
    "\n",
    "# We got our insight that was overfitting. We will make our final decision on the CV."
   ]
  },
  {
   "cell_type": "code",
   "execution_count": 27,
   "id": "oriented-acting",
   "metadata": {
    "colab": {
     "base_uri": "https://localhost:8080/",
     "height": 206
    },
    "executionInfo": {
     "elapsed": 7,
     "status": "ok",
     "timestamp": 1697247324687,
     "user": {
      "displayName": "Orion Cloud",
      "userId": "13399699001942214669"
     },
     "user_tz": -180
    },
    "id": "oriented-acting",
    "outputId": "54358902-0a85-4894-b254-c88bd3523574"
   },
   "outputs": [
    {
     "data": {
      "text/html": [
       "<div>\n",
       "<style scoped>\n",
       "    .dataframe tbody tr th:only-of-type {\n",
       "        vertical-align: middle;\n",
       "    }\n",
       "\n",
       "    .dataframe tbody tr th {\n",
       "        vertical-align: top;\n",
       "    }\n",
       "\n",
       "    .dataframe thead th {\n",
       "        text-align: right;\n",
       "    }\n",
       "</style>\n",
       "<table border=\"1\" class=\"dataframe\">\n",
       "  <thead>\n",
       "    <tr style=\"text-align: right;\">\n",
       "      <th></th>\n",
       "      <th>train</th>\n",
       "      <th>test</th>\n",
       "    </tr>\n",
       "  </thead>\n",
       "  <tbody>\n",
       "    <tr>\n",
       "      <th>R2</th>\n",
       "      <td>1.000</td>\n",
       "      <td>0.941</td>\n",
       "    </tr>\n",
       "    <tr>\n",
       "      <th>mae</th>\n",
       "      <td>0.000</td>\n",
       "      <td>0.676</td>\n",
       "    </tr>\n",
       "    <tr>\n",
       "      <th>mse</th>\n",
       "      <td>0.000</td>\n",
       "      <td>1.593</td>\n",
       "    </tr>\n",
       "    <tr>\n",
       "      <th>rmse</th>\n",
       "      <td>0.000</td>\n",
       "      <td>1.262</td>\n",
       "    </tr>\n",
       "    <tr>\n",
       "      <th>mape</th>\n",
       "      <td>0.000</td>\n",
       "      <td>0.230</td>\n",
       "    </tr>\n",
       "  </tbody>\n",
       "</table>\n",
       "</div>"
      ],
      "text/plain": [
       "      train  test\n",
       "R2    1.000 0.941\n",
       "mae   0.000 0.676\n",
       "mse   0.000 1.593\n",
       "rmse  0.000 1.262\n",
       "mape  0.000 0.230"
      ]
     },
     "execution_count": 27,
     "metadata": {},
     "output_type": "execute_result"
    }
   ],
   "source": [
    "pd.options.display.float_format = '{:.3f}'.format\n",
    "train_val(pipe_model, X_train, y_train, X_test, y_test)"
   ]
  },
  {
   "cell_type": "code",
   "execution_count": 28,
   "id": "satellite-animation",
   "metadata": {
    "colab": {
     "base_uri": "https://localhost:8080/"
    },
    "executionInfo": {
     "elapsed": 7,
     "status": "ok",
     "timestamp": 1697247324687,
     "user": {
      "displayName": "Orion Cloud",
      "userId": "13399699001942214669"
     },
     "user_tz": -180
    },
    "id": "satellite-animation",
    "outputId": "b0502f86-06ac-4407-c4c1-ed0389253e85"
   },
   "outputs": [
    {
     "data": {
      "text/plain": [
       "test_r2                                     0.851\n",
       "train_r2                                    1.000\n",
       "test_neg_mean_absolute_error               -0.891\n",
       "train_neg_mean_absolute_error              -0.000\n",
       "test_neg_mean_squared_error                -4.466\n",
       "train_neg_mean_squared_error               -0.000\n",
       "test_neg_root_mean_squared_error           -1.790\n",
       "train_neg_root_mean_squared_error          -0.000\n",
       "test_neg_mean_absolute_percentage_error    -0.207\n",
       "train_neg_mean_absolute_percentage_error   -0.000\n",
       "dtype: float64"
      ]
     },
     "execution_count": 28,
     "metadata": {},
     "output_type": "execute_result"
    }
   ],
   "source": [
    "from sklearn.model_selection import cross_validate\n",
    "\n",
    "operations = [(\"OrdinalEncoder\", column_trans),\n",
    "              (\"DT_model\", DecisionTreeRegressor(random_state=101))]\n",
    "model = Pipeline(steps=operations)\n",
    "\n",
    "scores = cross_validate(model,\n",
    "                        X_train,\n",
    "                        y_train,\n",
    "                        scoring=['r2',\n",
    "                                 'neg_mean_absolute_error',\n",
    "                                 'neg_mean_squared_error',\n",
    "                                 'neg_root_mean_squared_error',\n",
    "                                 'neg_mean_absolute_percentage_error'],\n",
    "                        cv =10,\n",
    "                        return_train_score=True)\n",
    "\n",
    "df_scores = pd.DataFrame(scores)\n",
    "df_scores.mean()[2:]\n",
    "\n",
    "# There is over fitting"
   ]
  },
  {
   "cell_type": "markdown",
   "id": "014d6aeb",
   "metadata": {
    "id": "014d6aeb"
   },
   "source": [
    "## Removing Outliers"
   ]
  },
  {
   "cell_type": "code",
   "execution_count": 29,
   "id": "e0d2fc4e",
   "metadata": {
    "colab": {
     "base_uri": "https://localhost:8080/",
     "height": 564
    },
    "executionInfo": {
     "elapsed": 1461,
     "status": "ok",
     "timestamp": 1697247326144,
     "user": {
      "displayName": "Orion Cloud",
      "userId": "13399699001942214669"
     },
     "user_tz": -180
    },
    "id": "e0d2fc4e",
    "lang": "en",
    "outputId": "30bd040e-97a8-41f3-f011-33a7d6bf2f61"
   },
   "outputs": [
    {
     "data": {
      "image/png": "[encoded data removed]",
      "text/plain": [
       "<Figure size 720x600 with 1 Axes>"
      ]
     },
     "metadata": {},
     "output_type": "display_data"
    }
   ],
   "source": [
    "from yellowbrick.regressor import PredictionError\n",
    "from yellowbrick.features import RadViz\n",
    "\n",
    "visualizer = RadViz(size=(720, 600))\n",
    "\n",
    "model = pipe_model\n",
    "visualizer = PredictionError(model)\n",
    "visualizer.fit(X_train, y_train) # Fit the training data to the visualizer\n",
    "visualizer.score(X_test, y_test) # Evaluate the model on the test data\n",
    "visualizer.show();\n",
    "\n",
    "# We found that prices greater than 10 worsened the forecasts."
   ]
  },
  {
   "cell_type": "code",
   "execution_count": null,
   "id": "JCE_OKLlyase",
   "metadata": {
    "executionInfo": {
     "elapsed": 13,
     "status": "ok",
     "timestamp": 1697247326144,
     "user": {
      "displayName": "Orion Cloud",
      "userId": "13399699001942214669"
     },
     "user_tz": -180
    },
    "id": "JCE_OKLlyase"
   },
   "outputs": [],
   "source": []
  },
  {
   "cell_type": "code",
   "execution_count": 30,
   "id": "ef836570",
   "metadata": {
    "colab": {
     "base_uri": "https://localhost:8080/"
    },
    "executionInfo": {
     "elapsed": 12,
     "status": "ok",
     "timestamp": 1697247326144,
     "user": {
      "displayName": "Orion Cloud",
      "userId": "13399699001942214669"
     },
     "user_tz": -180
    },
    "id": "ef836570",
    "lang": "en",
    "outputId": "ddfd83af-afa6-4f58-8428-1506a550bb2e"
   },
   "outputs": [
    {
     "data": {
      "text/plain": [
       "28"
      ]
     },
     "execution_count": 30,
     "metadata": {},
     "output_type": "execute_result"
    }
   ],
   "source": [
    "len(df[df.Selling_Price > 10])\n",
    "\n",
    "# There are 28 observations over 10 in the data. And since the whole data rate is 9%, we drop it."
   ]
  },
  {
   "cell_type": "code",
   "execution_count": 31,
   "id": "d7f67003",
   "metadata": {
    "colab": {
     "base_uri": "https://localhost:8080/"
    },
    "executionInfo": {
     "elapsed": 9,
     "status": "ok",
     "timestamp": 1697247326144,
     "user": {
      "displayName": "Orion Cloud",
      "userId": "13399699001942214669"
     },
     "user_tz": -180
    },
    "id": "d7f67003",
    "outputId": "2003e406-e1b3-4f7b-bd42-338c05b7845c"
   },
   "outputs": [
    {
     "data": {
      "text/plain": [
       "0.09302325581395349"
      ]
     },
     "execution_count": 31,
     "metadata": {},
     "output_type": "execute_result"
    }
   ],
   "source": [
    "28/301"
   ]
  },
  {
   "cell_type": "code",
   "execution_count": 32,
   "id": "70a31b6d",
   "metadata": {
    "colab": {
     "base_uri": "https://localhost:8080/",
     "height": 206
    },
    "executionInfo": {
     "elapsed": 8,
     "status": "ok",
     "timestamp": 1697247326144,
     "user": {
      "displayName": "Orion Cloud",
      "userId": "13399699001942214669"
     },
     "user_tz": -180
    },
    "id": "70a31b6d",
    "lang": "en",
    "outputId": "549978ca-3bf6-445b-a3b6-ec13669b840a"
   },
   "outputs": [
    {
     "data": {
      "text/html": [
       "<div>\n",
       "<style scoped>\n",
       "    .dataframe tbody tr th:only-of-type {\n",
       "        vertical-align: middle;\n",
       "    }\n",
       "\n",
       "    .dataframe tbody tr th {\n",
       "        vertical-align: top;\n",
       "    }\n",
       "\n",
       "    .dataframe thead th {\n",
       "        text-align: right;\n",
       "    }\n",
       "</style>\n",
       "<table border=\"1\" class=\"dataframe\">\n",
       "  <thead>\n",
       "    <tr style=\"text-align: right;\">\n",
       "      <th></th>\n",
       "      <th>Selling_Price</th>\n",
       "      <th>Present_Price</th>\n",
       "      <th>Kms_Driven</th>\n",
       "      <th>Fuel_Type</th>\n",
       "      <th>Seller_Type</th>\n",
       "      <th>Transmission</th>\n",
       "      <th>Owner</th>\n",
       "      <th>vehicle_age</th>\n",
       "    </tr>\n",
       "  </thead>\n",
       "  <tbody>\n",
       "    <tr>\n",
       "      <th>0</th>\n",
       "      <td>3.350</td>\n",
       "      <td>5.590</td>\n",
       "      <td>27000</td>\n",
       "      <td>Petrol</td>\n",
       "      <td>Dealer</td>\n",
       "      <td>Manual</td>\n",
       "      <td>0</td>\n",
       "      <td>8</td>\n",
       "    </tr>\n",
       "    <tr>\n",
       "      <th>1</th>\n",
       "      <td>4.750</td>\n",
       "      <td>9.540</td>\n",
       "      <td>43000</td>\n",
       "      <td>Diesel</td>\n",
       "      <td>Dealer</td>\n",
       "      <td>Manual</td>\n",
       "      <td>0</td>\n",
       "      <td>9</td>\n",
       "    </tr>\n",
       "    <tr>\n",
       "      <th>2</th>\n",
       "      <td>7.250</td>\n",
       "      <td>9.850</td>\n",
       "      <td>6900</td>\n",
       "      <td>Petrol</td>\n",
       "      <td>Dealer</td>\n",
       "      <td>Manual</td>\n",
       "      <td>0</td>\n",
       "      <td>5</td>\n",
       "    </tr>\n",
       "    <tr>\n",
       "      <th>3</th>\n",
       "      <td>2.850</td>\n",
       "      <td>4.150</td>\n",
       "      <td>5200</td>\n",
       "      <td>Petrol</td>\n",
       "      <td>Dealer</td>\n",
       "      <td>Manual</td>\n",
       "      <td>0</td>\n",
       "      <td>11</td>\n",
       "    </tr>\n",
       "    <tr>\n",
       "      <th>4</th>\n",
       "      <td>4.600</td>\n",
       "      <td>6.870</td>\n",
       "      <td>42450</td>\n",
       "      <td>Diesel</td>\n",
       "      <td>Dealer</td>\n",
       "      <td>Manual</td>\n",
       "      <td>0</td>\n",
       "      <td>8</td>\n",
       "    </tr>\n",
       "  </tbody>\n",
       "</table>\n",
       "</div>"
      ],
      "text/plain": [
       "   Selling_Price  Present_Price  Kms_Driven Fuel_Type Seller_Type  \\\n",
       "0          3.350          5.590       27000    Petrol      Dealer   \n",
       "1          4.750          9.540       43000    Diesel      Dealer   \n",
       "2          7.250          9.850        6900    Petrol      Dealer   \n",
       "3          2.850          4.150        5200    Petrol      Dealer   \n",
       "4          4.600          6.870       42450    Diesel      Dealer   \n",
       "\n",
       "  Transmission  Owner  vehicle_age  \n",
       "0       Manual      0            8  \n",
       "1       Manual      0            9  \n",
       "2       Manual      0            5  \n",
       "3       Manual      0           11  \n",
       "4       Manual      0            8  "
      ]
     },
     "execution_count": 32,
     "metadata": {},
     "output_type": "execute_result"
    }
   ],
   "source": [
    "df_new = df[df.Selling_Price < 10]\n",
    "df_new.head()\n",
    "\n",
    "# We filtered out prices greater than 10"
   ]
  },
  {
   "cell_type": "code",
   "execution_count": 33,
   "id": "bbd9bef2",
   "metadata": {
    "executionInfo": {
     "elapsed": 7,
     "status": "ok",
     "timestamp": 1697247326144,
     "user": {
      "displayName": "Orion Cloud",
      "userId": "13399699001942214669"
     },
     "user_tz": -180
    },
    "id": "bbd9bef2"
   },
   "outputs": [],
   "source": [
    "X = df_new.drop(columns=\"Selling_Price\")\n",
    "y = df_new.Selling_Price"
   ]
  },
  {
   "cell_type": "code",
   "execution_count": 34,
   "id": "5b2f4452",
   "metadata": {
    "executionInfo": {
     "elapsed": 7,
     "status": "ok",
     "timestamp": 1697247326144,
     "user": {
      "displayName": "Orion Cloud",
      "userId": "13399699001942214669"
     },
     "user_tz": -180
    },
    "id": "5b2f4452"
   },
   "outputs": [],
   "source": [
    "X_train, X_test, y_train, y_test = train_test_split(X, y, test_size=0.2, random_state=5)"
   ]
  },
  {
   "cell_type": "code",
   "execution_count": 35,
   "id": "361486c9",
   "metadata": {
    "colab": {
     "base_uri": "https://localhost:8080/",
     "height": 192
    },
    "executionInfo": {
     "elapsed": 7,
     "status": "ok",
     "timestamp": 1697247326144,
     "user": {
      "displayName": "Orion Cloud",
      "userId": "13399699001942214669"
     },
     "user_tz": -180
    },
    "id": "361486c9",
    "outputId": "6c84188e-aaff-46fe-cd06-8d54b15151b8"
   },
   "outputs": [
    {
     "data": {
      "text/html": [
       "<style>#sk-container-id-2 {color: black;background-color: white;}#sk-container-id-2 pre{padding: 0;}#sk-container-id-2 div.sk-toggleable {background-color: white;}#sk-container-id-2 label.sk-toggleable__label {cursor: pointer;display: block;width: 100%;margin-bottom: 0;padding: 0.3em;box-sizing: border-box;text-align: center;}#sk-container-id-2 label.sk-toggleable__label-arrow:before {content: \"▸\";float: left;margin-right: 0.25em;color: #696969;}#sk-container-id-2 label.sk-toggleable__label-arrow:hover:before {color: black;}#sk-container-id-2 div.sk-estimator:hover label.sk-toggleable__label-arrow:before {color: black;}#sk-container-id-2 div.sk-toggleable__content {max-height: 0;max-width: 0;overflow: hidden;text-align: left;background-color: #f0f8ff;}#sk-container-id-2 div.sk-toggleable__content pre {margin: 0.2em;color: black;border-radius: 0.25em;background-color: #f0f8ff;}#sk-container-id-2 input.sk-toggleable__control:checked~div.sk-toggleable__content {max-height: 200px;max-width: 100%;overflow: auto;}#sk-container-id-2 input.sk-toggleable__control:checked~label.sk-toggleable__label-arrow:before {content: \"▾\";}#sk-container-id-2 div.sk-estimator input.sk-toggleable__control:checked~label.sk-toggleable__label {background-color: #d4ebff;}#sk-container-id-2 div.sk-label input.sk-toggleable__control:checked~label.sk-toggleable__label {background-color: #d4ebff;}#sk-container-id-2 input.sk-hidden--visually {border: 0;clip: rect(1px 1px 1px 1px);clip: rect(1px, 1px, 1px, 1px);height: 1px;margin: -1px;overflow: hidden;padding: 0;position: absolute;width: 1px;}#sk-container-id-2 div.sk-estimator {font-family: monospace;background-color: #f0f8ff;border: 1px dotted black;border-radius: 0.25em;box-sizing: border-box;margin-bottom: 0.5em;}#sk-container-id-2 div.sk-estimator:hover {background-color: #d4ebff;}#sk-container-id-2 div.sk-parallel-item::after {content: \"\";width: 100%;border-bottom: 1px solid gray;flex-grow: 1;}#sk-container-id-2 div.sk-label:hover label.sk-toggleable__label {background-color: #d4ebff;}#sk-container-id-2 div.sk-serial::before {content: \"\";position: absolute;border-left: 1px solid gray;box-sizing: border-box;top: 0;bottom: 0;left: 50%;z-index: 0;}#sk-container-id-2 div.sk-serial {display: flex;flex-direction: column;align-items: center;background-color: white;padding-right: 0.2em;padding-left: 0.2em;position: relative;}#sk-container-id-2 div.sk-item {position: relative;z-index: 1;}#sk-container-id-2 div.sk-parallel {display: flex;align-items: stretch;justify-content: center;background-color: white;position: relative;}#sk-container-id-2 div.sk-item::before, #sk-container-id-2 div.sk-parallel-item::before {content: \"\";position: absolute;border-left: 1px solid gray;box-sizing: border-box;top: 0;bottom: 0;left: 50%;z-index: -1;}#sk-container-id-2 div.sk-parallel-item {display: flex;flex-direction: column;z-index: 1;position: relative;background-color: white;}#sk-container-id-2 div.sk-parallel-item:first-child::after {align-self: flex-end;width: 50%;}#sk-container-id-2 div.sk-parallel-item:last-child::after {align-self: flex-start;width: 50%;}#sk-container-id-2 div.sk-parallel-item:only-child::after {width: 0;}#sk-container-id-2 div.sk-dashed-wrapped {border: 1px dashed gray;margin: 0 0.4em 0.5em 0.4em;box-sizing: border-box;padding-bottom: 0.4em;background-color: white;}#sk-container-id-2 div.sk-label label {font-family: monospace;font-weight: bold;display: inline-block;line-height: 1.2em;}#sk-container-id-2 div.sk-label-container {text-align: center;}#sk-container-id-2 div.sk-container {/* jupyter's `normalize.less` sets `[hidden] { display: none; }` but bootstrap.min.css set `[hidden] { display: none !important; }` so we also need the `!important` here to be able to override the default hidden behavior on the sphinx rendered scikit-learn.org. See: https://github.com/scikit-learn/scikit-learn/issues/21755 */display: inline-block !important;position: relative;}#sk-container-id-2 div.sk-text-repr-fallback {display: none;}</style><div id=\"sk-container-id-2\" class=\"sk-top-container\"><div class=\"sk-text-repr-fallback\"><pre>Pipeline(steps=[(&#x27;OrdinalEncoder&#x27;,\n",
       "                 ColumnTransformer(remainder=&#x27;passthrough&#x27;,\n",
       "                                   transformers=[(&#x27;ordinalencoder&#x27;,\n",
       "                                                  OrdinalEncoder(handle_unknown=&#x27;use_encoded_value&#x27;,\n",
       "                                                                 unknown_value=-1),\n",
       "                                                  Index([&#x27;Fuel_Type&#x27;, &#x27;Seller_Type&#x27;, &#x27;Transmission&#x27;], dtype=&#x27;object&#x27;))],\n",
       "                                   verbose_feature_names_out=False)),\n",
       "                (&#x27;DT_model&#x27;, DecisionTreeRegressor(random_state=101))])</pre><b>In a Jupyter environment, please rerun this cell to show the HTML representation or trust the notebook. <br />On GitHub, the HTML representation is unable to render, please try loading this page with nbviewer.org.</b></div><div class=\"sk-container\" hidden><div class=\"sk-item sk-dashed-wrapped\"><div class=\"sk-label-container\"><div class=\"sk-label sk-toggleable\"><input class=\"sk-toggleable__control sk-hidden--visually\" id=\"sk-estimator-id-8\" type=\"checkbox\" ><label for=\"sk-estimator-id-8\" class=\"sk-toggleable__label sk-toggleable__label-arrow\">Pipeline</label><div class=\"sk-toggleable__content\"><pre>Pipeline(steps=[(&#x27;OrdinalEncoder&#x27;,\n",
       "                 ColumnTransformer(remainder=&#x27;passthrough&#x27;,\n",
       "                                   transformers=[(&#x27;ordinalencoder&#x27;,\n",
       "                                                  OrdinalEncoder(handle_unknown=&#x27;use_encoded_value&#x27;,\n",
       "                                                                 unknown_value=-1),\n",
       "                                                  Index([&#x27;Fuel_Type&#x27;, &#x27;Seller_Type&#x27;, &#x27;Transmission&#x27;], dtype=&#x27;object&#x27;))],\n",
       "                                   verbose_feature_names_out=False)),\n",
       "                (&#x27;DT_model&#x27;, DecisionTreeRegressor(random_state=101))])</pre></div></div></div><div class=\"sk-serial\"><div class=\"sk-item sk-dashed-wrapped\"><div class=\"sk-label-container\"><div class=\"sk-label sk-toggleable\"><input class=\"sk-toggleable__control sk-hidden--visually\" id=\"sk-estimator-id-9\" type=\"checkbox\" ><label for=\"sk-estimator-id-9\" class=\"sk-toggleable__label sk-toggleable__label-arrow\">OrdinalEncoder: ColumnTransformer</label><div class=\"sk-toggleable__content\"><pre>ColumnTransformer(remainder=&#x27;passthrough&#x27;,\n",
       "                  transformers=[(&#x27;ordinalencoder&#x27;,\n",
       "                                 OrdinalEncoder(handle_unknown=&#x27;use_encoded_value&#x27;,\n",
       "                                                unknown_value=-1),\n",
       "                                 Index([&#x27;Fuel_Type&#x27;, &#x27;Seller_Type&#x27;, &#x27;Transmission&#x27;], dtype=&#x27;object&#x27;))],\n",
       "                  verbose_feature_names_out=False)</pre></div></div></div><div class=\"sk-parallel\"><div class=\"sk-parallel-item\"><div class=\"sk-item\"><div class=\"sk-label-container\"><div class=\"sk-label sk-toggleable\"><input class=\"sk-toggleable__control sk-hidden--visually\" id=\"sk-estimator-id-10\" type=\"checkbox\" ><label for=\"sk-estimator-id-10\" class=\"sk-toggleable__label sk-toggleable__label-arrow\">ordinalencoder</label><div class=\"sk-toggleable__content\"><pre>Index([&#x27;Fuel_Type&#x27;, &#x27;Seller_Type&#x27;, &#x27;Transmission&#x27;], dtype=&#x27;object&#x27;)</pre></div></div></div><div class=\"sk-serial\"><div class=\"sk-item\"><div class=\"sk-estimator sk-toggleable\"><input class=\"sk-toggleable__control sk-hidden--visually\" id=\"sk-estimator-id-11\" type=\"checkbox\" ><label for=\"sk-estimator-id-11\" class=\"sk-toggleable__label sk-toggleable__label-arrow\">OrdinalEncoder</label><div class=\"sk-toggleable__content\"><pre>OrdinalEncoder(handle_unknown=&#x27;use_encoded_value&#x27;, unknown_value=-1)</pre></div></div></div></div></div></div><div class=\"sk-parallel-item\"><div class=\"sk-item\"><div class=\"sk-label-container\"><div class=\"sk-label sk-toggleable\"><input class=\"sk-toggleable__control sk-hidden--visually\" id=\"sk-estimator-id-12\" type=\"checkbox\" ><label for=\"sk-estimator-id-12\" class=\"sk-toggleable__label sk-toggleable__label-arrow\">remainder</label><div class=\"sk-toggleable__content\"><pre>[&#x27;Present_Price&#x27;, &#x27;Kms_Driven&#x27;, &#x27;Owner&#x27;, &#x27;vehicle_age&#x27;]</pre></div></div></div><div class=\"sk-serial\"><div class=\"sk-item\"><div class=\"sk-estimator sk-toggleable\"><input class=\"sk-toggleable__control sk-hidden--visually\" id=\"sk-estimator-id-13\" type=\"checkbox\" ><label for=\"sk-estimator-id-13\" class=\"sk-toggleable__label sk-toggleable__label-arrow\">passthrough</label><div class=\"sk-toggleable__content\"><pre>passthrough</pre></div></div></div></div></div></div></div></div><div class=\"sk-item\"><div class=\"sk-estimator sk-toggleable\"><input class=\"sk-toggleable__control sk-hidden--visually\" id=\"sk-estimator-id-14\" type=\"checkbox\" ><label for=\"sk-estimator-id-14\" class=\"sk-toggleable__label sk-toggleable__label-arrow\">DecisionTreeRegressor</label><div class=\"sk-toggleable__content\"><pre>DecisionTreeRegressor(random_state=101)</pre></div></div></div></div></div></div></div>"
      ],
      "text/plain": [
       "Pipeline(steps=[('OrdinalEncoder',\n",
       "                 ColumnTransformer(remainder='passthrough',\n",
       "                                   transformers=[('ordinalencoder',\n",
       "                                                  OrdinalEncoder(handle_unknown='use_encoded_value',\n",
       "                                                                 unknown_value=-1),\n",
       "                                                  Index(['Fuel_Type', 'Seller_Type', 'Transmission'], dtype='object'))],\n",
       "                                   verbose_feature_names_out=False)),\n",
       "                ('DT_model', DecisionTreeRegressor(random_state=101))])"
      ]
     },
     "execution_count": 35,
     "metadata": {},
     "output_type": "execute_result"
    }
   ],
   "source": [
    "operations = [(\"OrdinalEncoder\", column_trans),\n",
    "              (\"DT_model\", DecisionTreeRegressor(random_state=101))]\n",
    "\n",
    "pipe_model = Pipeline(steps=operations)\n",
    "\n",
    "pipe_model.fit(X_train, y_train)"
   ]
  },
  {
   "cell_type": "code",
   "execution_count": 36,
   "id": "261d4f50",
   "metadata": {
    "colab": {
     "base_uri": "https://localhost:8080/",
     "height": 206
    },
    "executionInfo": {
     "elapsed": 6,
     "status": "ok",
     "timestamp": 1697247326144,
     "user": {
      "displayName": "Orion Cloud",
      "userId": "13399699001942214669"
     },
     "user_tz": -180
    },
    "id": "261d4f50",
    "lang": "en",
    "outputId": "888334cc-b916-4a82-dde4-2938999e486a"
   },
   "outputs": [
    {
     "data": {
      "text/html": [
       "<div>\n",
       "<style scoped>\n",
       "    .dataframe tbody tr th:only-of-type {\n",
       "        vertical-align: middle;\n",
       "    }\n",
       "\n",
       "    .dataframe tbody tr th {\n",
       "        vertical-align: top;\n",
       "    }\n",
       "\n",
       "    .dataframe thead th {\n",
       "        text-align: right;\n",
       "    }\n",
       "</style>\n",
       "<table border=\"1\" class=\"dataframe\">\n",
       "  <thead>\n",
       "    <tr style=\"text-align: right;\">\n",
       "      <th></th>\n",
       "      <th>train</th>\n",
       "      <th>test</th>\n",
       "    </tr>\n",
       "  </thead>\n",
       "  <tbody>\n",
       "    <tr>\n",
       "      <th>R2</th>\n",
       "      <td>1.000</td>\n",
       "      <td>0.945</td>\n",
       "    </tr>\n",
       "    <tr>\n",
       "      <th>mae</th>\n",
       "      <td>0.000</td>\n",
       "      <td>0.410</td>\n",
       "    </tr>\n",
       "    <tr>\n",
       "      <th>mse</th>\n",
       "      <td>0.000</td>\n",
       "      <td>0.377</td>\n",
       "    </tr>\n",
       "    <tr>\n",
       "      <th>rmse</th>\n",
       "      <td>0.000</td>\n",
       "      <td>0.614</td>\n",
       "    </tr>\n",
       "    <tr>\n",
       "      <th>mape</th>\n",
       "      <td>0.000</td>\n",
       "      <td>0.243</td>\n",
       "    </tr>\n",
       "  </tbody>\n",
       "</table>\n",
       "</div>"
      ],
      "text/plain": [
       "      train  test\n",
       "R2    1.000 0.945\n",
       "mae   0.000 0.410\n",
       "mse   0.000 0.377\n",
       "rmse  0.000 0.614\n",
       "mape  0.000 0.243"
      ]
     },
     "execution_count": 36,
     "metadata": {},
     "output_type": "execute_result"
    }
   ],
   "source": [
    "train_val(pipe_model, X_train, y_train, X_test, y_test)\n",
    "\n",
    "# After filtering, the scores of our test data got better, but the overfiting still could not be fixed."
   ]
  },
  {
   "cell_type": "code",
   "execution_count": 37,
   "id": "5c8e6b06",
   "metadata": {
    "colab": {
     "base_uri": "https://localhost:8080/",
     "height": 490
    },
    "executionInfo": {
     "elapsed": 982,
     "status": "ok",
     "timestamp": 1697247327121,
     "user": {
      "displayName": "Orion Cloud",
      "userId": "13399699001942214669"
     },
     "user_tz": -180
    },
    "id": "5c8e6b06",
    "lang": "en",
    "outputId": "b79ec8ea-9864-4059-a6fe-10129c2a53d5"
   },
   "outputs": [
    {
     "data": {
      "image/png": "[encoded data removed]",
      "text/plain": [
       "<Figure size 500x1000 with 1 Axes>"
      ]
     },
     "metadata": {},
     "output_type": "display_data"
    }
   ],
   "source": [
    "visualizer = RadViz(size=(500, 1000))\n",
    "\n",
    "model = pipe_model\n",
    "visualizer = PredictionError(model)\n",
    "visualizer.fit(X_train, y_train) # Fit the training data to the visualizer\n",
    "visualizer.score(X_test, y_test) # Evaluate the model on the test data\n",
    "visualizer.show();\n",
    "\n",
    "# We see here that the scores got better after filtering."
   ]
  },
  {
   "cell_type": "markdown",
   "id": "ignored-intensity",
   "metadata": {
    "id": "ignored-intensity"
   },
   "source": [
    "## Visualizing trees"
   ]
  },
  {
   "cell_type": "code",
   "execution_count": 38,
   "id": "infectious-cricket",
   "metadata": {
    "executionInfo": {
     "elapsed": 6,
     "status": "ok",
     "timestamp": 1697247327121,
     "user": {
      "displayName": "Orion Cloud",
      "userId": "13399699001942214669"
     },
     "user_tz": -180
    },
    "id": "infectious-cricket"
   },
   "outputs": [],
   "source": [
    "from sklearn.tree import plot_tree"
   ]
  },
  {
   "cell_type": "code",
   "execution_count": 39,
   "id": "bb828852",
   "metadata": {
    "colab": {
     "base_uri": "https://localhost:8080/"
    },
    "executionInfo": {
     "elapsed": 6,
     "status": "ok",
     "timestamp": 1697247327121,
     "user": {
      "displayName": "Orion Cloud",
      "userId": "13399699001942214669"
     },
     "user_tz": -180
    },
    "id": "bb828852",
    "lang": "en",
    "outputId": "edd98d51-35ac-481a-e9b1-6f82af284968"
   },
   "outputs": [
    {
     "data": {
      "text/plain": [
       "array(['Fuel_Type', 'Seller_Type', 'Transmission', 'Present_Price',\n",
       "       'Kms_Driven', 'Owner', 'vehicle_age'], dtype=object)"
      ]
     },
     "execution_count": 39,
     "metadata": {},
     "output_type": "execute_result"
    }
   ],
   "source": [
    "features = pipe_model[\"OrdinalEncoder\"].get_feature_names_out()\n",
    "\n",
    "features\n",
    "\n",
    "# We keep in mind that the feature order has changed since the make_column_transform function is used in the pipeline."
   ]
  },
  {
   "cell_type": "code",
   "execution_count": 40,
   "id": "cbc6e677",
   "metadata": {
    "colab": {
     "base_uri": "https://localhost:8080/",
     "height": 206
    },
    "executionInfo": {
     "elapsed": 4,
     "status": "ok",
     "timestamp": 1697247327121,
     "user": {
      "displayName": "Orion Cloud",
      "userId": "13399699001942214669"
     },
     "user_tz": -180
    },
    "id": "cbc6e677",
    "outputId": "7d61ef20-8401-4303-d611-48e3610a677c"
   },
   "outputs": [
    {
     "data": {
      "text/html": [
       "<div>\n",
       "<style scoped>\n",
       "    .dataframe tbody tr th:only-of-type {\n",
       "        vertical-align: middle;\n",
       "    }\n",
       "\n",
       "    .dataframe tbody tr th {\n",
       "        vertical-align: top;\n",
       "    }\n",
       "\n",
       "    .dataframe thead th {\n",
       "        text-align: right;\n",
       "    }\n",
       "</style>\n",
       "<table border=\"1\" class=\"dataframe\">\n",
       "  <thead>\n",
       "    <tr style=\"text-align: right;\">\n",
       "      <th></th>\n",
       "      <th>Fuel_Type</th>\n",
       "      <th>Seller_Type</th>\n",
       "      <th>Transmission</th>\n",
       "      <th>Present_Price</th>\n",
       "      <th>Kms_Driven</th>\n",
       "      <th>Owner</th>\n",
       "      <th>vehicle_age</th>\n",
       "    </tr>\n",
       "  </thead>\n",
       "  <tbody>\n",
       "    <tr>\n",
       "      <th>269</th>\n",
       "      <td>2.000</td>\n",
       "      <td>0.000</td>\n",
       "      <td>1.000</td>\n",
       "      <td>10.000</td>\n",
       "      <td>18828</td>\n",
       "      <td>0</td>\n",
       "      <td>7</td>\n",
       "    </tr>\n",
       "    <tr>\n",
       "      <th>179</th>\n",
       "      <td>2.000</td>\n",
       "      <td>1.000</td>\n",
       "      <td>1.000</td>\n",
       "      <td>1.050</td>\n",
       "      <td>213000</td>\n",
       "      <td>0</td>\n",
       "      <td>12</td>\n",
       "    </tr>\n",
       "    <tr>\n",
       "      <th>261</th>\n",
       "      <td>2.000</td>\n",
       "      <td>0.000</td>\n",
       "      <td>1.000</td>\n",
       "      <td>5.970</td>\n",
       "      <td>5600</td>\n",
       "      <td>0</td>\n",
       "      <td>6</td>\n",
       "    </tr>\n",
       "    <tr>\n",
       "      <th>238</th>\n",
       "      <td>2.000</td>\n",
       "      <td>0.000</td>\n",
       "      <td>1.000</td>\n",
       "      <td>9.400</td>\n",
       "      <td>60241</td>\n",
       "      <td>0</td>\n",
       "      <td>9</td>\n",
       "    </tr>\n",
       "    <tr>\n",
       "      <th>204</th>\n",
       "      <td>2.000</td>\n",
       "      <td>0.000</td>\n",
       "      <td>1.000</td>\n",
       "      <td>4.430</td>\n",
       "      <td>28282</td>\n",
       "      <td>0</td>\n",
       "      <td>7</td>\n",
       "    </tr>\n",
       "  </tbody>\n",
       "</table>\n",
       "</div>"
      ],
      "text/plain": [
       "     Fuel_Type  Seller_Type  Transmission  Present_Price  Kms_Driven  Owner  \\\n",
       "269      2.000        0.000         1.000         10.000       18828      0   \n",
       "179      2.000        1.000         1.000          1.050      213000      0   \n",
       "261      2.000        0.000         1.000          5.970        5600      0   \n",
       "238      2.000        0.000         1.000          9.400       60241      0   \n",
       "204      2.000        0.000         1.000          4.430       28282      0   \n",
       "\n",
       "     vehicle_age  \n",
       "269            7  \n",
       "179           12  \n",
       "261            6  \n",
       "238            9  \n",
       "204            7  "
      ]
     },
     "execution_count": 40,
     "metadata": {},
     "output_type": "execute_result"
    }
   ],
   "source": [
    "pipe_model[\"OrdinalEncoder\"].fit_transform(X_train).head()"
   ]
  },
  {
   "cell_type": "code",
   "execution_count": 41,
   "id": "7eaf60d4",
   "metadata": {
    "colab": {
     "base_uri": "https://localhost:8080/",
     "height": 81
    },
    "executionInfo": {
     "elapsed": 4,
     "status": "ok",
     "timestamp": 1697247327121,
     "user": {
      "displayName": "Orion Cloud",
      "userId": "13399699001942214669"
     },
     "user_tz": -180
    },
    "id": "7eaf60d4",
    "outputId": "fb5511e8-3922-49cb-ed39-ee1a05cc6e8c"
   },
   "outputs": [
    {
     "data": {
      "text/html": [
       "<div>\n",
       "<style scoped>\n",
       "    .dataframe tbody tr th:only-of-type {\n",
       "        vertical-align: middle;\n",
       "    }\n",
       "\n",
       "    .dataframe tbody tr th {\n",
       "        vertical-align: top;\n",
       "    }\n",
       "\n",
       "    .dataframe thead th {\n",
       "        text-align: right;\n",
       "    }\n",
       "</style>\n",
       "<table border=\"1\" class=\"dataframe\">\n",
       "  <thead>\n",
       "    <tr style=\"text-align: right;\">\n",
       "      <th></th>\n",
       "      <th>Present_Price</th>\n",
       "      <th>Kms_Driven</th>\n",
       "      <th>Fuel_Type</th>\n",
       "      <th>Seller_Type</th>\n",
       "      <th>Transmission</th>\n",
       "      <th>Owner</th>\n",
       "      <th>vehicle_age</th>\n",
       "    </tr>\n",
       "  </thead>\n",
       "  <tbody>\n",
       "    <tr>\n",
       "      <th>269</th>\n",
       "      <td>10.000</td>\n",
       "      <td>18828</td>\n",
       "      <td>Petrol</td>\n",
       "      <td>Dealer</td>\n",
       "      <td>Manual</td>\n",
       "      <td>0</td>\n",
       "      <td>7</td>\n",
       "    </tr>\n",
       "  </tbody>\n",
       "</table>\n",
       "</div>"
      ],
      "text/plain": [
       "     Present_Price  Kms_Driven Fuel_Type Seller_Type Transmission  Owner  \\\n",
       "269         10.000       18828    Petrol      Dealer       Manual      0   \n",
       "\n",
       "     vehicle_age  \n",
       "269            7  "
      ]
     },
     "execution_count": 41,
     "metadata": {},
     "output_type": "execute_result"
    }
   ],
   "source": [
    "X_train.head(1)"
   ]
  },
  {
   "cell_type": "code",
   "execution_count": 42,
   "id": "da80d74b",
   "metadata": {
    "colab": {
     "base_uri": "https://localhost:8080/",
     "height": 970
    },
    "executionInfo": {
     "elapsed": 33026,
     "status": "ok",
     "timestamp": 1697247360144,
     "user": {
      "displayName": "Orion Cloud",
      "userId": "13399699001942214669"
     },
     "user_tz": -180
    },
    "id": "da80d74b",
    "lang": "en",
    "outputId": "62bc004c-4caf-45d5-98fd-b51e65c68d61"
   },
   "outputs": [
    {
     "data": {
      "image/png": "[encoded data removed]",
      "text/plain": [
       "<Figure size 1800x1200 with 1 Axes>"
      ]
     },
     "metadata": {},
     "output_type": "display_data"
    }
   ],
   "source": [
    "plt.figure(figsize=(12,8), dpi=150)\n",
    "plot_tree(pipe_model[\"DT_model\"], filled=True, feature_names=features.tolist()); #feature_names=X.columns\n",
    "\n",
    "# Branching in regression problems of tree-based models is much more than in classification problems."
   ]
  },
  {
   "cell_type": "code",
   "execution_count": 43,
   "id": "returning-alexandria",
   "metadata": {
    "executionInfo": {
     "elapsed": 5,
     "status": "ok",
     "timestamp": 1697247360144,
     "user": {
      "displayName": "Orion Cloud",
      "userId": "13399699001942214669"
     },
     "user_tz": -180
    },
    "id": "returning-alexandria"
   },
   "outputs": [],
   "source": [
    "def report_model(model):\n",
    "    y_pred = model.predict(X_test)\n",
    "    y_train_pred = model.predict(X_train)\n",
    "    print('\\n')\n",
    "    print(train_val(model, X_train, y_train, X_test, y_test))\n",
    "    print('\\n')\n",
    "    plt.figure(figsize=(12,8),dpi=100)\n",
    "    plot_tree(model[\"DT_model\"],filled=True, feature_names=features.tolist(), fontsize=8); #feature_names=X.columns"
   ]
  },
  {
   "cell_type": "code",
   "execution_count": 44,
   "id": "58779537",
   "metadata": {
    "colab": {
     "base_uri": "https://localhost:8080/",
     "height": 827
    },
    "executionInfo": {
     "elapsed": 713,
     "status": "ok",
     "timestamp": 1697247360853,
     "user": {
      "displayName": "Orion Cloud",
      "userId": "13399699001942214669"
     },
     "user_tz": -180
    },
    "id": "58779537",
    "lang": "en",
    "outputId": "1dfc4560-b087-4249-d9ed-246d06b8d630"
   },
   "outputs": [
    {
     "name": "stdout",
     "output_type": "stream",
     "text": [
      "\n",
      "\n",
      "      train  test\n",
      "R2    0.887 0.890\n",
      "mae   0.578 0.574\n",
      "mse   0.815 0.754\n",
      "rmse  0.903 0.868\n",
      "mape  0.250 0.443\n",
      "\n",
      "\n"
     ]
    },
    {
     "data": {
      "image/png": "[encoded data removed]",
      "text/plain": [
       "<Figure size 1200x800 with 1 Axes>"
      ]
     },
     "metadata": {},
     "output_type": "display_data"
    }
   ],
   "source": [
    "operations = [(\"OrdinalEncoder\", column_trans),\n",
    "              (\"DT_model\", DecisionTreeRegressor(criterion='squared_error',\n",
    "                                                 max_depth=3,\n",
    "                                                 random_state=101))]\n",
    "\n",
    "pruned_tree = Pipeline(steps=operations)\n",
    "pruned_tree.fit(X_train,y_train)\n",
    "\n",
    "report_model(pruned_tree)\n",
    "\n",
    "# The only difference from clasification is criterion='squared_error'. If you remember,\n",
    "# this hyper_parameter was gini or entropy in clasification.\n",
    "# In regression, criterion= \"squared_error\", \"friedman_mse\", \"absolute_error\", \"poisson\"\n",
    "# can take one of the values. But usually this value is used by default because the model gets\n",
    "# the best results in \"squared_error\".\n",
    "\n",
    "# Squared error represents mean squared error. A leaf's error of 0 indicates that\n",
    "# all the cars falling on that leaf are of the same price, while a value close to 0 indicates\n",
    "# that the prices are very close to each other. A high error value indicates that the prices of\n",
    "# that leaf are very close to each other. indicates that irrelevant cars have crashed.\n",
    "\n",
    "# sampales shows the total number of observations in the corresponding leaf.\n",
    "\n",
    "# value shows the average price of the observations in the relevant sheet.\n",
    "\n",
    "# The value of the leaf on whichever leaf we predict falls on, becomes the value predicted by the model of the car."
   ]
  },
  {
   "cell_type": "markdown",
   "id": "growing-landscape",
   "metadata": {
    "id": "growing-landscape"
   },
   "source": [
    "## GridSearch"
   ]
  },
  {
   "cell_type": "code",
   "execution_count": 45,
   "id": "sippe4ZPkmn-",
   "metadata": {
    "executionInfo": {
     "elapsed": 6,
     "status": "ok",
     "timestamp": 1697247360853,
     "user": {
      "displayName": "Orion Cloud",
      "userId": "13399699001942214669"
     },
     "user_tz": -180
    },
    "id": "sippe4ZPkmn-"
   },
   "outputs": [
    {
     "name": "stdout",
     "output_type": "stream",
     "text": [
      "\u001b[1;31mInit signature:\u001b[0m\n",
      "\u001b[0mDecisionTreeRegressor\u001b[0m\u001b[1;33m(\u001b[0m\u001b[1;33m\n",
      "\u001b[0m    \u001b[1;33m*\u001b[0m\u001b[1;33m,\u001b[0m\u001b[1;33m\n",
      "\u001b[0m    \u001b[0mcriterion\u001b[0m\u001b[1;33m=\u001b[0m\u001b[1;34m'squared_error'\u001b[0m\u001b[1;33m,\u001b[0m\u001b[1;33m\n",
      "\u001b[0m    \u001b[0msplitter\u001b[0m\u001b[1;33m=\u001b[0m\u001b[1;34m'best'\u001b[0m\u001b[1;33m,\u001b[0m\u001b[1;33m\n",
      "\u001b[0m    \u001b[0mmax_depth\u001b[0m\u001b[1;33m=\u001b[0m\u001b[1;32mNone\u001b[0m\u001b[1;33m,\u001b[0m\u001b[1;33m\n",
      "\u001b[0m    \u001b[0mmin_samples_split\u001b[0m\u001b[1;33m=\u001b[0m\u001b[1;36m2\u001b[0m\u001b[1;33m,\u001b[0m\u001b[1;33m\n",
      "\u001b[0m    \u001b[0mmin_samples_leaf\u001b[0m\u001b[1;33m=\u001b[0m\u001b[1;36m1\u001b[0m\u001b[1;33m,\u001b[0m\u001b[1;33m\n",
      "\u001b[0m    \u001b[0mmin_weight_fraction_leaf\u001b[0m\u001b[1;33m=\u001b[0m\u001b[1;36m0.0\u001b[0m\u001b[1;33m,\u001b[0m\u001b[1;33m\n",
      "\u001b[0m    \u001b[0mmax_features\u001b[0m\u001b[1;33m=\u001b[0m\u001b[1;32mNone\u001b[0m\u001b[1;33m,\u001b[0m\u001b[1;33m\n",
      "\u001b[0m    \u001b[0mrandom_state\u001b[0m\u001b[1;33m=\u001b[0m\u001b[1;32mNone\u001b[0m\u001b[1;33m,\u001b[0m\u001b[1;33m\n",
      "\u001b[0m    \u001b[0mmax_leaf_nodes\u001b[0m\u001b[1;33m=\u001b[0m\u001b[1;32mNone\u001b[0m\u001b[1;33m,\u001b[0m\u001b[1;33m\n",
      "\u001b[0m    \u001b[0mmin_impurity_decrease\u001b[0m\u001b[1;33m=\u001b[0m\u001b[1;36m0.0\u001b[0m\u001b[1;33m,\u001b[0m\u001b[1;33m\n",
      "\u001b[0m    \u001b[0mccp_alpha\u001b[0m\u001b[1;33m=\u001b[0m\u001b[1;36m0.0\u001b[0m\u001b[1;33m,\u001b[0m\u001b[1;33m\n",
      "\u001b[0m\u001b[1;33m)\u001b[0m\u001b[1;33m\u001b[0m\u001b[1;33m\u001b[0m\u001b[0m\n",
      "\u001b[1;31mDocstring:\u001b[0m     \n",
      "A decision tree regressor.\n",
      "\n",
      "Read more in the :ref:`User Guide <tree>`.\n",
      "\n",
      "Parameters\n",
      "----------\n",
      "criterion : {\"squared_error\", \"friedman_mse\", \"absolute_error\",             \"poisson\"}, default=\"squared_error\"\n",
      "    The function to measure the quality of a split. Supported criteria\n",
      "    are \"squared_error\" for the mean squared error, which is equal to\n",
      "    variance reduction as feature selection criterion and minimizes the L2\n",
      "    loss using the mean of each terminal node, \"friedman_mse\", which uses\n",
      "    mean squared error with Friedman's improvement score for potential\n",
      "    splits, \"absolute_error\" for the mean absolute error, which minimizes\n",
      "    the L1 loss using the median of each terminal node, and \"poisson\" which\n",
      "    uses reduction in Poisson deviance to find splits.\n",
      "\n",
      "    .. versionadded:: 0.18\n",
      "       Mean Absolute Error (MAE) criterion.\n",
      "\n",
      "    .. versionadded:: 0.24\n",
      "        Poisson deviance criterion.\n",
      "\n",
      "splitter : {\"best\", \"random\"}, default=\"best\"\n",
      "    The strategy used to choose the split at each node. Supported\n",
      "    strategies are \"best\" to choose the best split and \"random\" to choose\n",
      "    the best random split.\n",
      "\n",
      "max_depth : int, default=None\n",
      "    The maximum depth of the tree. If None, then nodes are expanded until\n",
      "    all leaves are pure or until all leaves contain less than\n",
      "    min_samples_split samples.\n",
      "\n",
      "min_samples_split : int or float, default=2\n",
      "    The minimum number of samples required to split an internal node:\n",
      "\n",
      "    - If int, then consider `min_samples_split` as the minimum number.\n",
      "    - If float, then `min_samples_split` is a fraction and\n",
      "      `ceil(min_samples_split * n_samples)` are the minimum\n",
      "      number of samples for each split.\n",
      "\n",
      "    .. versionchanged:: 0.18\n",
      "       Added float values for fractions.\n",
      "\n",
      "min_samples_leaf : int or float, default=1\n",
      "    The minimum number of samples required to be at a leaf node.\n",
      "    A split point at any depth will only be considered if it leaves at\n",
      "    least ``min_samples_leaf`` training samples in each of the left and\n",
      "    right branches.  This may have the effect of smoothing the model,\n",
      "    especially in regression.\n",
      "\n",
      "    - If int, then consider `min_samples_leaf` as the minimum number.\n",
      "    - If float, then `min_samples_leaf` is a fraction and\n",
      "      `ceil(min_samples_leaf * n_samples)` are the minimum\n",
      "      number of samples for each node.\n",
      "\n",
      "    .. versionchanged:: 0.18\n",
      "       Added float values for fractions.\n",
      "\n",
      "min_weight_fraction_leaf : float, default=0.0\n",
      "    The minimum weighted fraction of the sum total of weights (of all\n",
      "    the input samples) required to be at a leaf node. Samples have\n",
      "    equal weight when sample_weight is not provided.\n",
      "\n",
      "max_features : int, float or {\"auto\", \"sqrt\", \"log2\"}, default=None\n",
      "    The number of features to consider when looking for the best split:\n",
      "\n",
      "    - If int, then consider `max_features` features at each split.\n",
      "    - If float, then `max_features` is a fraction and\n",
      "      `max(1, int(max_features * n_features_in_))` features are considered at each\n",
      "      split.\n",
      "    - If \"auto\", then `max_features=n_features`.\n",
      "    - If \"sqrt\", then `max_features=sqrt(n_features)`.\n",
      "    - If \"log2\", then `max_features=log2(n_features)`.\n",
      "    - If None, then `max_features=n_features`.\n",
      "\n",
      "    .. deprecated:: 1.1\n",
      "        The `\"auto\"` option was deprecated in 1.1 and will be removed\n",
      "        in 1.3.\n",
      "\n",
      "    Note: the search for a split does not stop until at least one\n",
      "    valid partition of the node samples is found, even if it requires to\n",
      "    effectively inspect more than ``max_features`` features.\n",
      "\n",
      "random_state : int, RandomState instance or None, default=None\n",
      "    Controls the randomness of the estimator. The features are always\n",
      "    randomly permuted at each split, even if ``splitter`` is set to\n",
      "    ``\"best\"``. When ``max_features < n_features``, the algorithm will\n",
      "    select ``max_features`` at random at each split before finding the best\n",
      "    split among them. But the best found split may vary across different\n",
      "    runs, even if ``max_features=n_features``. That is the case, if the\n",
      "    improvement of the criterion is identical for several splits and one\n",
      "    split has to be selected at random. To obtain a deterministic behaviour\n",
      "    during fitting, ``random_state`` has to be fixed to an integer.\n",
      "    See :term:`Glossary <random_state>` for details.\n",
      "\n",
      "max_leaf_nodes : int, default=None\n",
      "    Grow a tree with ``max_leaf_nodes`` in best-first fashion.\n",
      "    Best nodes are defined as relative reduction in impurity.\n",
      "    If None then unlimited number of leaf nodes.\n",
      "\n",
      "min_impurity_decrease : float, default=0.0\n",
      "    A node will be split if this split induces a decrease of the impurity\n",
      "    greater than or equal to this value.\n",
      "\n",
      "    The weighted impurity decrease equation is the following::\n",
      "\n",
      "        N_t / N * (impurity - N_t_R / N_t * right_impurity\n",
      "                            - N_t_L / N_t * left_impurity)\n",
      "\n",
      "    where ``N`` is the total number of samples, ``N_t`` is the number of\n",
      "    samples at the current node, ``N_t_L`` is the number of samples in the\n",
      "    left child, and ``N_t_R`` is the number of samples in the right child.\n",
      "\n",
      "    ``N``, ``N_t``, ``N_t_R`` and ``N_t_L`` all refer to the weighted sum,\n",
      "    if ``sample_weight`` is passed.\n",
      "\n",
      "    .. versionadded:: 0.19\n",
      "\n",
      "ccp_alpha : non-negative float, default=0.0\n",
      "    Complexity parameter used for Minimal Cost-Complexity Pruning. The\n",
      "    subtree with the largest cost complexity that is smaller than\n",
      "    ``ccp_alpha`` will be chosen. By default, no pruning is performed. See\n",
      "    :ref:`minimal_cost_complexity_pruning` for details.\n",
      "\n",
      "    .. versionadded:: 0.22\n",
      "\n",
      "Attributes\n",
      "----------\n",
      "feature_importances_ : ndarray of shape (n_features,)\n",
      "    The feature importances.\n",
      "    The higher, the more important the feature.\n",
      "    The importance of a feature is computed as the\n",
      "    (normalized) total reduction of the criterion brought\n",
      "    by that feature. It is also known as the Gini importance [4]_.\n",
      "\n",
      "    Warning: impurity-based feature importances can be misleading for\n",
      "    high cardinality features (many unique values). See\n",
      "    :func:`sklearn.inspection.permutation_importance` as an alternative.\n",
      "\n",
      "max_features_ : int\n",
      "    The inferred value of max_features.\n",
      "\n",
      "n_features_in_ : int\n",
      "    Number of features seen during :term:`fit`.\n",
      "\n",
      "    .. versionadded:: 0.24\n",
      "\n",
      "feature_names_in_ : ndarray of shape (`n_features_in_`,)\n",
      "    Names of features seen during :term:`fit`. Defined only when `X`\n",
      "    has feature names that are all strings.\n",
      "\n",
      "    .. versionadded:: 1.0\n",
      "\n",
      "n_outputs_ : int\n",
      "    The number of outputs when ``fit`` is performed.\n",
      "\n",
      "tree_ : Tree instance\n",
      "    The underlying Tree object. Please refer to\n",
      "    ``help(sklearn.tree._tree.Tree)`` for attributes of Tree object and\n",
      "    :ref:`sphx_glr_auto_examples_tree_plot_unveil_tree_structure.py`\n",
      "    for basic usage of these attributes.\n",
      "\n",
      "See Also\n",
      "--------\n",
      "DecisionTreeClassifier : A decision tree classifier.\n",
      "\n",
      "Notes\n",
      "-----\n",
      "The default values for the parameters controlling the size of the trees\n",
      "(e.g. ``max_depth``, ``min_samples_leaf``, etc.) lead to fully grown and\n",
      "unpruned trees which can potentially be very large on some data sets. To\n",
      "reduce memory consumption, the complexity and size of the trees should be\n",
      "controlled by setting those parameter values.\n",
      "\n",
      "References\n",
      "----------\n",
      "\n",
      ".. [1] https://en.wikipedia.org/wiki/Decision_tree_learning\n",
      "\n",
      ".. [2] L. Breiman, J. Friedman, R. Olshen, and C. Stone, \"Classification\n",
      "       and Regression Trees\", Wadsworth, Belmont, CA, 1984.\n",
      "\n",
      ".. [3] T. Hastie, R. Tibshirani and J. Friedman. \"Elements of Statistical\n",
      "       Learning\", Springer, 2009.\n",
      "\n",
      ".. [4] L. Breiman, and A. Cutler, \"Random Forests\",\n",
      "       https://www.stat.berkeley.edu/~breiman/RandomForests/cc_home.htm\n",
      "\n",
      "Examples\n",
      "--------\n",
      ">>> from sklearn.datasets import load_diabetes\n",
      ">>> from sklearn.model_selection import cross_val_score\n",
      ">>> from sklearn.tree import DecisionTreeRegressor\n",
      ">>> X, y = load_diabetes(return_X_y=True)\n",
      ">>> regressor = DecisionTreeRegressor(random_state=0)\n",
      ">>> cross_val_score(regressor, X, y, cv=10)\n",
      "...                    # doctest: +SKIP\n",
      "...\n",
      "array([-0.39..., -0.46...,  0.02...,  0.06..., -0.50...,\n",
      "       0.16...,  0.11..., -0.73..., -0.30..., -0.00...])\n",
      "\u001b[1;31mFile:\u001b[0m           c:\\users\\hfran\\desktop\\ml\\mlenv\\lib\\site-packages\\sklearn\\tree\\_classes.py\n",
      "\u001b[1;31mType:\u001b[0m           ABCMeta\n",
      "\u001b[1;31mSubclasses:\u001b[0m     ExtraTreeRegressor"
     ]
    }
   ],
   "source": [
    "DecisionTreeRegressor?"
   ]
  },
  {
   "cell_type": "code",
   "execution_count": 46,
   "id": "activated-korea",
   "metadata": {
    "executionInfo": {
     "elapsed": 16,
     "status": "ok",
     "timestamp": 1697247360864,
     "user": {
      "displayName": "Orion Cloud",
      "userId": "13399699001942214669"
     },
     "user_tz": -180
    },
    "id": "activated-korea"
   },
   "outputs": [],
   "source": [
    "from sklearn.model_selection import GridSearchCV, validation_curve\n",
    "from yellowbrick.model_selection import ValidationCurve\n",
    "from ipywidgets import interact\n",
    "import ipywidgets as widgets"
   ]
  },
  {
   "cell_type": "code",
   "execution_count": 47,
   "id": "2GBd4oaare4w",
   "metadata": {
    "colab": {
     "base_uri": "https://localhost:8080/",
     "height": 573,
     "referenced_widgets": [
      "12f4e9d79c184a5f900086171aeb7dba",
      "7e6de12b08df4bf588e7f21392c5d836",
      "0f771745357f4e25b4437609fa05f545",
      "80b4a36e86bc490f842747a2189703ef",
      "6499fec2c4014b8baaee9095f2e38e4d",
      "e2c66c0af13e41dca660397d15430ea4",
      "3062ed20be3c4277a6ad82c11ab79781"
     ]
    },
    "executionInfo": {
     "elapsed": 8190,
     "status": "ok",
     "timestamp": 1697247369038,
     "user": {
      "displayName": "Orion Cloud",
      "userId": "13399699001942214669"
     },
     "user_tz": -180
    },
    "id": "2GBd4oaare4w",
    "outputId": "9b108fe3-7b75-4b64-df72-3fc6284cc6c7"
   },
   "outputs": [
    {
     "data": {
      "application/vnd.jupyter.widget-view+json": {
       "model_id": "6b4b3748a172454cb9dd12831be7e0ad",
       "version_major": 2,
       "version_minor": 0
      },
      "text/plain": [
       "interactive(children=(Dropdown(description='Criterion:', index=2, options=('squared_error', 'friedman_mse', 'a…"
      ]
     },
     "metadata": {},
     "output_type": "display_data"
    },
    {
     "data": {
      "text/plain": [
       "<function __main__.validation_curve(criterion)>"
      ]
     },
     "execution_count": 47,
     "metadata": {},
     "output_type": "execute_result"
    }
   ],
   "source": [
    "# Visualization function\n",
    "def validation_curve(criterion):\n",
    "  operations = [(\"OrdinalEncoder\", column_trans),\n",
    "              (\"DT_model\", DecisionTreeRegressor(criterion=criterion, random_state=101))]\n",
    "\n",
    "  pipe_model = Pipeline(steps=operations)\n",
    "\n",
    "  viz = ValidationCurve(\n",
    "      pipe_model, param_name=\"DT_model__ccp_alpha\", param_range=np.linspace(0, 0.1, 25),\n",
    "      logx=False, cv=10, scoring=\"neg_root_mean_squared_error\", n_jobs=-1,\n",
    "  )\n",
    "\n",
    "  viz.fit(X_train, y_train)\n",
    "  viz.show()\n",
    "\n",
    "# Create a dropdown widget for criterion selection\n",
    "criterion_widget = widgets.Dropdown(options=['squared_error', 'friedman_mse', 'absolute_error', 'poisson'],\n",
    "                                    value='absolute_error',\n",
    "                                    description='Criterion:',\n",
    "                                    disabled=False)\n",
    "\n",
    "# Use interact to create the interactive widget\n",
    "interact(validation_curve, criterion=criterion_widget)\n"
   ]
  },
  {
   "cell_type": "code",
   "execution_count": 48,
   "id": "virgin-boards",
   "metadata": {
    "executionInfo": {
     "elapsed": 2,
     "status": "ok",
     "timestamp": 1697247369038,
     "user": {
      "displayName": "Orion Cloud",
      "userId": "13399699001942214669"
     },
     "user_tz": -180
    },
    "id": "virgin-boards"
   },
   "outputs": [],
   "source": [
    "param_grid = {\"DT_model__criterion\": [\"squared_error\", \"friedman_mse\", \"absolute_error\", \"poisson\"],\n",
    "              \"DT_model__ccp_alpha\": [.04, .043, .05]}"
   ]
  },
  {
   "cell_type": "code",
   "execution_count": 49,
   "id": "basic-bailey",
   "metadata": {
    "executionInfo": {
     "elapsed": 2,
     "status": "ok",
     "timestamp": 1697247369038,
     "user": {
      "displayName": "Orion Cloud",
      "userId": "13399699001942214669"
     },
     "user_tz": -180
    },
    "id": "basic-bailey"
   },
   "outputs": [],
   "source": [
    "operations = [(\"OrdinalEncoder\", column_trans),\n",
    "              (\"DT_model\", DecisionTreeRegressor(random_state=101))]\n",
    "\n",
    "pipe_model = Pipeline(steps=operations)\n",
    "grid_model = GridSearchCV(estimator=pipe_model,\n",
    "                          param_grid=param_grid,\n",
    "                          scoring='neg_root_mean_squared_error',\n",
    "                          cv=10,\n",
    "                          n_jobs=-1,\n",
    "                          return_train_score=True)"
   ]
  },
  {
   "cell_type": "code",
   "execution_count": 50,
   "id": "geological-polls",
   "metadata": {
    "colab": {
     "base_uri": "https://localhost:8080/",
     "height": 218
    },
    "executionInfo": {
     "elapsed": 1950,
     "status": "ok",
     "timestamp": 1697247370987,
     "user": {
      "displayName": "Orion Cloud",
      "userId": "13399699001942214669"
     },
     "user_tz": -180
    },
    "id": "geological-polls",
    "outputId": "bd485b61-e28c-4f3d-c649-f99c878545df"
   },
   "outputs": [
    {
     "data": {
      "text/html": [
       "<style>#sk-container-id-3 {color: black;background-color: white;}#sk-container-id-3 pre{padding: 0;}#sk-container-id-3 div.sk-toggleable {background-color: white;}#sk-container-id-3 label.sk-toggleable__label {cursor: pointer;display: block;width: 100%;margin-bottom: 0;padding: 0.3em;box-sizing: border-box;text-align: center;}#sk-container-id-3 label.sk-toggleable__label-arrow:before {content: \"▸\";float: left;margin-right: 0.25em;color: #696969;}#sk-container-id-3 label.sk-toggleable__label-arrow:hover:before {color: black;}#sk-container-id-3 div.sk-estimator:hover label.sk-toggleable__label-arrow:before {color: black;}#sk-container-id-3 div.sk-toggleable__content {max-height: 0;max-width: 0;overflow: hidden;text-align: left;background-color: #f0f8ff;}#sk-container-id-3 div.sk-toggleable__content pre {margin: 0.2em;color: black;border-radius: 0.25em;background-color: #f0f8ff;}#sk-container-id-3 input.sk-toggleable__control:checked~div.sk-toggleable__content {max-height: 200px;max-width: 100%;overflow: auto;}#sk-container-id-3 input.sk-toggleable__control:checked~label.sk-toggleable__label-arrow:before {content: \"▾\";}#sk-container-id-3 div.sk-estimator input.sk-toggleable__control:checked~label.sk-toggleable__label {background-color: #d4ebff;}#sk-container-id-3 div.sk-label input.sk-toggleable__control:checked~label.sk-toggleable__label {background-color: #d4ebff;}#sk-container-id-3 input.sk-hidden--visually {border: 0;clip: rect(1px 1px 1px 1px);clip: rect(1px, 1px, 1px, 1px);height: 1px;margin: -1px;overflow: hidden;padding: 0;position: absolute;width: 1px;}#sk-container-id-3 div.sk-estimator {font-family: monospace;background-color: #f0f8ff;border: 1px dotted black;border-radius: 0.25em;box-sizing: border-box;margin-bottom: 0.5em;}#sk-container-id-3 div.sk-estimator:hover {background-color: #d4ebff;}#sk-container-id-3 div.sk-parallel-item::after {content: \"\";width: 100%;border-bottom: 1px solid gray;flex-grow: 1;}#sk-container-id-3 div.sk-label:hover label.sk-toggleable__label {background-color: #d4ebff;}#sk-container-id-3 div.sk-serial::before {content: \"\";position: absolute;border-left: 1px solid gray;box-sizing: border-box;top: 0;bottom: 0;left: 50%;z-index: 0;}#sk-container-id-3 div.sk-serial {display: flex;flex-direction: column;align-items: center;background-color: white;padding-right: 0.2em;padding-left: 0.2em;position: relative;}#sk-container-id-3 div.sk-item {position: relative;z-index: 1;}#sk-container-id-3 div.sk-parallel {display: flex;align-items: stretch;justify-content: center;background-color: white;position: relative;}#sk-container-id-3 div.sk-item::before, #sk-container-id-3 div.sk-parallel-item::before {content: \"\";position: absolute;border-left: 1px solid gray;box-sizing: border-box;top: 0;bottom: 0;left: 50%;z-index: -1;}#sk-container-id-3 div.sk-parallel-item {display: flex;flex-direction: column;z-index: 1;position: relative;background-color: white;}#sk-container-id-3 div.sk-parallel-item:first-child::after {align-self: flex-end;width: 50%;}#sk-container-id-3 div.sk-parallel-item:last-child::after {align-self: flex-start;width: 50%;}#sk-container-id-3 div.sk-parallel-item:only-child::after {width: 0;}#sk-container-id-3 div.sk-dashed-wrapped {border: 1px dashed gray;margin: 0 0.4em 0.5em 0.4em;box-sizing: border-box;padding-bottom: 0.4em;background-color: white;}#sk-container-id-3 div.sk-label label {font-family: monospace;font-weight: bold;display: inline-block;line-height: 1.2em;}#sk-container-id-3 div.sk-label-container {text-align: center;}#sk-container-id-3 div.sk-container {/* jupyter's `normalize.less` sets `[hidden] { display: none; }` but bootstrap.min.css set `[hidden] { display: none !important; }` so we also need the `!important` here to be able to override the default hidden behavior on the sphinx rendered scikit-learn.org. See: https://github.com/scikit-learn/scikit-learn/issues/21755 */display: inline-block !important;position: relative;}#sk-container-id-3 div.sk-text-repr-fallback {display: none;}</style><div id=\"sk-container-id-3\" class=\"sk-top-container\"><div class=\"sk-text-repr-fallback\"><pre>GridSearchCV(cv=10,\n",
       "             estimator=Pipeline(steps=[(&#x27;OrdinalEncoder&#x27;,\n",
       "                                        ColumnTransformer(remainder=&#x27;passthrough&#x27;,\n",
       "                                                          transformers=[(&#x27;ordinalencoder&#x27;,\n",
       "                                                                         OrdinalEncoder(handle_unknown=&#x27;use_encoded_value&#x27;,\n",
       "                                                                                        unknown_value=-1),\n",
       "                                                                         Index([&#x27;Fuel_Type&#x27;, &#x27;Seller_Type&#x27;, &#x27;Transmission&#x27;], dtype=&#x27;object&#x27;))],\n",
       "                                                          verbose_feature_names_out=False)),\n",
       "                                       (&#x27;DT_model&#x27;,\n",
       "                                        DecisionTreeRegressor(random_state=101))]),\n",
       "             n_jobs=-1,\n",
       "             param_grid={&#x27;DT_model__ccp_alpha&#x27;: [0.04, 0.043, 0.05],\n",
       "                         &#x27;DT_model__criterion&#x27;: [&#x27;squared_error&#x27;,\n",
       "                                                 &#x27;friedman_mse&#x27;,\n",
       "                                                 &#x27;absolute_error&#x27;, &#x27;poisson&#x27;]},\n",
       "             return_train_score=True, scoring=&#x27;neg_root_mean_squared_error&#x27;)</pre><b>In a Jupyter environment, please rerun this cell to show the HTML representation or trust the notebook. <br />On GitHub, the HTML representation is unable to render, please try loading this page with nbviewer.org.</b></div><div class=\"sk-container\" hidden><div class=\"sk-item sk-dashed-wrapped\"><div class=\"sk-label-container\"><div class=\"sk-label sk-toggleable\"><input class=\"sk-toggleable__control sk-hidden--visually\" id=\"sk-estimator-id-15\" type=\"checkbox\" ><label for=\"sk-estimator-id-15\" class=\"sk-toggleable__label sk-toggleable__label-arrow\">GridSearchCV</label><div class=\"sk-toggleable__content\"><pre>GridSearchCV(cv=10,\n",
       "             estimator=Pipeline(steps=[(&#x27;OrdinalEncoder&#x27;,\n",
       "                                        ColumnTransformer(remainder=&#x27;passthrough&#x27;,\n",
       "                                                          transformers=[(&#x27;ordinalencoder&#x27;,\n",
       "                                                                         OrdinalEncoder(handle_unknown=&#x27;use_encoded_value&#x27;,\n",
       "                                                                                        unknown_value=-1),\n",
       "                                                                         Index([&#x27;Fuel_Type&#x27;, &#x27;Seller_Type&#x27;, &#x27;Transmission&#x27;], dtype=&#x27;object&#x27;))],\n",
       "                                                          verbose_feature_names_out=False)),\n",
       "                                       (&#x27;DT_model&#x27;,\n",
       "                                        DecisionTreeRegressor(random_state=101))]),\n",
       "             n_jobs=-1,\n",
       "             param_grid={&#x27;DT_model__ccp_alpha&#x27;: [0.04, 0.043, 0.05],\n",
       "                         &#x27;DT_model__criterion&#x27;: [&#x27;squared_error&#x27;,\n",
       "                                                 &#x27;friedman_mse&#x27;,\n",
       "                                                 &#x27;absolute_error&#x27;, &#x27;poisson&#x27;]},\n",
       "             return_train_score=True, scoring=&#x27;neg_root_mean_squared_error&#x27;)</pre></div></div></div><div class=\"sk-parallel\"><div class=\"sk-parallel-item\"><div class=\"sk-item\"><div class=\"sk-label-container\"><div class=\"sk-label sk-toggleable\"><input class=\"sk-toggleable__control sk-hidden--visually\" id=\"sk-estimator-id-16\" type=\"checkbox\" ><label for=\"sk-estimator-id-16\" class=\"sk-toggleable__label sk-toggleable__label-arrow\">estimator: Pipeline</label><div class=\"sk-toggleable__content\"><pre>Pipeline(steps=[(&#x27;OrdinalEncoder&#x27;,\n",
       "                 ColumnTransformer(remainder=&#x27;passthrough&#x27;,\n",
       "                                   transformers=[(&#x27;ordinalencoder&#x27;,\n",
       "                                                  OrdinalEncoder(handle_unknown=&#x27;use_encoded_value&#x27;,\n",
       "                                                                 unknown_value=-1),\n",
       "                                                  Index([&#x27;Fuel_Type&#x27;, &#x27;Seller_Type&#x27;, &#x27;Transmission&#x27;], dtype=&#x27;object&#x27;))],\n",
       "                                   verbose_feature_names_out=False)),\n",
       "                (&#x27;DT_model&#x27;, DecisionTreeRegressor(random_state=101))])</pre></div></div></div><div class=\"sk-serial\"><div class=\"sk-item\"><div class=\"sk-serial\"><div class=\"sk-item sk-dashed-wrapped\"><div class=\"sk-label-container\"><div class=\"sk-label sk-toggleable\"><input class=\"sk-toggleable__control sk-hidden--visually\" id=\"sk-estimator-id-17\" type=\"checkbox\" ><label for=\"sk-estimator-id-17\" class=\"sk-toggleable__label sk-toggleable__label-arrow\">OrdinalEncoder: ColumnTransformer</label><div class=\"sk-toggleable__content\"><pre>ColumnTransformer(remainder=&#x27;passthrough&#x27;,\n",
       "                  transformers=[(&#x27;ordinalencoder&#x27;,\n",
       "                                 OrdinalEncoder(handle_unknown=&#x27;use_encoded_value&#x27;,\n",
       "                                                unknown_value=-1),\n",
       "                                 Index([&#x27;Fuel_Type&#x27;, &#x27;Seller_Type&#x27;, &#x27;Transmission&#x27;], dtype=&#x27;object&#x27;))],\n",
       "                  verbose_feature_names_out=False)</pre></div></div></div><div class=\"sk-parallel\"><div class=\"sk-parallel-item\"><div class=\"sk-item\"><div class=\"sk-label-container\"><div class=\"sk-label sk-toggleable\"><input class=\"sk-toggleable__control sk-hidden--visually\" id=\"sk-estimator-id-18\" type=\"checkbox\" ><label for=\"sk-estimator-id-18\" class=\"sk-toggleable__label sk-toggleable__label-arrow\">ordinalencoder</label><div class=\"sk-toggleable__content\"><pre>Index([&#x27;Fuel_Type&#x27;, &#x27;Seller_Type&#x27;, &#x27;Transmission&#x27;], dtype=&#x27;object&#x27;)</pre></div></div></div><div class=\"sk-serial\"><div class=\"sk-item\"><div class=\"sk-estimator sk-toggleable\"><input class=\"sk-toggleable__control sk-hidden--visually\" id=\"sk-estimator-id-19\" type=\"checkbox\" ><label for=\"sk-estimator-id-19\" class=\"sk-toggleable__label sk-toggleable__label-arrow\">OrdinalEncoder</label><div class=\"sk-toggleable__content\"><pre>OrdinalEncoder(handle_unknown=&#x27;use_encoded_value&#x27;, unknown_value=-1)</pre></div></div></div></div></div></div><div class=\"sk-parallel-item\"><div class=\"sk-item\"><div class=\"sk-label-container\"><div class=\"sk-label sk-toggleable\"><input class=\"sk-toggleable__control sk-hidden--visually\" id=\"sk-estimator-id-20\" type=\"checkbox\" ><label for=\"sk-estimator-id-20\" class=\"sk-toggleable__label sk-toggleable__label-arrow\">remainder</label><div class=\"sk-toggleable__content\"><pre>[&#x27;Present_Price&#x27;, &#x27;Kms_Driven&#x27;, &#x27;Owner&#x27;, &#x27;vehicle_age&#x27;]</pre></div></div></div><div class=\"sk-serial\"><div class=\"sk-item\"><div class=\"sk-estimator sk-toggleable\"><input class=\"sk-toggleable__control sk-hidden--visually\" id=\"sk-estimator-id-21\" type=\"checkbox\" ><label for=\"sk-estimator-id-21\" class=\"sk-toggleable__label sk-toggleable__label-arrow\">passthrough</label><div class=\"sk-toggleable__content\"><pre>passthrough</pre></div></div></div></div></div></div></div></div><div class=\"sk-item\"><div class=\"sk-estimator sk-toggleable\"><input class=\"sk-toggleable__control sk-hidden--visually\" id=\"sk-estimator-id-22\" type=\"checkbox\" ><label for=\"sk-estimator-id-22\" class=\"sk-toggleable__label sk-toggleable__label-arrow\">DecisionTreeRegressor</label><div class=\"sk-toggleable__content\"><pre>DecisionTreeRegressor(random_state=101)</pre></div></div></div></div></div></div></div></div></div></div></div></div>"
      ],
      "text/plain": [
       "GridSearchCV(cv=10,\n",
       "             estimator=Pipeline(steps=[('OrdinalEncoder',\n",
       "                                        ColumnTransformer(remainder='passthrough',\n",
       "                                                          transformers=[('ordinalencoder',\n",
       "                                                                         OrdinalEncoder(handle_unknown='use_encoded_value',\n",
       "                                                                                        unknown_value=-1),\n",
       "                                                                         Index(['Fuel_Type', 'Seller_Type', 'Transmission'], dtype='object'))],\n",
       "                                                          verbose_feature_names_out=False)),\n",
       "                                       ('DT_model',\n",
       "                                        DecisionTreeRegressor(random_state=101))]),\n",
       "             n_jobs=-1,\n",
       "             param_grid={'DT_model__ccp_alpha': [0.04, 0.043, 0.05],\n",
       "                         'DT_model__criterion': ['squared_error',\n",
       "                                                 'friedman_mse',\n",
       "                                                 'absolute_error', 'poisson']},\n",
       "             return_train_score=True, scoring='neg_root_mean_squared_error')"
      ]
     },
     "execution_count": 50,
     "metadata": {},
     "output_type": "execute_result"
    }
   ],
   "source": [
    "grid_model.fit(X_train,y_train)"
   ]
  },
  {
   "cell_type": "code",
   "execution_count": 51,
   "id": "olive-input",
   "metadata": {
    "colab": {
     "base_uri": "https://localhost:8080/",
     "height": 192
    },
    "executionInfo": {
     "elapsed": 4,
     "status": "ok",
     "timestamp": 1697247370987,
     "user": {
      "displayName": "Orion Cloud",
      "userId": "13399699001942214669"
     },
     "user_tz": -180
    },
    "id": "olive-input",
    "outputId": "e5a87d52-a62c-4354-87d7-89d6abe89c48"
   },
   "outputs": [
    {
     "data": {
      "text/html": [
       "<style>#sk-container-id-4 {color: black;background-color: white;}#sk-container-id-4 pre{padding: 0;}#sk-container-id-4 div.sk-toggleable {background-color: white;}#sk-container-id-4 label.sk-toggleable__label {cursor: pointer;display: block;width: 100%;margin-bottom: 0;padding: 0.3em;box-sizing: border-box;text-align: center;}#sk-container-id-4 label.sk-toggleable__label-arrow:before {content: \"▸\";float: left;margin-right: 0.25em;color: #696969;}#sk-container-id-4 label.sk-toggleable__label-arrow:hover:before {color: black;}#sk-container-id-4 div.sk-estimator:hover label.sk-toggleable__label-arrow:before {color: black;}#sk-container-id-4 div.sk-toggleable__content {max-height: 0;max-width: 0;overflow: hidden;text-align: left;background-color: #f0f8ff;}#sk-container-id-4 div.sk-toggleable__content pre {margin: 0.2em;color: black;border-radius: 0.25em;background-color: #f0f8ff;}#sk-container-id-4 input.sk-toggleable__control:checked~div.sk-toggleable__content {max-height: 200px;max-width: 100%;overflow: auto;}#sk-container-id-4 input.sk-toggleable__control:checked~label.sk-toggleable__label-arrow:before {content: \"▾\";}#sk-container-id-4 div.sk-estimator input.sk-toggleable__control:checked~label.sk-toggleable__label {background-color: #d4ebff;}#sk-container-id-4 div.sk-label input.sk-toggleable__control:checked~label.sk-toggleable__label {background-color: #d4ebff;}#sk-container-id-4 input.sk-hidden--visually {border: 0;clip: rect(1px 1px 1px 1px);clip: rect(1px, 1px, 1px, 1px);height: 1px;margin: -1px;overflow: hidden;padding: 0;position: absolute;width: 1px;}#sk-container-id-4 div.sk-estimator {font-family: monospace;background-color: #f0f8ff;border: 1px dotted black;border-radius: 0.25em;box-sizing: border-box;margin-bottom: 0.5em;}#sk-container-id-4 div.sk-estimator:hover {background-color: #d4ebff;}#sk-container-id-4 div.sk-parallel-item::after {content: \"\";width: 100%;border-bottom: 1px solid gray;flex-grow: 1;}#sk-container-id-4 div.sk-label:hover label.sk-toggleable__label {background-color: #d4ebff;}#sk-container-id-4 div.sk-serial::before {content: \"\";position: absolute;border-left: 1px solid gray;box-sizing: border-box;top: 0;bottom: 0;left: 50%;z-index: 0;}#sk-container-id-4 div.sk-serial {display: flex;flex-direction: column;align-items: center;background-color: white;padding-right: 0.2em;padding-left: 0.2em;position: relative;}#sk-container-id-4 div.sk-item {position: relative;z-index: 1;}#sk-container-id-4 div.sk-parallel {display: flex;align-items: stretch;justify-content: center;background-color: white;position: relative;}#sk-container-id-4 div.sk-item::before, #sk-container-id-4 div.sk-parallel-item::before {content: \"\";position: absolute;border-left: 1px solid gray;box-sizing: border-box;top: 0;bottom: 0;left: 50%;z-index: -1;}#sk-container-id-4 div.sk-parallel-item {display: flex;flex-direction: column;z-index: 1;position: relative;background-color: white;}#sk-container-id-4 div.sk-parallel-item:first-child::after {align-self: flex-end;width: 50%;}#sk-container-id-4 div.sk-parallel-item:last-child::after {align-self: flex-start;width: 50%;}#sk-container-id-4 div.sk-parallel-item:only-child::after {width: 0;}#sk-container-id-4 div.sk-dashed-wrapped {border: 1px dashed gray;margin: 0 0.4em 0.5em 0.4em;box-sizing: border-box;padding-bottom: 0.4em;background-color: white;}#sk-container-id-4 div.sk-label label {font-family: monospace;font-weight: bold;display: inline-block;line-height: 1.2em;}#sk-container-id-4 div.sk-label-container {text-align: center;}#sk-container-id-4 div.sk-container {/* jupyter's `normalize.less` sets `[hidden] { display: none; }` but bootstrap.min.css set `[hidden] { display: none !important; }` so we also need the `!important` here to be able to override the default hidden behavior on the sphinx rendered scikit-learn.org. See: https://github.com/scikit-learn/scikit-learn/issues/21755 */display: inline-block !important;position: relative;}#sk-container-id-4 div.sk-text-repr-fallback {display: none;}</style><div id=\"sk-container-id-4\" class=\"sk-top-container\"><div class=\"sk-text-repr-fallback\"><pre>Pipeline(steps=[(&#x27;OrdinalEncoder&#x27;,\n",
       "                 ColumnTransformer(remainder=&#x27;passthrough&#x27;,\n",
       "                                   transformers=[(&#x27;ordinalencoder&#x27;,\n",
       "                                                  OrdinalEncoder(handle_unknown=&#x27;use_encoded_value&#x27;,\n",
       "                                                                 unknown_value=-1),\n",
       "                                                  Index([&#x27;Fuel_Type&#x27;, &#x27;Seller_Type&#x27;, &#x27;Transmission&#x27;], dtype=&#x27;object&#x27;))],\n",
       "                                   verbose_feature_names_out=False)),\n",
       "                (&#x27;DT_model&#x27;,\n",
       "                 DecisionTreeRegressor(ccp_alpha=0.043,\n",
       "                                       criterion=&#x27;absolute_error&#x27;,\n",
       "                                       random_state=101))])</pre><b>In a Jupyter environment, please rerun this cell to show the HTML representation or trust the notebook. <br />On GitHub, the HTML representation is unable to render, please try loading this page with nbviewer.org.</b></div><div class=\"sk-container\" hidden><div class=\"sk-item sk-dashed-wrapped\"><div class=\"sk-label-container\"><div class=\"sk-label sk-toggleable\"><input class=\"sk-toggleable__control sk-hidden--visually\" id=\"sk-estimator-id-23\" type=\"checkbox\" ><label for=\"sk-estimator-id-23\" class=\"sk-toggleable__label sk-toggleable__label-arrow\">Pipeline</label><div class=\"sk-toggleable__content\"><pre>Pipeline(steps=[(&#x27;OrdinalEncoder&#x27;,\n",
       "                 ColumnTransformer(remainder=&#x27;passthrough&#x27;,\n",
       "                                   transformers=[(&#x27;ordinalencoder&#x27;,\n",
       "                                                  OrdinalEncoder(handle_unknown=&#x27;use_encoded_value&#x27;,\n",
       "                                                                 unknown_value=-1),\n",
       "                                                  Index([&#x27;Fuel_Type&#x27;, &#x27;Seller_Type&#x27;, &#x27;Transmission&#x27;], dtype=&#x27;object&#x27;))],\n",
       "                                   verbose_feature_names_out=False)),\n",
       "                (&#x27;DT_model&#x27;,\n",
       "                 DecisionTreeRegressor(ccp_alpha=0.043,\n",
       "                                       criterion=&#x27;absolute_error&#x27;,\n",
       "                                       random_state=101))])</pre></div></div></div><div class=\"sk-serial\"><div class=\"sk-item sk-dashed-wrapped\"><div class=\"sk-label-container\"><div class=\"sk-label sk-toggleable\"><input class=\"sk-toggleable__control sk-hidden--visually\" id=\"sk-estimator-id-24\" type=\"checkbox\" ><label for=\"sk-estimator-id-24\" class=\"sk-toggleable__label sk-toggleable__label-arrow\">OrdinalEncoder: ColumnTransformer</label><div class=\"sk-toggleable__content\"><pre>ColumnTransformer(remainder=&#x27;passthrough&#x27;,\n",
       "                  transformers=[(&#x27;ordinalencoder&#x27;,\n",
       "                                 OrdinalEncoder(handle_unknown=&#x27;use_encoded_value&#x27;,\n",
       "                                                unknown_value=-1),\n",
       "                                 Index([&#x27;Fuel_Type&#x27;, &#x27;Seller_Type&#x27;, &#x27;Transmission&#x27;], dtype=&#x27;object&#x27;))],\n",
       "                  verbose_feature_names_out=False)</pre></div></div></div><div class=\"sk-parallel\"><div class=\"sk-parallel-item\"><div class=\"sk-item\"><div class=\"sk-label-container\"><div class=\"sk-label sk-toggleable\"><input class=\"sk-toggleable__control sk-hidden--visually\" id=\"sk-estimator-id-25\" type=\"checkbox\" ><label for=\"sk-estimator-id-25\" class=\"sk-toggleable__label sk-toggleable__label-arrow\">ordinalencoder</label><div class=\"sk-toggleable__content\"><pre>Index([&#x27;Fuel_Type&#x27;, &#x27;Seller_Type&#x27;, &#x27;Transmission&#x27;], dtype=&#x27;object&#x27;)</pre></div></div></div><div class=\"sk-serial\"><div class=\"sk-item\"><div class=\"sk-estimator sk-toggleable\"><input class=\"sk-toggleable__control sk-hidden--visually\" id=\"sk-estimator-id-26\" type=\"checkbox\" ><label for=\"sk-estimator-id-26\" class=\"sk-toggleable__label sk-toggleable__label-arrow\">OrdinalEncoder</label><div class=\"sk-toggleable__content\"><pre>OrdinalEncoder(handle_unknown=&#x27;use_encoded_value&#x27;, unknown_value=-1)</pre></div></div></div></div></div></div><div class=\"sk-parallel-item\"><div class=\"sk-item\"><div class=\"sk-label-container\"><div class=\"sk-label sk-toggleable\"><input class=\"sk-toggleable__control sk-hidden--visually\" id=\"sk-estimator-id-27\" type=\"checkbox\" ><label for=\"sk-estimator-id-27\" class=\"sk-toggleable__label sk-toggleable__label-arrow\">remainder</label><div class=\"sk-toggleable__content\"><pre>[&#x27;Present_Price&#x27;, &#x27;Kms_Driven&#x27;, &#x27;Owner&#x27;, &#x27;vehicle_age&#x27;]</pre></div></div></div><div class=\"sk-serial\"><div class=\"sk-item\"><div class=\"sk-estimator sk-toggleable\"><input class=\"sk-toggleable__control sk-hidden--visually\" id=\"sk-estimator-id-28\" type=\"checkbox\" ><label for=\"sk-estimator-id-28\" class=\"sk-toggleable__label sk-toggleable__label-arrow\">passthrough</label><div class=\"sk-toggleable__content\"><pre>passthrough</pre></div></div></div></div></div></div></div></div><div class=\"sk-item\"><div class=\"sk-estimator sk-toggleable\"><input class=\"sk-toggleable__control sk-hidden--visually\" id=\"sk-estimator-id-29\" type=\"checkbox\" ><label for=\"sk-estimator-id-29\" class=\"sk-toggleable__label sk-toggleable__label-arrow\">DecisionTreeRegressor</label><div class=\"sk-toggleable__content\"><pre>DecisionTreeRegressor(ccp_alpha=0.043, criterion=&#x27;absolute_error&#x27;,\n",
       "                      random_state=101)</pre></div></div></div></div></div></div></div>"
      ],
      "text/plain": [
       "Pipeline(steps=[('OrdinalEncoder',\n",
       "                 ColumnTransformer(remainder='passthrough',\n",
       "                                   transformers=[('ordinalencoder',\n",
       "                                                  OrdinalEncoder(handle_unknown='use_encoded_value',\n",
       "                                                                 unknown_value=-1),\n",
       "                                                  Index(['Fuel_Type', 'Seller_Type', 'Transmission'], dtype='object'))],\n",
       "                                   verbose_feature_names_out=False)),\n",
       "                ('DT_model',\n",
       "                 DecisionTreeRegressor(ccp_alpha=0.043,\n",
       "                                       criterion='absolute_error',\n",
       "                                       random_state=101))])"
      ]
     },
     "execution_count": 51,
     "metadata": {},
     "output_type": "execute_result"
    }
   ],
   "source": [
    "grid_model.best_estimator_"
   ]
  },
  {
   "cell_type": "code",
   "execution_count": 52,
   "id": "loved-observer",
   "metadata": {
    "colab": {
     "base_uri": "https://localhost:8080/"
    },
    "executionInfo": {
     "elapsed": 519,
     "status": "ok",
     "timestamp": 1697247371502,
     "user": {
      "displayName": "Orion Cloud",
      "userId": "13399699001942214669"
     },
     "user_tz": -180
    },
    "id": "loved-observer",
    "outputId": "3a90c5cc-53cc-43a7-dcca-da1cf815b8f4"
   },
   "outputs": [
    {
     "data": {
      "text/plain": [
       "mean_test_score    -0.908\n",
       "mean_train_score   -0.890\n",
       "Name: 6, dtype: object"
      ]
     },
     "execution_count": 52,
     "metadata": {},
     "output_type": "execute_result"
    }
   ],
   "source": [
    "pd.DataFrame(grid_model.cv_results_).loc[grid_model.best_index_, [\"mean_test_score\", \"mean_train_score\"]]\n",
    "# overfitting problem is solved"
   ]
  },
  {
   "cell_type": "code",
   "execution_count": 53,
   "id": "467b3b5b",
   "metadata": {
    "colab": {
     "base_uri": "https://localhost:8080/",
     "height": 206
    },
    "executionInfo": {
     "elapsed": 8,
     "status": "ok",
     "timestamp": 1697247371502,
     "user": {
      "displayName": "Orion Cloud",
      "userId": "13399699001942214669"
     },
     "user_tz": -180
    },
    "id": "467b3b5b",
    "lang": "en",
    "outputId": "78dacc03-f368-48eb-e531-c456787a89cb"
   },
   "outputs": [
    {
     "data": {
      "text/html": [
       "<div>\n",
       "<style scoped>\n",
       "    .dataframe tbody tr th:only-of-type {\n",
       "        vertical-align: middle;\n",
       "    }\n",
       "\n",
       "    .dataframe tbody tr th {\n",
       "        vertical-align: top;\n",
       "    }\n",
       "\n",
       "    .dataframe thead th {\n",
       "        text-align: right;\n",
       "    }\n",
       "</style>\n",
       "<table border=\"1\" class=\"dataframe\">\n",
       "  <thead>\n",
       "    <tr style=\"text-align: right;\">\n",
       "      <th></th>\n",
       "      <th>train</th>\n",
       "      <th>test</th>\n",
       "    </tr>\n",
       "  </thead>\n",
       "  <tbody>\n",
       "    <tr>\n",
       "      <th>R2</th>\n",
       "      <td>0.873</td>\n",
       "      <td>0.884</td>\n",
       "    </tr>\n",
       "    <tr>\n",
       "      <th>mae</th>\n",
       "      <td>0.620</td>\n",
       "      <td>0.632</td>\n",
       "    </tr>\n",
       "    <tr>\n",
       "      <th>mse</th>\n",
       "      <td>0.914</td>\n",
       "      <td>0.792</td>\n",
       "    </tr>\n",
       "    <tr>\n",
       "      <th>rmse</th>\n",
       "      <td>0.956</td>\n",
       "      <td>0.890</td>\n",
       "    </tr>\n",
       "    <tr>\n",
       "      <th>mape</th>\n",
       "      <td>0.254</td>\n",
       "      <td>0.440</td>\n",
       "    </tr>\n",
       "  </tbody>\n",
       "</table>\n",
       "</div>"
      ],
      "text/plain": [
       "      train  test\n",
       "R2    0.873 0.884\n",
       "mae   0.620 0.632\n",
       "mse   0.914 0.792\n",
       "rmse  0.956 0.890\n",
       "mape  0.254 0.440"
      ]
     },
     "execution_count": 53,
     "metadata": {},
     "output_type": "execute_result"
    }
   ],
   "source": [
    "train_val(grid_model, X_train, y_train, X_test, y_test)\n",
    "\n",
    "# We have seen that the test data scores and the validation set scores from the CV are consistent."
   ]
  },
  {
   "cell_type": "code",
   "execution_count": 54,
   "id": "72abd2f8",
   "metadata": {
    "colab": {
     "base_uri": "https://localhost:8080/",
     "height": 383
    },
    "executionInfo": {
     "elapsed": 7,
     "status": "ok",
     "timestamp": 1697247371502,
     "user": {
      "displayName": "Orion Cloud",
      "userId": "13399699001942214669"
     },
     "user_tz": -180
    },
    "id": "72abd2f8",
    "lang": "en",
    "outputId": "085178d1-8dfa-4bc9-d423-47342c47bd84"
   },
   "outputs": [
    {
     "data": {
      "text/html": [
       "<div>\n",
       "<style scoped>\n",
       "    .dataframe tbody tr th:only-of-type {\n",
       "        vertical-align: middle;\n",
       "    }\n",
       "\n",
       "    .dataframe tbody tr th {\n",
       "        vertical-align: top;\n",
       "    }\n",
       "\n",
       "    .dataframe thead th {\n",
       "        text-align: right;\n",
       "    }\n",
       "</style>\n",
       "<table border=\"1\" class=\"dataframe\">\n",
       "  <thead>\n",
       "    <tr style=\"text-align: right;\">\n",
       "      <th></th>\n",
       "      <th>test_r2</th>\n",
       "      <th>train_r2</th>\n",
       "      <th>test_neg_mean_absolute_error</th>\n",
       "      <th>train_neg_mean_absolute_error</th>\n",
       "      <th>test_neg_mean_squared_error</th>\n",
       "      <th>train_neg_mean_squared_error</th>\n",
       "      <th>test_neg_root_mean_squared_error</th>\n",
       "      <th>train_neg_root_mean_squared_error</th>\n",
       "      <th>test_neg_mean_absolute_percentage_error</th>\n",
       "      <th>train_neg_mean_absolute_percentage_error</th>\n",
       "    </tr>\n",
       "  </thead>\n",
       "  <tbody>\n",
       "    <tr>\n",
       "      <th>1</th>\n",
       "      <td>0.925</td>\n",
       "      <td>0.908</td>\n",
       "      <td>-0.512</td>\n",
       "      <td>-0.529</td>\n",
       "      <td>-0.411</td>\n",
       "      <td>-0.684</td>\n",
       "      <td>-0.641</td>\n",
       "      <td>-0.827</td>\n",
       "      <td>-0.163</td>\n",
       "      <td>-0.237</td>\n",
       "    </tr>\n",
       "    <tr>\n",
       "      <th>2</th>\n",
       "      <td>0.901</td>\n",
       "      <td>0.908</td>\n",
       "      <td>-0.512</td>\n",
       "      <td>-0.521</td>\n",
       "      <td>-0.576</td>\n",
       "      <td>-0.676</td>\n",
       "      <td>-0.759</td>\n",
       "      <td>-0.822</td>\n",
       "      <td>-0.162</td>\n",
       "      <td>-0.236</td>\n",
       "    </tr>\n",
       "    <tr>\n",
       "      <th>3</th>\n",
       "      <td>0.713</td>\n",
       "      <td>0.899</td>\n",
       "      <td>-0.996</td>\n",
       "      <td>-0.534</td>\n",
       "      <td>-1.544</td>\n",
       "      <td>-0.747</td>\n",
       "      <td>-1.243</td>\n",
       "      <td>-0.864</td>\n",
       "      <td>-0.367</td>\n",
       "      <td>-0.236</td>\n",
       "    </tr>\n",
       "    <tr>\n",
       "      <th>4</th>\n",
       "      <td>0.958</td>\n",
       "      <td>0.880</td>\n",
       "      <td>-0.372</td>\n",
       "      <td>-0.574</td>\n",
       "      <td>-0.308</td>\n",
       "      <td>-0.864</td>\n",
       "      <td>-0.555</td>\n",
       "      <td>-0.929</td>\n",
       "      <td>-0.208</td>\n",
       "      <td>-0.241</td>\n",
       "    </tr>\n",
       "    <tr>\n",
       "      <th>5</th>\n",
       "      <td>0.926</td>\n",
       "      <td>0.885</td>\n",
       "      <td>-0.548</td>\n",
       "      <td>-0.560</td>\n",
       "      <td>-0.519</td>\n",
       "      <td>-0.834</td>\n",
       "      <td>-0.720</td>\n",
       "      <td>-0.913</td>\n",
       "      <td>-0.249</td>\n",
       "      <td>-0.241</td>\n",
       "    </tr>\n",
       "    <tr>\n",
       "      <th>6</th>\n",
       "      <td>0.878</td>\n",
       "      <td>0.892</td>\n",
       "      <td>-0.757</td>\n",
       "      <td>-0.532</td>\n",
       "      <td>-1.093</td>\n",
       "      <td>-0.759</td>\n",
       "      <td>-1.045</td>\n",
       "      <td>-0.871</td>\n",
       "      <td>-0.331</td>\n",
       "      <td>-0.228</td>\n",
       "    </tr>\n",
       "    <tr>\n",
       "      <th>7</th>\n",
       "      <td>0.923</td>\n",
       "      <td>0.868</td>\n",
       "      <td>-0.507</td>\n",
       "      <td>-0.636</td>\n",
       "      <td>-0.512</td>\n",
       "      <td>-0.960</td>\n",
       "      <td>-0.716</td>\n",
       "      <td>-0.980</td>\n",
       "      <td>-0.225</td>\n",
       "      <td>-0.260</td>\n",
       "    </tr>\n",
       "    <tr>\n",
       "      <th>8</th>\n",
       "      <td>0.883</td>\n",
       "      <td>0.896</td>\n",
       "      <td>-0.676</td>\n",
       "      <td>-0.565</td>\n",
       "      <td>-0.810</td>\n",
       "      <td>-0.756</td>\n",
       "      <td>-0.900</td>\n",
       "      <td>-0.869</td>\n",
       "      <td>-0.379</td>\n",
       "      <td>-0.227</td>\n",
       "    </tr>\n",
       "    <tr>\n",
       "      <th>9</th>\n",
       "      <td>0.848</td>\n",
       "      <td>0.883</td>\n",
       "      <td>-0.724</td>\n",
       "      <td>-0.591</td>\n",
       "      <td>-1.598</td>\n",
       "      <td>-0.803</td>\n",
       "      <td>-1.264</td>\n",
       "      <td>-0.896</td>\n",
       "      <td>-0.214</td>\n",
       "      <td>-0.254</td>\n",
       "    </tr>\n",
       "    <tr>\n",
       "      <th>10</th>\n",
       "      <td>0.799</td>\n",
       "      <td>0.881</td>\n",
       "      <td>-0.672</td>\n",
       "      <td>-0.616</td>\n",
       "      <td>-1.520</td>\n",
       "      <td>-0.854</td>\n",
       "      <td>-1.233</td>\n",
       "      <td>-0.924</td>\n",
       "      <td>-0.228</td>\n",
       "      <td>-0.257</td>\n",
       "    </tr>\n",
       "  </tbody>\n",
       "</table>\n",
       "</div>"
      ],
      "text/plain": [
       "    test_r2  train_r2  test_neg_mean_absolute_error  \\\n",
       "1     0.925     0.908                        -0.512   \n",
       "2     0.901     0.908                        -0.512   \n",
       "3     0.713     0.899                        -0.996   \n",
       "4     0.958     0.880                        -0.372   \n",
       "5     0.926     0.885                        -0.548   \n",
       "6     0.878     0.892                        -0.757   \n",
       "7     0.923     0.868                        -0.507   \n",
       "8     0.883     0.896                        -0.676   \n",
       "9     0.848     0.883                        -0.724   \n",
       "10    0.799     0.881                        -0.672   \n",
       "\n",
       "    train_neg_mean_absolute_error  test_neg_mean_squared_error  \\\n",
       "1                          -0.529                       -0.411   \n",
       "2                          -0.521                       -0.576   \n",
       "3                          -0.534                       -1.544   \n",
       "4                          -0.574                       -0.308   \n",
       "5                          -0.560                       -0.519   \n",
       "6                          -0.532                       -1.093   \n",
       "7                          -0.636                       -0.512   \n",
       "8                          -0.565                       -0.810   \n",
       "9                          -0.591                       -1.598   \n",
       "10                         -0.616                       -1.520   \n",
       "\n",
       "    train_neg_mean_squared_error  test_neg_root_mean_squared_error  \\\n",
       "1                         -0.684                            -0.641   \n",
       "2                         -0.676                            -0.759   \n",
       "3                         -0.747                            -1.243   \n",
       "4                         -0.864                            -0.555   \n",
       "5                         -0.834                            -0.720   \n",
       "6                         -0.759                            -1.045   \n",
       "7                         -0.960                            -0.716   \n",
       "8                         -0.756                            -0.900   \n",
       "9                         -0.803                            -1.264   \n",
       "10                        -0.854                            -1.233   \n",
       "\n",
       "    train_neg_root_mean_squared_error  \\\n",
       "1                              -0.827   \n",
       "2                              -0.822   \n",
       "3                              -0.864   \n",
       "4                              -0.929   \n",
       "5                              -0.913   \n",
       "6                              -0.871   \n",
       "7                              -0.980   \n",
       "8                              -0.869   \n",
       "9                              -0.896   \n",
       "10                             -0.924   \n",
       "\n",
       "    test_neg_mean_absolute_percentage_error  \\\n",
       "1                                    -0.163   \n",
       "2                                    -0.162   \n",
       "3                                    -0.367   \n",
       "4                                    -0.208   \n",
       "5                                    -0.249   \n",
       "6                                    -0.331   \n",
       "7                                    -0.225   \n",
       "8                                    -0.379   \n",
       "9                                    -0.214   \n",
       "10                                   -0.228   \n",
       "\n",
       "    train_neg_mean_absolute_percentage_error  \n",
       "1                                     -0.237  \n",
       "2                                     -0.236  \n",
       "3                                     -0.236  \n",
       "4                                     -0.241  \n",
       "5                                     -0.241  \n",
       "6                                     -0.228  \n",
       "7                                     -0.260  \n",
       "8                                     -0.227  \n",
       "9                                     -0.254  \n",
       "10                                    -0.257  "
      ]
     },
     "execution_count": 54,
     "metadata": {},
     "output_type": "execute_result"
    }
   ],
   "source": [
    "from sklearn.model_selection import cross_validate, cross_val_score\n",
    "\n",
    "operations = [(\"OrdinalEncoder\", column_trans),\n",
    "              (\"DT_model\", DecisionTreeRegressor(ccp_alpha=0.043,\n",
    "                                                 criterion='absolute_error',\n",
    "                                                 random_state=101))]\n",
    "\n",
    "model = Pipeline(steps=operations)\n",
    "\n",
    "\n",
    "scores = cross_validate(model,\n",
    "                        X_train,\n",
    "                        y_train,\n",
    "                        scoring=['r2',\n",
    "                                 'neg_mean_absolute_error',\n",
    "                                 'neg_mean_squared_error',\n",
    "                                 'neg_root_mean_squared_error',\n",
    "                                 'neg_mean_absolute_percentage_error'],\n",
    "                        cv = 10,\n",
    "                        return_train_score=True)\n",
    "df_scores = pd.DataFrame(scores, index=range(1,11))\n",
    "df_scores.iloc[:,2:]\n",
    "\n",
    "# We can make a CV to see all metrics.\n",
    "# When we look at all iterations in the CV, we can see that some scores are very different.\n",
    "# This is expected for very small data."
   ]
  },
  {
   "cell_type": "code",
   "execution_count": 55,
   "id": "5de7a083",
   "metadata": {
    "colab": {
     "base_uri": "https://localhost:8080/"
    },
    "executionInfo": {
     "elapsed": 7,
     "status": "ok",
     "timestamp": 1697247371502,
     "user": {
      "displayName": "Orion Cloud",
      "userId": "13399699001942214669"
     },
     "user_tz": -180
    },
    "id": "5de7a083",
    "outputId": "92a0a33f-d06d-4e83-b321-353bdef03eae",
    "scrolled": true
   },
   "outputs": [
    {
     "data": {
      "text/plain": [
       "test_r2                                     0.875\n",
       "train_r2                                    0.890\n",
       "test_neg_mean_absolute_error               -0.628\n",
       "train_neg_mean_absolute_error              -0.566\n",
       "test_neg_mean_squared_error                -0.889\n",
       "train_neg_mean_squared_error               -0.794\n",
       "test_neg_root_mean_squared_error           -0.908\n",
       "train_neg_root_mean_squared_error          -0.890\n",
       "test_neg_mean_absolute_percentage_error    -0.252\n",
       "train_neg_mean_absolute_percentage_error   -0.242\n",
       "dtype: float64"
      ]
     },
     "execution_count": 55,
     "metadata": {},
     "output_type": "execute_result"
    }
   ],
   "source": [
    "df_scores.mean()[2:]"
   ]
  },
  {
   "cell_type": "code",
   "execution_count": 56,
   "id": "maritime-circumstances",
   "metadata": {
    "colab": {
     "base_uri": "https://localhost:8080/",
     "height": 206
    },
    "executionInfo": {
     "elapsed": 6,
     "status": "ok",
     "timestamp": 1697247371502,
     "user": {
      "displayName": "Orion Cloud",
      "userId": "13399699001942214669"
     },
     "user_tz": -180
    },
    "id": "maritime-circumstances",
    "outputId": "6331c668-01bd-4d1e-a37b-3e0064d22f2b"
   },
   "outputs": [
    {
     "data": {
      "text/html": [
       "<div>\n",
       "<style scoped>\n",
       "    .dataframe tbody tr th:only-of-type {\n",
       "        vertical-align: middle;\n",
       "    }\n",
       "\n",
       "    .dataframe tbody tr th {\n",
       "        vertical-align: top;\n",
       "    }\n",
       "\n",
       "    .dataframe thead th {\n",
       "        text-align: right;\n",
       "    }\n",
       "</style>\n",
       "<table border=\"1\" class=\"dataframe\">\n",
       "  <thead>\n",
       "    <tr style=\"text-align: right;\">\n",
       "      <th></th>\n",
       "      <th>train</th>\n",
       "      <th>test</th>\n",
       "    </tr>\n",
       "  </thead>\n",
       "  <tbody>\n",
       "    <tr>\n",
       "      <th>R2</th>\n",
       "      <td>0.873</td>\n",
       "      <td>0.884</td>\n",
       "    </tr>\n",
       "    <tr>\n",
       "      <th>mae</th>\n",
       "      <td>0.620</td>\n",
       "      <td>0.632</td>\n",
       "    </tr>\n",
       "    <tr>\n",
       "      <th>mse</th>\n",
       "      <td>0.914</td>\n",
       "      <td>0.792</td>\n",
       "    </tr>\n",
       "    <tr>\n",
       "      <th>rmse</th>\n",
       "      <td>0.956</td>\n",
       "      <td>0.890</td>\n",
       "    </tr>\n",
       "    <tr>\n",
       "      <th>mape</th>\n",
       "      <td>0.254</td>\n",
       "      <td>0.440</td>\n",
       "    </tr>\n",
       "  </tbody>\n",
       "</table>\n",
       "</div>"
      ],
      "text/plain": [
       "      train  test\n",
       "R2    0.873 0.884\n",
       "mae   0.620 0.632\n",
       "mse   0.914 0.792\n",
       "rmse  0.956 0.890\n",
       "mape  0.254 0.440"
      ]
     },
     "execution_count": 56,
     "metadata": {},
     "output_type": "execute_result"
    }
   ],
   "source": [
    "train_val(grid_model, X_train, y_train, X_test, y_test)"
   ]
  },
  {
   "cell_type": "markdown",
   "id": "20aee5ae",
   "metadata": {
    "id": "20aee5ae"
   },
   "source": [
    "## Feature İmportance"
   ]
  },
  {
   "cell_type": "code",
   "execution_count": 57,
   "id": "3efb2d51",
   "metadata": {
    "colab": {
     "base_uri": "https://localhost:8080/",
     "height": 192
    },
    "executionInfo": {
     "elapsed": 287,
     "status": "ok",
     "timestamp": 1697247371783,
     "user": {
      "displayName": "Orion Cloud",
      "userId": "13399699001942214669"
     },
     "user_tz": -180
    },
    "id": "3efb2d51",
    "lang": "en",
    "outputId": "38ee19b9-c3d0-42f3-9b35-066822f0079e"
   },
   "outputs": [
    {
     "data": {
      "text/html": [
       "<style>#sk-container-id-5 {color: black;background-color: white;}#sk-container-id-5 pre{padding: 0;}#sk-container-id-5 div.sk-toggleable {background-color: white;}#sk-container-id-5 label.sk-toggleable__label {cursor: pointer;display: block;width: 100%;margin-bottom: 0;padding: 0.3em;box-sizing: border-box;text-align: center;}#sk-container-id-5 label.sk-toggleable__label-arrow:before {content: \"▸\";float: left;margin-right: 0.25em;color: #696969;}#sk-container-id-5 label.sk-toggleable__label-arrow:hover:before {color: black;}#sk-container-id-5 div.sk-estimator:hover label.sk-toggleable__label-arrow:before {color: black;}#sk-container-id-5 div.sk-toggleable__content {max-height: 0;max-width: 0;overflow: hidden;text-align: left;background-color: #f0f8ff;}#sk-container-id-5 div.sk-toggleable__content pre {margin: 0.2em;color: black;border-radius: 0.25em;background-color: #f0f8ff;}#sk-container-id-5 input.sk-toggleable__control:checked~div.sk-toggleable__content {max-height: 200px;max-width: 100%;overflow: auto;}#sk-container-id-5 input.sk-toggleable__control:checked~label.sk-toggleable__label-arrow:before {content: \"▾\";}#sk-container-id-5 div.sk-estimator input.sk-toggleable__control:checked~label.sk-toggleable__label {background-color: #d4ebff;}#sk-container-id-5 div.sk-label input.sk-toggleable__control:checked~label.sk-toggleable__label {background-color: #d4ebff;}#sk-container-id-5 input.sk-hidden--visually {border: 0;clip: rect(1px 1px 1px 1px);clip: rect(1px, 1px, 1px, 1px);height: 1px;margin: -1px;overflow: hidden;padding: 0;position: absolute;width: 1px;}#sk-container-id-5 div.sk-estimator {font-family: monospace;background-color: #f0f8ff;border: 1px dotted black;border-radius: 0.25em;box-sizing: border-box;margin-bottom: 0.5em;}#sk-container-id-5 div.sk-estimator:hover {background-color: #d4ebff;}#sk-container-id-5 div.sk-parallel-item::after {content: \"\";width: 100%;border-bottom: 1px solid gray;flex-grow: 1;}#sk-container-id-5 div.sk-label:hover label.sk-toggleable__label {background-color: #d4ebff;}#sk-container-id-5 div.sk-serial::before {content: \"\";position: absolute;border-left: 1px solid gray;box-sizing: border-box;top: 0;bottom: 0;left: 50%;z-index: 0;}#sk-container-id-5 div.sk-serial {display: flex;flex-direction: column;align-items: center;background-color: white;padding-right: 0.2em;padding-left: 0.2em;position: relative;}#sk-container-id-5 div.sk-item {position: relative;z-index: 1;}#sk-container-id-5 div.sk-parallel {display: flex;align-items: stretch;justify-content: center;background-color: white;position: relative;}#sk-container-id-5 div.sk-item::before, #sk-container-id-5 div.sk-parallel-item::before {content: \"\";position: absolute;border-left: 1px solid gray;box-sizing: border-box;top: 0;bottom: 0;left: 50%;z-index: -1;}#sk-container-id-5 div.sk-parallel-item {display: flex;flex-direction: column;z-index: 1;position: relative;background-color: white;}#sk-container-id-5 div.sk-parallel-item:first-child::after {align-self: flex-end;width: 50%;}#sk-container-id-5 div.sk-parallel-item:last-child::after {align-self: flex-start;width: 50%;}#sk-container-id-5 div.sk-parallel-item:only-child::after {width: 0;}#sk-container-id-5 div.sk-dashed-wrapped {border: 1px dashed gray;margin: 0 0.4em 0.5em 0.4em;box-sizing: border-box;padding-bottom: 0.4em;background-color: white;}#sk-container-id-5 div.sk-label label {font-family: monospace;font-weight: bold;display: inline-block;line-height: 1.2em;}#sk-container-id-5 div.sk-label-container {text-align: center;}#sk-container-id-5 div.sk-container {/* jupyter's `normalize.less` sets `[hidden] { display: none; }` but bootstrap.min.css set `[hidden] { display: none !important; }` so we also need the `!important` here to be able to override the default hidden behavior on the sphinx rendered scikit-learn.org. See: https://github.com/scikit-learn/scikit-learn/issues/21755 */display: inline-block !important;position: relative;}#sk-container-id-5 div.sk-text-repr-fallback {display: none;}</style><div id=\"sk-container-id-5\" class=\"sk-top-container\"><div class=\"sk-text-repr-fallback\"><pre>Pipeline(steps=[(&#x27;OrdinalEncoder&#x27;,\n",
       "                 ColumnTransformer(remainder=&#x27;passthrough&#x27;,\n",
       "                                   transformers=[(&#x27;ordinalencoder&#x27;,\n",
       "                                                  OrdinalEncoder(handle_unknown=&#x27;use_encoded_value&#x27;,\n",
       "                                                                 unknown_value=-1),\n",
       "                                                  Index([&#x27;Fuel_Type&#x27;, &#x27;Seller_Type&#x27;, &#x27;Transmission&#x27;], dtype=&#x27;object&#x27;))],\n",
       "                                   verbose_feature_names_out=False)),\n",
       "                (&#x27;DT_model&#x27;,\n",
       "                 DecisionTreeRegressor(ccp_alpha=0.043,\n",
       "                                       criterion=&#x27;absolute_error&#x27;,\n",
       "                                       random_state=101))])</pre><b>In a Jupyter environment, please rerun this cell to show the HTML representation or trust the notebook. <br />On GitHub, the HTML representation is unable to render, please try loading this page with nbviewer.org.</b></div><div class=\"sk-container\" hidden><div class=\"sk-item sk-dashed-wrapped\"><div class=\"sk-label-container\"><div class=\"sk-label sk-toggleable\"><input class=\"sk-toggleable__control sk-hidden--visually\" id=\"sk-estimator-id-30\" type=\"checkbox\" ><label for=\"sk-estimator-id-30\" class=\"sk-toggleable__label sk-toggleable__label-arrow\">Pipeline</label><div class=\"sk-toggleable__content\"><pre>Pipeline(steps=[(&#x27;OrdinalEncoder&#x27;,\n",
       "                 ColumnTransformer(remainder=&#x27;passthrough&#x27;,\n",
       "                                   transformers=[(&#x27;ordinalencoder&#x27;,\n",
       "                                                  OrdinalEncoder(handle_unknown=&#x27;use_encoded_value&#x27;,\n",
       "                                                                 unknown_value=-1),\n",
       "                                                  Index([&#x27;Fuel_Type&#x27;, &#x27;Seller_Type&#x27;, &#x27;Transmission&#x27;], dtype=&#x27;object&#x27;))],\n",
       "                                   verbose_feature_names_out=False)),\n",
       "                (&#x27;DT_model&#x27;,\n",
       "                 DecisionTreeRegressor(ccp_alpha=0.043,\n",
       "                                       criterion=&#x27;absolute_error&#x27;,\n",
       "                                       random_state=101))])</pre></div></div></div><div class=\"sk-serial\"><div class=\"sk-item sk-dashed-wrapped\"><div class=\"sk-label-container\"><div class=\"sk-label sk-toggleable\"><input class=\"sk-toggleable__control sk-hidden--visually\" id=\"sk-estimator-id-31\" type=\"checkbox\" ><label for=\"sk-estimator-id-31\" class=\"sk-toggleable__label sk-toggleable__label-arrow\">OrdinalEncoder: ColumnTransformer</label><div class=\"sk-toggleable__content\"><pre>ColumnTransformer(remainder=&#x27;passthrough&#x27;,\n",
       "                  transformers=[(&#x27;ordinalencoder&#x27;,\n",
       "                                 OrdinalEncoder(handle_unknown=&#x27;use_encoded_value&#x27;,\n",
       "                                                unknown_value=-1),\n",
       "                                 Index([&#x27;Fuel_Type&#x27;, &#x27;Seller_Type&#x27;, &#x27;Transmission&#x27;], dtype=&#x27;object&#x27;))],\n",
       "                  verbose_feature_names_out=False)</pre></div></div></div><div class=\"sk-parallel\"><div class=\"sk-parallel-item\"><div class=\"sk-item\"><div class=\"sk-label-container\"><div class=\"sk-label sk-toggleable\"><input class=\"sk-toggleable__control sk-hidden--visually\" id=\"sk-estimator-id-32\" type=\"checkbox\" ><label for=\"sk-estimator-id-32\" class=\"sk-toggleable__label sk-toggleable__label-arrow\">ordinalencoder</label><div class=\"sk-toggleable__content\"><pre>Index([&#x27;Fuel_Type&#x27;, &#x27;Seller_Type&#x27;, &#x27;Transmission&#x27;], dtype=&#x27;object&#x27;)</pre></div></div></div><div class=\"sk-serial\"><div class=\"sk-item\"><div class=\"sk-estimator sk-toggleable\"><input class=\"sk-toggleable__control sk-hidden--visually\" id=\"sk-estimator-id-33\" type=\"checkbox\" ><label for=\"sk-estimator-id-33\" class=\"sk-toggleable__label sk-toggleable__label-arrow\">OrdinalEncoder</label><div class=\"sk-toggleable__content\"><pre>OrdinalEncoder(handle_unknown=&#x27;use_encoded_value&#x27;, unknown_value=-1)</pre></div></div></div></div></div></div><div class=\"sk-parallel-item\"><div class=\"sk-item\"><div class=\"sk-label-container\"><div class=\"sk-label sk-toggleable\"><input class=\"sk-toggleable__control sk-hidden--visually\" id=\"sk-estimator-id-34\" type=\"checkbox\" ><label for=\"sk-estimator-id-34\" class=\"sk-toggleable__label sk-toggleable__label-arrow\">remainder</label><div class=\"sk-toggleable__content\"><pre>[&#x27;Present_Price&#x27;, &#x27;Kms_Driven&#x27;, &#x27;Owner&#x27;, &#x27;vehicle_age&#x27;]</pre></div></div></div><div class=\"sk-serial\"><div class=\"sk-item\"><div class=\"sk-estimator sk-toggleable\"><input class=\"sk-toggleable__control sk-hidden--visually\" id=\"sk-estimator-id-35\" type=\"checkbox\" ><label for=\"sk-estimator-id-35\" class=\"sk-toggleable__label sk-toggleable__label-arrow\">passthrough</label><div class=\"sk-toggleable__content\"><pre>passthrough</pre></div></div></div></div></div></div></div></div><div class=\"sk-item\"><div class=\"sk-estimator sk-toggleable\"><input class=\"sk-toggleable__control sk-hidden--visually\" id=\"sk-estimator-id-36\" type=\"checkbox\" ><label for=\"sk-estimator-id-36\" class=\"sk-toggleable__label sk-toggleable__label-arrow\">DecisionTreeRegressor</label><div class=\"sk-toggleable__content\"><pre>DecisionTreeRegressor(ccp_alpha=0.043, criterion=&#x27;absolute_error&#x27;,\n",
       "                      random_state=101)</pre></div></div></div></div></div></div></div>"
      ],
      "text/plain": [
       "Pipeline(steps=[('OrdinalEncoder',\n",
       "                 ColumnTransformer(remainder='passthrough',\n",
       "                                   transformers=[('ordinalencoder',\n",
       "                                                  OrdinalEncoder(handle_unknown='use_encoded_value',\n",
       "                                                                 unknown_value=-1),\n",
       "                                                  Index(['Fuel_Type', 'Seller_Type', 'Transmission'], dtype='object'))],\n",
       "                                   verbose_feature_names_out=False)),\n",
       "                ('DT_model',\n",
       "                 DecisionTreeRegressor(ccp_alpha=0.043,\n",
       "                                       criterion='absolute_error',\n",
       "                                       random_state=101))])"
      ]
     },
     "execution_count": 57,
     "metadata": {},
     "output_type": "execute_result"
    }
   ],
   "source": [
    "operations = [(\"OrdinalEncoder\", column_trans),\n",
    "              (\"DT_model\", DecisionTreeRegressor(ccp_alpha=0.043,\n",
    "                                                 criterion='absolute_error',\n",
    "                                                 random_state=101))]\n",
    "pipe_model = Pipeline(steps=operations)\n",
    "pipe_model.fit(X_train, y_train)\n",
    "\n",
    "# We do not forget that we should use the best hyper parameters we found after gridsearch for feature importance."
   ]
  },
  {
   "cell_type": "code",
   "execution_count": 58,
   "id": "2fb3569e",
   "metadata": {
    "colab": {
     "base_uri": "https://localhost:8080/",
     "height": 81
    },
    "executionInfo": {
     "elapsed": 7,
     "status": "ok",
     "timestamp": 1697247371783,
     "user": {
      "displayName": "Orion Cloud",
      "userId": "13399699001942214669"
     },
     "user_tz": -180
    },
    "id": "2fb3569e",
    "lang": "en",
    "outputId": "63f09542-faff-4512-8786-bca6d94129a5"
   },
   "outputs": [
    {
     "data": {
      "text/html": [
       "<div>\n",
       "<style scoped>\n",
       "    .dataframe tbody tr th:only-of-type {\n",
       "        vertical-align: middle;\n",
       "    }\n",
       "\n",
       "    .dataframe tbody tr th {\n",
       "        vertical-align: top;\n",
       "    }\n",
       "\n",
       "    .dataframe thead th {\n",
       "        text-align: right;\n",
       "    }\n",
       "</style>\n",
       "<table border=\"1\" class=\"dataframe\">\n",
       "  <thead>\n",
       "    <tr style=\"text-align: right;\">\n",
       "      <th></th>\n",
       "      <th>Present_Price</th>\n",
       "      <th>Kms_Driven</th>\n",
       "      <th>Fuel_Type</th>\n",
       "      <th>Seller_Type</th>\n",
       "      <th>Transmission</th>\n",
       "      <th>Owner</th>\n",
       "      <th>vehicle_age</th>\n",
       "    </tr>\n",
       "  </thead>\n",
       "  <tbody>\n",
       "    <tr>\n",
       "      <th>269</th>\n",
       "      <td>10.000</td>\n",
       "      <td>18828</td>\n",
       "      <td>Petrol</td>\n",
       "      <td>Dealer</td>\n",
       "      <td>Manual</td>\n",
       "      <td>0</td>\n",
       "      <td>7</td>\n",
       "    </tr>\n",
       "  </tbody>\n",
       "</table>\n",
       "</div>"
      ],
      "text/plain": [
       "     Present_Price  Kms_Driven Fuel_Type Seller_Type Transmission  Owner  \\\n",
       "269         10.000       18828    Petrol      Dealer       Manual      0   \n",
       "\n",
       "     vehicle_age  \n",
       "269            7  "
      ]
     },
     "execution_count": 58,
     "metadata": {},
     "output_type": "execute_result"
    }
   ],
   "source": [
    "X_train.head(1)\n",
    "\n",
    "# Since make_colum_transform is used in the pipeline, we do not use feture names here."
   ]
  },
  {
   "cell_type": "code",
   "execution_count": 59,
   "id": "30f80dd1",
   "metadata": {
    "colab": {
     "base_uri": "https://localhost:8080/"
    },
    "executionInfo": {
     "elapsed": 7,
     "status": "ok",
     "timestamp": 1697247371783,
     "user": {
      "displayName": "Orion Cloud",
      "userId": "13399699001942214669"
     },
     "user_tz": -180
    },
    "id": "30f80dd1",
    "outputId": "7f4153c2-443e-4279-a567-6d9e6d2770ba"
   },
   "outputs": [
    {
     "data": {
      "text/plain": [
       "array(['Fuel_Type', 'Seller_Type', 'Transmission', 'Present_Price',\n",
       "       'Kms_Driven', 'Owner', 'vehicle_age'], dtype=object)"
      ]
     },
     "execution_count": 59,
     "metadata": {},
     "output_type": "execute_result"
    }
   ],
   "source": [
    "features"
   ]
  },
  {
   "cell_type": "code",
   "execution_count": 60,
   "id": "db8364e4",
   "metadata": {
    "colab": {
     "base_uri": "https://localhost:8080/",
     "height": 206
    },
    "executionInfo": {
     "elapsed": 4,
     "status": "ok",
     "timestamp": 1697247371783,
     "user": {
      "displayName": "Orion Cloud",
      "userId": "13399699001942214669"
     },
     "user_tz": -180
    },
    "id": "db8364e4",
    "lang": "en",
    "outputId": "b766e20c-3e3b-47f9-fa4c-0a0250295ba8"
   },
   "outputs": [
    {
     "data": {
      "text/html": [
       "<div>\n",
       "<style scoped>\n",
       "    .dataframe tbody tr th:only-of-type {\n",
       "        vertical-align: middle;\n",
       "    }\n",
       "\n",
       "    .dataframe tbody tr th {\n",
       "        vertical-align: top;\n",
       "    }\n",
       "\n",
       "    .dataframe thead th {\n",
       "        text-align: right;\n",
       "    }\n",
       "</style>\n",
       "<table border=\"1\" class=\"dataframe\">\n",
       "  <thead>\n",
       "    <tr style=\"text-align: right;\">\n",
       "      <th></th>\n",
       "      <th>Fuel_Type</th>\n",
       "      <th>Seller_Type</th>\n",
       "      <th>Transmission</th>\n",
       "      <th>Present_Price</th>\n",
       "      <th>Kms_Driven</th>\n",
       "      <th>Owner</th>\n",
       "      <th>vehicle_age</th>\n",
       "    </tr>\n",
       "  </thead>\n",
       "  <tbody>\n",
       "    <tr>\n",
       "      <th>269</th>\n",
       "      <td>2.000</td>\n",
       "      <td>0.000</td>\n",
       "      <td>1.000</td>\n",
       "      <td>10.000</td>\n",
       "      <td>18828</td>\n",
       "      <td>0</td>\n",
       "      <td>7</td>\n",
       "    </tr>\n",
       "    <tr>\n",
       "      <th>179</th>\n",
       "      <td>2.000</td>\n",
       "      <td>1.000</td>\n",
       "      <td>1.000</td>\n",
       "      <td>1.050</td>\n",
       "      <td>213000</td>\n",
       "      <td>0</td>\n",
       "      <td>12</td>\n",
       "    </tr>\n",
       "    <tr>\n",
       "      <th>261</th>\n",
       "      <td>2.000</td>\n",
       "      <td>0.000</td>\n",
       "      <td>1.000</td>\n",
       "      <td>5.970</td>\n",
       "      <td>5600</td>\n",
       "      <td>0</td>\n",
       "      <td>6</td>\n",
       "    </tr>\n",
       "    <tr>\n",
       "      <th>238</th>\n",
       "      <td>2.000</td>\n",
       "      <td>0.000</td>\n",
       "      <td>1.000</td>\n",
       "      <td>9.400</td>\n",
       "      <td>60241</td>\n",
       "      <td>0</td>\n",
       "      <td>9</td>\n",
       "    </tr>\n",
       "    <tr>\n",
       "      <th>204</th>\n",
       "      <td>2.000</td>\n",
       "      <td>0.000</td>\n",
       "      <td>1.000</td>\n",
       "      <td>4.430</td>\n",
       "      <td>28282</td>\n",
       "      <td>0</td>\n",
       "      <td>7</td>\n",
       "    </tr>\n",
       "  </tbody>\n",
       "</table>\n",
       "</div>"
      ],
      "text/plain": [
       "     Fuel_Type  Seller_Type  Transmission  Present_Price  Kms_Driven  Owner  \\\n",
       "269      2.000        0.000         1.000         10.000       18828      0   \n",
       "179      2.000        1.000         1.000          1.050      213000      0   \n",
       "261      2.000        0.000         1.000          5.970        5600      0   \n",
       "238      2.000        0.000         1.000          9.400       60241      0   \n",
       "204      2.000        0.000         1.000          4.430       28282      0   \n",
       "\n",
       "     vehicle_age  \n",
       "269            7  \n",
       "179           12  \n",
       "261            6  \n",
       "238            9  \n",
       "204            7  "
      ]
     },
     "execution_count": 60,
     "metadata": {},
     "output_type": "execute_result"
    }
   ],
   "source": [
    "pipe_model[\"OrdinalEncoder\"].fit_transform(X_train).head()\n",
    "\n",
    "# After make_colum_transform, we use the features list that shows the feature names of the new df in order."
   ]
  },
  {
   "cell_type": "code",
   "execution_count": 61,
   "id": "910704b9",
   "metadata": {
    "colab": {
     "base_uri": "https://localhost:8080/",
     "height": 269
    },
    "executionInfo": {
     "elapsed": 5,
     "status": "ok",
     "timestamp": 1697247371784,
     "user": {
      "displayName": "Orion Cloud",
      "userId": "13399699001942214669"
     },
     "user_tz": -180
    },
    "id": "910704b9",
    "lang": "en",
    "outputId": "5c127f8c-6e88-4a42-960b-ed461fb6a463"
   },
   "outputs": [
    {
     "data": {
      "text/html": [
       "<div>\n",
       "<style scoped>\n",
       "    .dataframe tbody tr th:only-of-type {\n",
       "        vertical-align: middle;\n",
       "    }\n",
       "\n",
       "    .dataframe tbody tr th {\n",
       "        vertical-align: top;\n",
       "    }\n",
       "\n",
       "    .dataframe thead th {\n",
       "        text-align: right;\n",
       "    }\n",
       "</style>\n",
       "<table border=\"1\" class=\"dataframe\">\n",
       "  <thead>\n",
       "    <tr style=\"text-align: right;\">\n",
       "      <th></th>\n",
       "      <th>Feature Importance</th>\n",
       "    </tr>\n",
       "  </thead>\n",
       "  <tbody>\n",
       "    <tr>\n",
       "      <th>Present_Price</th>\n",
       "      <td>0.829</td>\n",
       "    </tr>\n",
       "    <tr>\n",
       "      <th>vehicle_age</th>\n",
       "      <td>0.171</td>\n",
       "    </tr>\n",
       "    <tr>\n",
       "      <th>Fuel_Type</th>\n",
       "      <td>0.000</td>\n",
       "    </tr>\n",
       "    <tr>\n",
       "      <th>Seller_Type</th>\n",
       "      <td>0.000</td>\n",
       "    </tr>\n",
       "    <tr>\n",
       "      <th>Transmission</th>\n",
       "      <td>0.000</td>\n",
       "    </tr>\n",
       "    <tr>\n",
       "      <th>Kms_Driven</th>\n",
       "      <td>0.000</td>\n",
       "    </tr>\n",
       "    <tr>\n",
       "      <th>Owner</th>\n",
       "      <td>0.000</td>\n",
       "    </tr>\n",
       "  </tbody>\n",
       "</table>\n",
       "</div>"
      ],
      "text/plain": [
       "               Feature Importance\n",
       "Present_Price               0.829\n",
       "vehicle_age                 0.171\n",
       "Fuel_Type                   0.000\n",
       "Seller_Type                 0.000\n",
       "Transmission                0.000\n",
       "Kms_Driven                  0.000\n",
       "Owner                       0.000"
      ]
     },
     "execution_count": 61,
     "metadata": {},
     "output_type": "execute_result"
    }
   ],
   "source": [
    "df_f_i = pd.DataFrame(data = pipe_model[\"DT_model\"].feature_importances_,\n",
    "                      index=features,\n",
    "                      columns=[\"Feature Importance\"])\n",
    "\n",
    "df_f_i = df_f_i.sort_values(\"Feature Importance\", ascending=False)\n",
    "\n",
    "df_f_i\n",
    "\n",
    "# As you can see, DT couldn't get any insight from the other features except for the 2 feature.\n",
    "# Because DT always concentrates on the best features.\n",
    "# In later iterations we can drop the dominant feature and\n",
    "# try to see if the dominance comes from high cardinality."
   ]
  },
  {
   "cell_type": "code",
   "execution_count": 62,
   "id": "fdcda244",
   "metadata": {
    "colab": {
     "base_uri": "https://localhost:8080/",
     "height": 551
    },
    "executionInfo": {
     "elapsed": 287,
     "status": "ok",
     "timestamp": 1697247372066,
     "user": {
      "displayName": "Orion Cloud",
      "userId": "13399699001942214669"
     },
     "user_tz": -180
    },
    "id": "fdcda244",
    "outputId": "edb95520-0a63-41dc-af49-1d12537932cf"
   },
   "outputs": [
    {
     "data": {
      "image/png": "[encoded data removed]",
      "text/plain": [
       "<Figure size 800x550 with 1 Axes>"
      ]
     },
     "metadata": {},
     "output_type": "display_data"
    }
   ],
   "source": [
    "ax = sns.barplot(x = df_f_i.index, y = 'Feature Importance', data = df_f_i)\n",
    "ax.bar_label(ax.containers[0],fmt=\"%.3f\")\n",
    "plt.xticks(rotation = 90)\n",
    "plt.tight_layout()"
   ]
  },
  {
   "cell_type": "markdown",
   "id": "2064343f",
   "metadata": {
    "id": "2064343f"
   },
   "source": [
    "## Compore real and predicted result"
   ]
  },
  {
   "cell_type": "code",
   "execution_count": 63,
   "id": "f0b30fce",
   "metadata": {
    "executionInfo": {
     "elapsed": 3,
     "status": "ok",
     "timestamp": 1697247372066,
     "user": {
      "displayName": "Orion Cloud",
      "userId": "13399699001942214669"
     },
     "user_tz": -180
    },
    "id": "f0b30fce",
    "lang": "en"
   },
   "outputs": [],
   "source": [
    "y_pred = grid_model.predict(X_test)\n",
    "my_dict = { 'Actual': y_test, 'Pred': y_pred, 'Residual': y_test-y_pred }\n",
    "compare = pd.DataFrame(my_dict)\n",
    "\n",
    "# we compare the actual, predicted values ​​with the residuals to see if the model can make the predictions successfully."
   ]
  },
  {
   "cell_type": "code",
   "execution_count": 64,
   "id": "innovative-separate",
   "metadata": {
    "colab": {
     "base_uri": "https://localhost:8080/",
     "height": 677
    },
    "executionInfo": {
     "elapsed": 3,
     "status": "ok",
     "timestamp": 1697247372066,
     "user": {
      "displayName": "Orion Cloud",
      "userId": "13399699001942214669"
     },
     "user_tz": -180
    },
    "id": "innovative-separate",
    "outputId": "9cee55de-5d59-4b46-a520-0a438b740ba4"
   },
   "outputs": [
    {
     "data": {
      "text/html": [
       "<div>\n",
       "<style scoped>\n",
       "    .dataframe tbody tr th:only-of-type {\n",
       "        vertical-align: middle;\n",
       "    }\n",
       "\n",
       "    .dataframe tbody tr th {\n",
       "        vertical-align: top;\n",
       "    }\n",
       "\n",
       "    .dataframe thead th {\n",
       "        text-align: right;\n",
       "    }\n",
       "</style>\n",
       "<table border=\"1\" class=\"dataframe\">\n",
       "  <thead>\n",
       "    <tr style=\"text-align: right;\">\n",
       "      <th></th>\n",
       "      <th>Actual</th>\n",
       "      <th>Pred</th>\n",
       "      <th>Residual</th>\n",
       "    </tr>\n",
       "  </thead>\n",
       "  <tbody>\n",
       "    <tr>\n",
       "      <th>168</th>\n",
       "      <td>0.420</td>\n",
       "      <td>0.450</td>\n",
       "      <td>-0.030</td>\n",
       "    </tr>\n",
       "    <tr>\n",
       "      <th>187</th>\n",
       "      <td>0.250</td>\n",
       "      <td>0.450</td>\n",
       "      <td>-0.200</td>\n",
       "    </tr>\n",
       "    <tr>\n",
       "      <th>142</th>\n",
       "      <td>0.600</td>\n",
       "      <td>0.450</td>\n",
       "      <td>0.150</td>\n",
       "    </tr>\n",
       "    <tr>\n",
       "      <th>285</th>\n",
       "      <td>7.400</td>\n",
       "      <td>7.500</td>\n",
       "      <td>-0.100</td>\n",
       "    </tr>\n",
       "    <tr>\n",
       "      <th>60</th>\n",
       "      <td>6.950</td>\n",
       "      <td>4.750</td>\n",
       "      <td>2.200</td>\n",
       "    </tr>\n",
       "    <tr>\n",
       "      <th>49</th>\n",
       "      <td>7.750</td>\n",
       "      <td>7.500</td>\n",
       "      <td>0.250</td>\n",
       "    </tr>\n",
       "    <tr>\n",
       "      <th>109</th>\n",
       "      <td>1.200</td>\n",
       "      <td>1.250</td>\n",
       "      <td>-0.050</td>\n",
       "    </tr>\n",
       "    <tr>\n",
       "      <th>85</th>\n",
       "      <td>2.500</td>\n",
       "      <td>4.750</td>\n",
       "      <td>-2.250</td>\n",
       "    </tr>\n",
       "    <tr>\n",
       "      <th>21</th>\n",
       "      <td>4.900</td>\n",
       "      <td>4.750</td>\n",
       "      <td>0.150</td>\n",
       "    </tr>\n",
       "    <tr>\n",
       "      <th>98</th>\n",
       "      <td>7.050</td>\n",
       "      <td>4.750</td>\n",
       "      <td>2.300</td>\n",
       "    </tr>\n",
       "    <tr>\n",
       "      <th>155</th>\n",
       "      <td>0.480</td>\n",
       "      <td>0.450</td>\n",
       "      <td>0.030</td>\n",
       "    </tr>\n",
       "    <tr>\n",
       "      <th>271</th>\n",
       "      <td>3.000</td>\n",
       "      <td>4.750</td>\n",
       "      <td>-1.750</td>\n",
       "    </tr>\n",
       "    <tr>\n",
       "      <th>236</th>\n",
       "      <td>3.100</td>\n",
       "      <td>4.750</td>\n",
       "      <td>-1.650</td>\n",
       "    </tr>\n",
       "    <tr>\n",
       "      <th>61</th>\n",
       "      <td>4.500</td>\n",
       "      <td>4.750</td>\n",
       "      <td>-0.250</td>\n",
       "    </tr>\n",
       "    <tr>\n",
       "      <th>186</th>\n",
       "      <td>0.250</td>\n",
       "      <td>0.450</td>\n",
       "      <td>-0.200</td>\n",
       "    </tr>\n",
       "    <tr>\n",
       "      <th>205</th>\n",
       "      <td>5.250</td>\n",
       "      <td>4.750</td>\n",
       "      <td>0.500</td>\n",
       "    </tr>\n",
       "    <tr>\n",
       "      <th>70</th>\n",
       "      <td>3.950</td>\n",
       "      <td>4.750</td>\n",
       "      <td>-0.800</td>\n",
       "    </tr>\n",
       "    <tr>\n",
       "      <th>222</th>\n",
       "      <td>6.000</td>\n",
       "      <td>4.750</td>\n",
       "      <td>1.250</td>\n",
       "    </tr>\n",
       "    <tr>\n",
       "      <th>287</th>\n",
       "      <td>5.750</td>\n",
       "      <td>4.750</td>\n",
       "      <td>1.000</td>\n",
       "    </tr>\n",
       "    <tr>\n",
       "      <th>3</th>\n",
       "      <td>2.850</td>\n",
       "      <td>1.250</td>\n",
       "      <td>1.600</td>\n",
       "    </tr>\n",
       "  </tbody>\n",
       "</table>\n",
       "</div>"
      ],
      "text/plain": [
       "     Actual  Pred  Residual\n",
       "168   0.420 0.450    -0.030\n",
       "187   0.250 0.450    -0.200\n",
       "142   0.600 0.450     0.150\n",
       "285   7.400 7.500    -0.100\n",
       "60    6.950 4.750     2.200\n",
       "49    7.750 7.500     0.250\n",
       "109   1.200 1.250    -0.050\n",
       "85    2.500 4.750    -2.250\n",
       "21    4.900 4.750     0.150\n",
       "98    7.050 4.750     2.300\n",
       "155   0.480 0.450     0.030\n",
       "271   3.000 4.750    -1.750\n",
       "236   3.100 4.750    -1.650\n",
       "61    4.500 4.750    -0.250\n",
       "186   0.250 0.450    -0.200\n",
       "205   5.250 4.750     0.500\n",
       "70    3.950 4.750    -0.800\n",
       "222   6.000 4.750     1.250\n",
       "287   5.750 4.750     1.000\n",
       "3     2.850 1.250     1.600"
      ]
     },
     "execution_count": 64,
     "metadata": {},
     "output_type": "execute_result"
    }
   ],
   "source": [
    "comp_sample = compare.sample(20)\n",
    "comp_sample"
   ]
  },
  {
   "cell_type": "code",
   "execution_count": 65,
   "id": "significant-frontier",
   "metadata": {
    "colab": {
     "base_uri": "https://localhost:8080/",
     "height": 455
    },
    "executionInfo": {
     "elapsed": 374,
     "status": "ok",
     "timestamp": 1697247372438,
     "user": {
      "displayName": "Orion Cloud",
      "userId": "13399699001942214669"
     },
     "user_tz": -180
    },
    "id": "significant-frontier",
    "outputId": "b45f4484-2736-4779-deb1-bb1ebf6cd56e"
   },
   "outputs": [
    {
     "data": {
      "image/png": "[encoded data removed]",
      "text/plain": [
       "<Figure size 900x500 with 1 Axes>"
      ]
     },
     "metadata": {},
     "output_type": "display_data"
    }
   ],
   "source": [
    "comp_sample.plot(kind='bar',figsize=(9,5))\n",
    "plt.show()"
   ]
  },
  {
   "cell_type": "markdown",
   "id": "7d10ea85",
   "metadata": {
    "id": "7d10ea85"
   },
   "source": [
    "## Final Model"
   ]
  },
  {
   "cell_type": "code",
   "execution_count": 66,
   "id": "a797298e",
   "metadata": {
    "executionInfo": {
     "elapsed": 2,
     "status": "ok",
     "timestamp": 1697247372438,
     "user": {
      "displayName": "Orion Cloud",
      "userId": "13399699001942214669"
     },
     "user_tz": -180
    },
    "id": "a797298e"
   },
   "outputs": [],
   "source": [
    "X=df_new.drop(\"Selling_Price\", axis=1)\n",
    "y=df_new.Selling_Price"
   ]
  },
  {
   "cell_type": "code",
   "execution_count": 67,
   "id": "d3527c07",
   "metadata": {
    "colab": {
     "base_uri": "https://localhost:8080/",
     "height": 192
    },
    "executionInfo": {
     "elapsed": 268,
     "status": "ok",
     "timestamp": 1697247372705,
     "user": {
      "displayName": "Orion Cloud",
      "userId": "13399699001942214669"
     },
     "user_tz": -180
    },
    "id": "d3527c07",
    "lang": "en",
    "outputId": "fcc0ae9c-c2c9-4e70-b593-e13d74e8a1cf"
   },
   "outputs": [
    {
     "data": {
      "text/html": [
       "<style>#sk-container-id-6 {color: black;background-color: white;}#sk-container-id-6 pre{padding: 0;}#sk-container-id-6 div.sk-toggleable {background-color: white;}#sk-container-id-6 label.sk-toggleable__label {cursor: pointer;display: block;width: 100%;margin-bottom: 0;padding: 0.3em;box-sizing: border-box;text-align: center;}#sk-container-id-6 label.sk-toggleable__label-arrow:before {content: \"▸\";float: left;margin-right: 0.25em;color: #696969;}#sk-container-id-6 label.sk-toggleable__label-arrow:hover:before {color: black;}#sk-container-id-6 div.sk-estimator:hover label.sk-toggleable__label-arrow:before {color: black;}#sk-container-id-6 div.sk-toggleable__content {max-height: 0;max-width: 0;overflow: hidden;text-align: left;background-color: #f0f8ff;}#sk-container-id-6 div.sk-toggleable__content pre {margin: 0.2em;color: black;border-radius: 0.25em;background-color: #f0f8ff;}#sk-container-id-6 input.sk-toggleable__control:checked~div.sk-toggleable__content {max-height: 200px;max-width: 100%;overflow: auto;}#sk-container-id-6 input.sk-toggleable__control:checked~label.sk-toggleable__label-arrow:before {content: \"▾\";}#sk-container-id-6 div.sk-estimator input.sk-toggleable__control:checked~label.sk-toggleable__label {background-color: #d4ebff;}#sk-container-id-6 div.sk-label input.sk-toggleable__control:checked~label.sk-toggleable__label {background-color: #d4ebff;}#sk-container-id-6 input.sk-hidden--visually {border: 0;clip: rect(1px 1px 1px 1px);clip: rect(1px, 1px, 1px, 1px);height: 1px;margin: -1px;overflow: hidden;padding: 0;position: absolute;width: 1px;}#sk-container-id-6 div.sk-estimator {font-family: monospace;background-color: #f0f8ff;border: 1px dotted black;border-radius: 0.25em;box-sizing: border-box;margin-bottom: 0.5em;}#sk-container-id-6 div.sk-estimator:hover {background-color: #d4ebff;}#sk-container-id-6 div.sk-parallel-item::after {content: \"\";width: 100%;border-bottom: 1px solid gray;flex-grow: 1;}#sk-container-id-6 div.sk-label:hover label.sk-toggleable__label {background-color: #d4ebff;}#sk-container-id-6 div.sk-serial::before {content: \"\";position: absolute;border-left: 1px solid gray;box-sizing: border-box;top: 0;bottom: 0;left: 50%;z-index: 0;}#sk-container-id-6 div.sk-serial {display: flex;flex-direction: column;align-items: center;background-color: white;padding-right: 0.2em;padding-left: 0.2em;position: relative;}#sk-container-id-6 div.sk-item {position: relative;z-index: 1;}#sk-container-id-6 div.sk-parallel {display: flex;align-items: stretch;justify-content: center;background-color: white;position: relative;}#sk-container-id-6 div.sk-item::before, #sk-container-id-6 div.sk-parallel-item::before {content: \"\";position: absolute;border-left: 1px solid gray;box-sizing: border-box;top: 0;bottom: 0;left: 50%;z-index: -1;}#sk-container-id-6 div.sk-parallel-item {display: flex;flex-direction: column;z-index: 1;position: relative;background-color: white;}#sk-container-id-6 div.sk-parallel-item:first-child::after {align-self: flex-end;width: 50%;}#sk-container-id-6 div.sk-parallel-item:last-child::after {align-self: flex-start;width: 50%;}#sk-container-id-6 div.sk-parallel-item:only-child::after {width: 0;}#sk-container-id-6 div.sk-dashed-wrapped {border: 1px dashed gray;margin: 0 0.4em 0.5em 0.4em;box-sizing: border-box;padding-bottom: 0.4em;background-color: white;}#sk-container-id-6 div.sk-label label {font-family: monospace;font-weight: bold;display: inline-block;line-height: 1.2em;}#sk-container-id-6 div.sk-label-container {text-align: center;}#sk-container-id-6 div.sk-container {/* jupyter's `normalize.less` sets `[hidden] { display: none; }` but bootstrap.min.css set `[hidden] { display: none !important; }` so we also need the `!important` here to be able to override the default hidden behavior on the sphinx rendered scikit-learn.org. See: https://github.com/scikit-learn/scikit-learn/issues/21755 */display: inline-block !important;position: relative;}#sk-container-id-6 div.sk-text-repr-fallback {display: none;}</style><div id=\"sk-container-id-6\" class=\"sk-top-container\"><div class=\"sk-text-repr-fallback\"><pre>Pipeline(steps=[(&#x27;Ordinalcoder&#x27;,\n",
       "                 ColumnTransformer(remainder=&#x27;passthrough&#x27;,\n",
       "                                   transformers=[(&#x27;ordinalencoder&#x27;,\n",
       "                                                  OrdinalEncoder(handle_unknown=&#x27;use_encoded_value&#x27;,\n",
       "                                                                 unknown_value=-1),\n",
       "                                                  Index([&#x27;Fuel_Type&#x27;, &#x27;Seller_Type&#x27;, &#x27;Transmission&#x27;], dtype=&#x27;object&#x27;))],\n",
       "                                   verbose_feature_names_out=False)),\n",
       "                (&#x27;DT_model&#x27;,\n",
       "                 DecisionTreeRegressor(ccp_alpha=0.043,\n",
       "                                       criterion=&#x27;absolute_error&#x27;,\n",
       "                                       random_state=101))])</pre><b>In a Jupyter environment, please rerun this cell to show the HTML representation or trust the notebook. <br />On GitHub, the HTML representation is unable to render, please try loading this page with nbviewer.org.</b></div><div class=\"sk-container\" hidden><div class=\"sk-item sk-dashed-wrapped\"><div class=\"sk-label-container\"><div class=\"sk-label sk-toggleable\"><input class=\"sk-toggleable__control sk-hidden--visually\" id=\"sk-estimator-id-37\" type=\"checkbox\" ><label for=\"sk-estimator-id-37\" class=\"sk-toggleable__label sk-toggleable__label-arrow\">Pipeline</label><div class=\"sk-toggleable__content\"><pre>Pipeline(steps=[(&#x27;Ordinalcoder&#x27;,\n",
       "                 ColumnTransformer(remainder=&#x27;passthrough&#x27;,\n",
       "                                   transformers=[(&#x27;ordinalencoder&#x27;,\n",
       "                                                  OrdinalEncoder(handle_unknown=&#x27;use_encoded_value&#x27;,\n",
       "                                                                 unknown_value=-1),\n",
       "                                                  Index([&#x27;Fuel_Type&#x27;, &#x27;Seller_Type&#x27;, &#x27;Transmission&#x27;], dtype=&#x27;object&#x27;))],\n",
       "                                   verbose_feature_names_out=False)),\n",
       "                (&#x27;DT_model&#x27;,\n",
       "                 DecisionTreeRegressor(ccp_alpha=0.043,\n",
       "                                       criterion=&#x27;absolute_error&#x27;,\n",
       "                                       random_state=101))])</pre></div></div></div><div class=\"sk-serial\"><div class=\"sk-item sk-dashed-wrapped\"><div class=\"sk-label-container\"><div class=\"sk-label sk-toggleable\"><input class=\"sk-toggleable__control sk-hidden--visually\" id=\"sk-estimator-id-38\" type=\"checkbox\" ><label for=\"sk-estimator-id-38\" class=\"sk-toggleable__label sk-toggleable__label-arrow\">Ordinalcoder: ColumnTransformer</label><div class=\"sk-toggleable__content\"><pre>ColumnTransformer(remainder=&#x27;passthrough&#x27;,\n",
       "                  transformers=[(&#x27;ordinalencoder&#x27;,\n",
       "                                 OrdinalEncoder(handle_unknown=&#x27;use_encoded_value&#x27;,\n",
       "                                                unknown_value=-1),\n",
       "                                 Index([&#x27;Fuel_Type&#x27;, &#x27;Seller_Type&#x27;, &#x27;Transmission&#x27;], dtype=&#x27;object&#x27;))],\n",
       "                  verbose_feature_names_out=False)</pre></div></div></div><div class=\"sk-parallel\"><div class=\"sk-parallel-item\"><div class=\"sk-item\"><div class=\"sk-label-container\"><div class=\"sk-label sk-toggleable\"><input class=\"sk-toggleable__control sk-hidden--visually\" id=\"sk-estimator-id-39\" type=\"checkbox\" ><label for=\"sk-estimator-id-39\" class=\"sk-toggleable__label sk-toggleable__label-arrow\">ordinalencoder</label><div class=\"sk-toggleable__content\"><pre>Index([&#x27;Fuel_Type&#x27;, &#x27;Seller_Type&#x27;, &#x27;Transmission&#x27;], dtype=&#x27;object&#x27;)</pre></div></div></div><div class=\"sk-serial\"><div class=\"sk-item\"><div class=\"sk-estimator sk-toggleable\"><input class=\"sk-toggleable__control sk-hidden--visually\" id=\"sk-estimator-id-40\" type=\"checkbox\" ><label for=\"sk-estimator-id-40\" class=\"sk-toggleable__label sk-toggleable__label-arrow\">OrdinalEncoder</label><div class=\"sk-toggleable__content\"><pre>OrdinalEncoder(handle_unknown=&#x27;use_encoded_value&#x27;, unknown_value=-1)</pre></div></div></div></div></div></div><div class=\"sk-parallel-item\"><div class=\"sk-item\"><div class=\"sk-label-container\"><div class=\"sk-label sk-toggleable\"><input class=\"sk-toggleable__control sk-hidden--visually\" id=\"sk-estimator-id-41\" type=\"checkbox\" ><label for=\"sk-estimator-id-41\" class=\"sk-toggleable__label sk-toggleable__label-arrow\">remainder</label><div class=\"sk-toggleable__content\"><pre>[&#x27;Present_Price&#x27;, &#x27;Kms_Driven&#x27;, &#x27;Owner&#x27;, &#x27;vehicle_age&#x27;]</pre></div></div></div><div class=\"sk-serial\"><div class=\"sk-item\"><div class=\"sk-estimator sk-toggleable\"><input class=\"sk-toggleable__control sk-hidden--visually\" id=\"sk-estimator-id-42\" type=\"checkbox\" ><label for=\"sk-estimator-id-42\" class=\"sk-toggleable__label sk-toggleable__label-arrow\">passthrough</label><div class=\"sk-toggleable__content\"><pre>passthrough</pre></div></div></div></div></div></div></div></div><div class=\"sk-item\"><div class=\"sk-estimator sk-toggleable\"><input class=\"sk-toggleable__control sk-hidden--visually\" id=\"sk-estimator-id-43\" type=\"checkbox\" ><label for=\"sk-estimator-id-43\" class=\"sk-toggleable__label sk-toggleable__label-arrow\">DecisionTreeRegressor</label><div class=\"sk-toggleable__content\"><pre>DecisionTreeRegressor(ccp_alpha=0.043, criterion=&#x27;absolute_error&#x27;,\n",
       "                      random_state=101)</pre></div></div></div></div></div></div></div>"
      ],
      "text/plain": [
       "Pipeline(steps=[('Ordinalcoder',\n",
       "                 ColumnTransformer(remainder='passthrough',\n",
       "                                   transformers=[('ordinalencoder',\n",
       "                                                  OrdinalEncoder(handle_unknown='use_encoded_value',\n",
       "                                                                 unknown_value=-1),\n",
       "                                                  Index(['Fuel_Type', 'Seller_Type', 'Transmission'], dtype='object'))],\n",
       "                                   verbose_feature_names_out=False)),\n",
       "                ('DT_model',\n",
       "                 DecisionTreeRegressor(ccp_alpha=0.043,\n",
       "                                       criterion='absolute_error',\n",
       "                                       random_state=101))])"
      ]
     },
     "execution_count": 67,
     "metadata": {},
     "output_type": "execute_result"
    }
   ],
   "source": [
    "from sklearn.pipeline import Pipeline\n",
    "\n",
    "operations = [(\"Ordinalcoder\", column_trans),\n",
    "              (\"DT_model\", DecisionTreeRegressor(ccp_alpha=0.043,\n",
    "                                                 criterion='absolute_error',\n",
    "                                                 random_state=101))]\n",
    "\n",
    "pipe_model = Pipeline(steps=operations)\n",
    "\n",
    "pipe_model.fit(X, y)\n",
    "\n",
    "# we re-build our final model for all data with the best hyper parameters."
   ]
  },
  {
   "cell_type": "markdown",
   "id": "811880a5",
   "metadata": {
    "id": "811880a5"
   },
   "source": [
    "## Prediction"
   ]
  },
  {
   "cell_type": "code",
   "execution_count": 68,
   "id": "59798fde",
   "metadata": {
    "colab": {
     "base_uri": "https://localhost:8080/",
     "height": 300
    },
    "executionInfo": {
     "elapsed": 5,
     "status": "ok",
     "timestamp": 1697247372705,
     "user": {
      "displayName": "Orion Cloud",
      "userId": "13399699001942214669"
     },
     "user_tz": -180
    },
    "id": "59798fde",
    "outputId": "3ace40dd-a404-4cb0-f31b-e99220640652"
   },
   "outputs": [
    {
     "data": {
      "text/html": [
       "<div>\n",
       "<style scoped>\n",
       "    .dataframe tbody tr th:only-of-type {\n",
       "        vertical-align: middle;\n",
       "    }\n",
       "\n",
       "    .dataframe tbody tr th {\n",
       "        vertical-align: top;\n",
       "    }\n",
       "\n",
       "    .dataframe thead th {\n",
       "        text-align: right;\n",
       "    }\n",
       "</style>\n",
       "<table border=\"1\" class=\"dataframe\">\n",
       "  <thead>\n",
       "    <tr style=\"text-align: right;\">\n",
       "      <th></th>\n",
       "      <th>Present_Price</th>\n",
       "      <th>Kms_Driven</th>\n",
       "      <th>Owner</th>\n",
       "      <th>vehicle_age</th>\n",
       "    </tr>\n",
       "  </thead>\n",
       "  <tbody>\n",
       "    <tr>\n",
       "      <th>count</th>\n",
       "      <td>273.000</td>\n",
       "      <td>273.000</td>\n",
       "      <td>273.000</td>\n",
       "      <td>273.000</td>\n",
       "    </tr>\n",
       "    <tr>\n",
       "      <th>mean</th>\n",
       "      <td>5.879</td>\n",
       "      <td>36516.941</td>\n",
       "      <td>0.048</td>\n",
       "      <td>8.527</td>\n",
       "    </tr>\n",
       "    <tr>\n",
       "      <th>std</th>\n",
       "      <td>4.955</td>\n",
       "      <td>39529.116</td>\n",
       "      <td>0.260</td>\n",
       "      <td>2.943</td>\n",
       "    </tr>\n",
       "    <tr>\n",
       "      <th>min</th>\n",
       "      <td>0.320</td>\n",
       "      <td>500.000</td>\n",
       "      <td>0.000</td>\n",
       "      <td>4.000</td>\n",
       "    </tr>\n",
       "    <tr>\n",
       "      <th>25%</th>\n",
       "      <td>0.990</td>\n",
       "      <td>15001.000</td>\n",
       "      <td>0.000</td>\n",
       "      <td>6.000</td>\n",
       "    </tr>\n",
       "    <tr>\n",
       "      <th>50%</th>\n",
       "      <td>5.700</td>\n",
       "      <td>32000.000</td>\n",
       "      <td>0.000</td>\n",
       "      <td>8.000</td>\n",
       "    </tr>\n",
       "    <tr>\n",
       "      <th>75%</th>\n",
       "      <td>8.920</td>\n",
       "      <td>48000.000</td>\n",
       "      <td>0.000</td>\n",
       "      <td>10.000</td>\n",
       "    </tr>\n",
       "    <tr>\n",
       "      <th>max</th>\n",
       "      <td>23.730</td>\n",
       "      <td>500000.000</td>\n",
       "      <td>3.000</td>\n",
       "      <td>19.000</td>\n",
       "    </tr>\n",
       "  </tbody>\n",
       "</table>\n",
       "</div>"
      ],
      "text/plain": [
       "       Present_Price  Kms_Driven   Owner  vehicle_age\n",
       "count        273.000     273.000 273.000      273.000\n",
       "mean           5.879   36516.941   0.048        8.527\n",
       "std            4.955   39529.116   0.260        2.943\n",
       "min            0.320     500.000   0.000        4.000\n",
       "25%            0.990   15001.000   0.000        6.000\n",
       "50%            5.700   32000.000   0.000        8.000\n",
       "75%            8.920   48000.000   0.000       10.000\n",
       "max           23.730  500000.000   3.000       19.000"
      ]
     },
     "execution_count": 68,
     "metadata": {},
     "output_type": "execute_result"
    }
   ],
   "source": [
    "X.describe()"
   ]
  },
  {
   "cell_type": "code",
   "execution_count": 69,
   "id": "e44a32f1",
   "metadata": {
    "executionInfo": {
     "elapsed": 5,
     "status": "ok",
     "timestamp": 1697247372705,
     "user": {
      "displayName": "Orion Cloud",
      "userId": "13399699001942214669"
     },
     "user_tz": -180
    },
    "id": "e44a32f1"
   },
   "outputs": [],
   "source": [
    "samples = {\"Present_Price\": [7, 9.5],\n",
    "           \"Kms_Driven\": [25000, 44000],\n",
    "           \"Fuel_Type\":[\"Petrol\", \"Diesel\"],\n",
    "           'Seller_Type':['Dealer', 'Individual'],\n",
    "           'Transmission': ['Manual', 'Automatic'],\n",
    "           \"Owner\":[0,1],\n",
    "           \"vehicle_age\":[1, 9]}"
   ]
  },
  {
   "cell_type": "code",
   "execution_count": 70,
   "id": "b2cf9057",
   "metadata": {
    "colab": {
     "base_uri": "https://localhost:8080/",
     "height": 112
    },
    "executionInfo": {
     "elapsed": 4,
     "status": "ok",
     "timestamp": 1697247372705,
     "user": {
      "displayName": "Orion Cloud",
      "userId": "13399699001942214669"
     },
     "user_tz": -180
    },
    "id": "b2cf9057",
    "outputId": "91bf79f2-6c4a-495f-8bd6-547da12a57c9"
   },
   "outputs": [
    {
     "data": {
      "text/html": [
       "<div>\n",
       "<style scoped>\n",
       "    .dataframe tbody tr th:only-of-type {\n",
       "        vertical-align: middle;\n",
       "    }\n",
       "\n",
       "    .dataframe tbody tr th {\n",
       "        vertical-align: top;\n",
       "    }\n",
       "\n",
       "    .dataframe thead th {\n",
       "        text-align: right;\n",
       "    }\n",
       "</style>\n",
       "<table border=\"1\" class=\"dataframe\">\n",
       "  <thead>\n",
       "    <tr style=\"text-align: right;\">\n",
       "      <th></th>\n",
       "      <th>Present_Price</th>\n",
       "      <th>Kms_Driven</th>\n",
       "      <th>Fuel_Type</th>\n",
       "      <th>Seller_Type</th>\n",
       "      <th>Transmission</th>\n",
       "      <th>Owner</th>\n",
       "      <th>vehicle_age</th>\n",
       "    </tr>\n",
       "  </thead>\n",
       "  <tbody>\n",
       "    <tr>\n",
       "      <th>0</th>\n",
       "      <td>7.000</td>\n",
       "      <td>25000</td>\n",
       "      <td>Petrol</td>\n",
       "      <td>Dealer</td>\n",
       "      <td>Manual</td>\n",
       "      <td>0</td>\n",
       "      <td>1</td>\n",
       "    </tr>\n",
       "    <tr>\n",
       "      <th>1</th>\n",
       "      <td>9.500</td>\n",
       "      <td>44000</td>\n",
       "      <td>Diesel</td>\n",
       "      <td>Individual</td>\n",
       "      <td>Automatic</td>\n",
       "      <td>1</td>\n",
       "      <td>9</td>\n",
       "    </tr>\n",
       "  </tbody>\n",
       "</table>\n",
       "</div>"
      ],
      "text/plain": [
       "   Present_Price  Kms_Driven Fuel_Type Seller_Type Transmission  Owner  \\\n",
       "0          7.000       25000    Petrol      Dealer       Manual      0   \n",
       "1          9.500       44000    Diesel  Individual    Automatic      1   \n",
       "\n",
       "   vehicle_age  \n",
       "0            1  \n",
       "1            9  "
      ]
     },
     "execution_count": 70,
     "metadata": {},
     "output_type": "execute_result"
    }
   ],
   "source": [
    "df_samples = pd.DataFrame(samples)\n",
    "df_samples"
   ]
  },
  {
   "cell_type": "code",
   "execution_count": 71,
   "id": "6a7cd30d",
   "metadata": {
    "colab": {
     "base_uri": "https://localhost:8080/"
    },
    "executionInfo": {
     "elapsed": 4,
     "status": "ok",
     "timestamp": 1697247372705,
     "user": {
      "displayName": "Orion Cloud",
      "userId": "13399699001942214669"
     },
     "user_tz": -180
    },
    "id": "6a7cd30d",
    "outputId": "aed34fec-5690-48c9-fecc-41ca480a32b6"
   },
   "outputs": [
    {
     "data": {
      "text/plain": [
       "array([4.65 , 6.125])"
      ]
     },
     "execution_count": 71,
     "metadata": {},
     "output_type": "execute_result"
    }
   ],
   "source": [
    "pipe_model.predict(df_samples)"
   ]
  }
 ],
 "metadata": {
  "colab": {
   "provenance": []
  },
  "kernelspec": {
   "display_name": "Python 3 (ipykernel)",
   "language": "python",
   "name": "python3"
  },
  "language_info": {
   "codemirror_mode": {
    "name": "ipython",
    "version": 3
   },
   "file_extension": ".py",
   "mimetype": "text/x-python",
   "name": "python",
   "nbconvert_exporter": "python",
   "pygments_lexer": "ipython3",
   "version": "3.11.5"
  },
  "nbTranslate": {
   "displayLangs": [
    "tr",
    "en"
   ],
   "hotkey": "alt-t",
   "langInMainMenu": true,
   "sourceLang": "tr",
   "targetLang": "en",
   "useGoogleTranslate": true
  },
  "toc": {
   "base_numbering": 1,
   "nav_menu": {},
   "number_sections": true,
   "sideBar": true,
   "skip_h1_title": false,
   "title_cell": "Table of Contents",
   "title_sidebar": "Contents",
   "toc_cell": false,
   "toc_position": {},
   "toc_section_display": true,
   "toc_window_display": false
  },
  "varInspector": {
   "cols": {
    "lenName": 16,
    "lenType": 16,
    "lenVar": 40
   },
   "kernels_config": {
    "python": {
     "delete_cmd_postfix": "",
     "delete_cmd_prefix": "del ",
     "library": "var_list.py",
     "varRefreshCmd": "print(var_dic_list())"
    },
    "r": {
     "delete_cmd_postfix": ") ",
     "delete_cmd_prefix": "rm(",
     "library": "var_list.r",
     "varRefreshCmd": "cat(var_dic_list()) "
    }
   },
   "types_to_exclude": [
    "module",
    "function",
    "builtin_function_or_method",
    "instance",
    "_Feature"
   ],
   "window_display": false
  },
  "widgets": {
   "application/vnd.jupyter.widget-state+json": {
    "0f771745357f4e25b4437609fa05f545": {
     "model_module": "@jupyter-widgets/output",
     "model_module_version": "1.0.0",
     "model_name": "OutputModel",
     "state": {
      "_dom_classes": [],
      "_model_module": "@jupyter-widgets/output",
      "_model_module_version": "1.0.0",
      "_model_name": "OutputModel",
      "_view_count": null,
      "_view_module": "@jupyter-widgets/output",
      "_view_module_version": "1.0.0",
      "_view_name": "OutputView",
      "layout": "IPY_MODEL_3062ed20be3c4277a6ad82c11ab79781",
      "msg_id": "",
      "outputs": [
       {
        "data": {
         "image/png": "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\n",
         "text/plain": "<Figure size 800x550 with 1 Axes>"
        },
        "metadata": {},
        "output_type": "display_data"
       }
      ]
     }
    },
    "12f4e9d79c184a5f900086171aeb7dba": {
     "model_module": "@jupyter-widgets/controls",
     "model_module_version": "1.5.0",
     "model_name": "VBoxModel",
     "state": {
      "_dom_classes": [
       "widget-interact"
      ],
      "_model_module": "@jupyter-widgets/controls",
      "_model_module_version": "1.5.0",
      "_model_name": "VBoxModel",
      "_view_count": null,
      "_view_module": "@jupyter-widgets/controls",
      "_view_module_version": "1.5.0",
      "_view_name": "VBoxView",
      "box_style": "",
      "children": [
       "IPY_MODEL_7e6de12b08df4bf588e7f21392c5d836",
       "IPY_MODEL_0f771745357f4e25b4437609fa05f545"
      ],
      "layout": "IPY_MODEL_80b4a36e86bc490f842747a2189703ef"
     }
    },
    "3062ed20be3c4277a6ad82c11ab79781": {
     "model_module": "@jupyter-widgets/base",
     "model_module_version": "1.2.0",
     "model_name": "LayoutModel",
     "state": {
      "_model_module": "@jupyter-widgets/base",
      "_model_module_version": "1.2.0",
      "_model_name": "LayoutModel",
      "_view_count": null,
      "_view_module": "@jupyter-widgets/base",
      "_view_module_version": "1.2.0",
      "_view_name": "LayoutView",
      "align_content": null,
      "align_items": null,
      "align_self": null,
      "border": null,
      "bottom": null,
      "display": null,
      "flex": null,
      "flex_flow": null,
      "grid_area": null,
      "grid_auto_columns": null,
      "grid_auto_flow": null,
      "grid_auto_rows": null,
      "grid_column": null,
      "grid_gap": null,
      "grid_row": null,
      "grid_template_areas": null,
      "grid_template_columns": null,
      "grid_template_rows": null,
      "height": null,
      "justify_content": null,
      "justify_items": null,
      "left": null,
      "margin": null,
      "max_height": null,
      "max_width": null,
      "min_height": null,
      "min_width": null,
      "object_fit": null,
      "object_position": null,
      "order": null,
      "overflow": null,
      "overflow_x": null,
      "overflow_y": null,
      "padding": null,
      "right": null,
      "top": null,
      "visibility": null,
      "width": null
     }
    },
    "6499fec2c4014b8baaee9095f2e38e4d": {
     "model_module": "@jupyter-widgets/base",
     "model_module_version": "1.2.0",
     "model_name": "LayoutModel",
     "state": {
      "_model_module": "@jupyter-widgets/base",
      "_model_module_version": "1.2.0",
      "_model_name": "LayoutModel",
      "_view_count": null,
      "_view_module": "@jupyter-widgets/base",
      "_view_module_version": "1.2.0",
      "_view_name": "LayoutView",
      "align_content": null,
      "align_items": null,
      "align_self": null,
      "border": null,
      "bottom": null,
      "display": null,
      "flex": null,
      "flex_flow": null,
      "grid_area": null,
      "grid_auto_columns": null,
      "grid_auto_flow": null,
      "grid_auto_rows": null,
      "grid_column": null,
      "grid_gap": null,
      "grid_row": null,
      "grid_template_areas": null,
      "grid_template_columns": null,
      "grid_template_rows": null,
      "height": null,
      "justify_content": null,
      "justify_items": null,
      "left": null,
      "margin": null,
      "max_height": null,
      "max_width": null,
      "min_height": null,
      "min_width": null,
      "object_fit": null,
      "object_position": null,
      "order": null,
      "overflow": null,
      "overflow_x": null,
      "overflow_y": null,
      "padding": null,
      "right": null,
      "top": null,
      "visibility": null,
      "width": null
     }
    },
    "7e6de12b08df4bf588e7f21392c5d836": {
     "model_module": "@jupyter-widgets/controls",
     "model_module_version": "1.5.0",
     "model_name": "DropdownModel",
     "state": {
      "_dom_classes": [],
      "_model_module": "@jupyter-widgets/controls",
      "_model_module_version": "1.5.0",
      "_model_name": "DropdownModel",
      "_options_labels": [
       "squared_error",
       "friedman_mse",
       "absolute_error",
       "poisson"
      ],
      "_view_count": null,
      "_view_module": "@jupyter-widgets/controls",
      "_view_module_version": "1.5.0",
      "_view_name": "DropdownView",
      "description": "Criterion:",
      "description_tooltip": null,
      "disabled": false,
      "index": 2,
      "layout": "IPY_MODEL_6499fec2c4014b8baaee9095f2e38e4d",
      "style": "IPY_MODEL_e2c66c0af13e41dca660397d15430ea4"
     }
    },
    "80b4a36e86bc490f842747a2189703ef": {
     "model_module": "@jupyter-widgets/base",
     "model_module_version": "1.2.0",
     "model_name": "LayoutModel",
     "state": {
      "_model_module": "@jupyter-widgets/base",
      "_model_module_version": "1.2.0",
      "_model_name": "LayoutModel",
      "_view_count": null,
      "_view_module": "@jupyter-widgets/base",
      "_view_module_version": "1.2.0",
      "_view_name": "LayoutView",
      "align_content": null,
      "align_items": null,
      "align_self": null,
      "border": null,
      "bottom": null,
      "display": null,
      "flex": null,
      "flex_flow": null,
      "grid_area": null,
      "grid_auto_columns": null,
      "grid_auto_flow": null,
      "grid_auto_rows": null,
      "grid_column": null,
      "grid_gap": null,
      "grid_row": null,
      "grid_template_areas": null,
      "grid_template_columns": null,
      "grid_template_rows": null,
      "height": null,
      "justify_content": null,
      "justify_items": null,
      "left": null,
      "margin": null,
      "max_height": null,
      "max_width": null,
      "min_height": null,
      "min_width": null,
      "object_fit": null,
      "object_position": null,
      "order": null,
      "overflow": null,
      "overflow_x": null,
      "overflow_y": null,
      "padding": null,
      "right": null,
      "top": null,
      "visibility": null,
      "width": null
     }
    },
    "e2c66c0af13e41dca660397d15430ea4": {
     "model_module": "@jupyter-widgets/controls",
     "model_module_version": "1.5.0",
     "model_name": "DescriptionStyleModel",
     "state": {
      "_model_module": "@jupyter-widgets/controls",
      "_model_module_version": "1.5.0",
      "_model_name": "DescriptionStyleModel",
      "_view_count": null,
      "_view_module": "@jupyter-widgets/base",
      "_view_module_version": "1.2.0",
      "_view_name": "StyleView",
      "description_width": ""
     }
    }
   }
  }
 },
 "nbformat": 4,
 "nbformat_minor": 5
}
